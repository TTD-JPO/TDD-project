{
  "nbformat": 4,
  "nbformat_minor": 0,
  "metadata": {
    "colab": {
      "name": "Petra von Main_TweetDisasterDetection.ipynb",
      "provenance": [],
      "collapsed_sections": [],
      "include_colab_link": true
    },
    "kernelspec": {
      "name": "python3",
      "display_name": "Python 3"
    }
  },
  "cells": [
    {
      "cell_type": "markdown",
      "metadata": {
        "id": "view-in-github",
        "colab_type": "text"
      },
      "source": [
        "<a href=\"https://colab.research.google.com/github/TTD-JPO/TDD-project/blob/petra/Petra_von_Main_TweetDisasterDetection.ipynb\" target=\"_parent\"><img src=\"https://colab.research.google.com/assets/colab-badge.svg\" alt=\"Open In Colab\"/></a>"
      ]
    },
    {
      "cell_type": "markdown",
      "metadata": {
        "id": "4XdQYLfRvr15"
      },
      "source": [
        "# <center>Twitter Disaster Detection\n",
        "\n",
        "<center>"
      ]
    },
    {
      "cell_type": "markdown",
      "metadata": {
        "id": "P2yOg5qUI4w7"
      },
      "source": [
        "# Load Libs"
      ]
    },
    {
      "cell_type": "code",
      "metadata": {
        "id": "62jrF4rfJL0g"
      },
      "source": [
        "import pandas as pd\n",
        "import numpy as np\n",
        "import matplotlib.pyplot as plt\n",
        "import seaborn as sns\n",
        "\n",
        "from datetime import timedelta, time"
      ],
      "execution_count": null,
      "outputs": []
    },
    {
      "cell_type": "code",
      "metadata": {
        "id": "i2Nfud6cMzXq"
      },
      "source": [
        "from sklearn.pipeline import make_pipeline\n",
        "\n",
        "from sklearn.model_selection import cross_val_score\n",
        "from sklearn.linear_model import LogisticRegression\n",
        "from sklearn.model_selection import train_test_split\n",
        "from sklearn.metrics import accuracy_score, r2_score, plot_confusion_matrix\n",
        "\n",
        "from sklearn.naive_bayes import CategoricalNB, MultinomialNB, BernoulliNB\n",
        "from sklearn.feature_extraction.text import CountVectorizer, TfidfVectorizer\n",
        "\n",
        "#cv = CountVectorizer()\n",
        "#bow_cv = cv.fit_transform(df[\"_lemmatized\"])"
      ],
      "execution_count": null,
      "outputs": []
    },
    {
      "cell_type": "markdown",
      "metadata": {
        "id": "Y1DUVvi0om5n"
      },
      "source": [
        "## Helper function"
      ]
    },
    {
      "cell_type": "code",
      "metadata": {
        "id": "SZ84NmUz_Kzt",
        "outputId": "1a8c3b26-c1e5-4301-b603-07f588ba314a",
        "colab": {
          "base_uri": "https://localhost:8080/",
          "height": 84
        }
      },
      "source": [
        "import re\n",
        "\n",
        "import nltk\n",
        "nltk.download('stopwords')\n",
        "from nltk.corpus import stopwords\n",
        "from nltk.stem import WordNetLemmatizer\n",
        "nltk.download('wordnet')\n",
        "lemmatizer = WordNetLemmatizer()\n",
        "\n",
        "\n",
        "def clean_text(text):\n",
        "  # get rid of all unwanted punctuation and digits\n",
        "  text = text.replace(\"´\", \"'\")\n",
        "\n",
        "  digi_punct = \"[^a-zA-Z' ]\"\n",
        "  text = re.sub(digi_punct, \" \", text)\n",
        "  text = \" \".join(text.split())\n",
        "  text = text.lower()\n",
        "\n",
        "  return text\n",
        "\n",
        "def my_df_text_mining(df, col):\n",
        "  lemmatizer = WordNetLemmatizer()\n",
        "  my_stopwords = stopwords.words(\"english\")\n",
        "  \n",
        "  df[\"_no_stopwords\"] = df[col].apply(             lambda texxt: \" \".join([word for word in clean_text(texxt).split() if word not in my_stopwords]))\n",
        "  df[col]             = df[\"_no_stopwords\"].apply( lambda texxt: \" \".join([lemmatizer.lemmatize(word) for word in texxt.split()]) )\n",
        "\n",
        "  return df.drop([\"_no_stopwords\"], axis=1)"
      ],
      "execution_count": null,
      "outputs": [
        {
          "output_type": "stream",
          "text": [
            "[nltk_data] Downloading package stopwords to /root/nltk_data...\n",
            "[nltk_data]   Package stopwords is already up-to-date!\n",
            "[nltk_data] Downloading package wordnet to /root/nltk_data...\n",
            "[nltk_data]   Package wordnet is already up-to-date!\n"
          ],
          "name": "stdout"
        }
      ]
    },
    {
      "cell_type": "markdown",
      "metadata": {
        "id": "iRaNbVPpJAk9"
      },
      "source": [
        "# Load data"
      ]
    },
    {
      "cell_type": "markdown",
      "metadata": {
        "id": "ENvKDlwXrXAH"
      },
      "source": [
        "[Link to data (csv) @google drive](https://drive.google.com/file/d/1QPragNh_wYQVsXQvds8sqjDMfzARD638/view?usp=sharing)\n"
      ]
    },
    {
      "cell_type": "code",
      "metadata": {
        "id": "jAUe5gnhWgAG"
      },
      "source": [
        "url = 'https://raw.githubusercontent.com/TTD-JPO/TDD-project/main/disaster_tweets.csv'\n",
        "disaster_tweets = pd.read_csv(url, encoding='latin-1')"
      ],
      "execution_count": null,
      "outputs": []
    },
    {
      "cell_type": "markdown",
      "metadata": {
        "id": "39jRgJbZJWpX"
      },
      "source": [
        "# Evaluate data"
      ]
    },
    {
      "cell_type": "markdown",
      "metadata": {
        "id": "Hi_PYl1s_hP5"
      },
      "source": [
        "## add main"
      ]
    },
    {
      "cell_type": "code",
      "metadata": {
        "id": "yv9NRh7Vwn6t",
        "outputId": "14c0a6b4-c867-453d-f81b-31f18ca0a77e",
        "colab": {
          "base_uri": "https://localhost:8080/",
          "height": 218
        }
      },
      "source": [
        "disaster_tweets.info()"
      ],
      "execution_count": null,
      "outputs": [
        {
          "output_type": "stream",
          "text": [
            "<class 'pandas.core.frame.DataFrame'>\n",
            "RangeIndex: 7613 entries, 0 to 7612\n",
            "Data columns (total 5 columns):\n",
            " #   Column    Non-Null Count  Dtype \n",
            "---  ------    --------------  ----- \n",
            " 0   id        7613 non-null   int64 \n",
            " 1   keyword   7552 non-null   object\n",
            " 2   location  5080 non-null   object\n",
            " 3   text      7613 non-null   object\n",
            " 4   target    7613 non-null   int64 \n",
            "dtypes: int64(2), object(3)\n",
            "memory usage: 297.5+ KB\n"
          ],
          "name": "stdout"
        }
      ]
    },
    {
      "cell_type": "markdown",
      "metadata": {
        "id": "-cf2K71X_dgX"
      },
      "source": [
        "#in main"
      ]
    },
    {
      "cell_type": "code",
      "metadata": {
        "id": "QZqYCDfCwx93",
        "outputId": "027a1a37-3a97-4619-b2b4-9bc9679b57e3",
        "colab": {
          "base_uri": "https://localhost:8080/",
          "height": 50
        }
      },
      "source": [
        "print( \"absolute number of disaster indicated messages:\", disaster_tweets.target.sum() )\n",
        "print( f\"relative number of disaster indicated messages: {disaster_tweets.target.sum() / disaster_tweets.shape[0] :0.3f}\" )"
      ],
      "execution_count": null,
      "outputs": [
        {
          "output_type": "stream",
          "text": [
            "absolute number of disaster indicated messages: 3271\n",
            "relative number of disaster indicated messages: 0.430\n"
          ],
          "name": "stdout"
        }
      ]
    },
    {
      "cell_type": "code",
      "metadata": {
        "id": "F6uPwdhszFtK"
      },
      "source": [
        "keys      = list(disaster_tweets.keyword.unique() )\n",
        "locations = list(disaster_tweets.location.unique() )"
      ],
      "execution_count": null,
      "outputs": []
    },
    {
      "cell_type": "code",
      "metadata": {
        "id": "DPVGQ418uYJj",
        "outputId": "9f0b3425-deca-4205-cf58-ac0c3bfe95b2",
        "colab": {
          "base_uri": "https://localhost:8080/",
          "height": 235
        }
      },
      "source": [
        "disaster_tweets.groupby('keyword').target.count().sort_values(ascending=False)"
      ],
      "execution_count": null,
      "outputs": [
        {
          "output_type": "execute_result",
          "data": {
            "text/plain": [
              "keyword\n",
              "fatalities               45\n",
              "deluge                   42\n",
              "armageddon               42\n",
              "body%20bags              41\n",
              "sinking                  41\n",
              "                         ..\n",
              "forest%20fire            19\n",
              "epicentre                12\n",
              "threat                   11\n",
              "inundation               10\n",
              "radiation%20emergency     9\n",
              "Name: target, Length: 221, dtype: int64"
            ]
          },
          "metadata": {
            "tags": []
          },
          "execution_count": 76
        }
      ]
    },
    {
      "cell_type": "code",
      "metadata": {
        "id": "u4fk_EELupKD",
        "outputId": "e1371c58-b241-46d7-b9fb-20c4fdd9d5c4",
        "colab": {
          "base_uri": "https://localhost:8080/",
          "height": 235
        }
      },
      "source": [
        "disaster_tweets.groupby('location').target.count().sort_values(ascending=False)"
      ],
      "execution_count": null,
      "outputs": [
        {
          "output_type": "execute_result",
          "data": {
            "text/plain": [
              "location\n",
              "USA                            104\n",
              "New York                        71\n",
              "United States                   50\n",
              "London                          45\n",
              "Canada                          29\n",
              "                              ... \n",
              "Republica Dominicana             1\n",
              "Republic of the Philippines      1\n",
              "Regalo Island                    1\n",
              "Redondo Beach, CA                1\n",
              "                                 1\n",
              "Name: target, Length: 3341, dtype: int64"
            ]
          },
          "metadata": {
            "tags": []
          },
          "execution_count": 77
        }
      ]
    },
    {
      "cell_type": "code",
      "metadata": {
        "id": "eOgyt3aj5EZV",
        "outputId": "49200803-e97b-4305-b7f1-01538e6644e3",
        "colab": {
          "base_uri": "https://localhost:8080/",
          "height": 53
        }
      },
      "source": [
        "display( f\"relative number of keyword   messages: {disaster_tweets.keyword.nunique()  / disaster_tweets.shape[0] :0.3f}\" )\n",
        "display( f\"relative number of location  messages: {disaster_tweets.location.nunique() / disaster_tweets.shape[0] :0.3f}\" )"
      ],
      "execution_count": null,
      "outputs": [
        {
          "output_type": "display_data",
          "data": {
            "application/vnd.google.colaboratory.intrinsic+json": {
              "type": "string"
            },
            "text/plain": [
              "'relative number of keyword   messages: 0.029'"
            ]
          },
          "metadata": {
            "tags": []
          }
        },
        {
          "output_type": "display_data",
          "data": {
            "application/vnd.google.colaboratory.intrinsic+json": {
              "type": "string"
            },
            "text/plain": [
              "'relative number of location  messages: 0.439'"
            ]
          },
          "metadata": {
            "tags": []
          }
        }
      ]
    },
    {
      "cell_type": "code",
      "metadata": {
        "id": "N3FC1viZFsoY"
      },
      "source": [
        "### we might do these steps later after having processed the text :)\n",
        "#dt = disaster_tweets.copy()"
      ],
      "execution_count": null,
      "outputs": []
    },
    {
      "cell_type": "markdown",
      "metadata": {
        "id": "T6__0fjdf3gT"
      },
      "source": [
        "##clean"
      ]
    },
    {
      "cell_type": "code",
      "metadata": {
        "id": "t8MoY936GoQL"
      },
      "source": [
        "dt = my_df_text_mining(disaster_tweets, 'text')"
      ],
      "execution_count": null,
      "outputs": []
    },
    {
      "cell_type": "code",
      "metadata": {
        "id": "d1qXobHurZpS",
        "outputId": "b0d2137f-2f15-482c-ced6-ec6ca1f7140c",
        "colab": {
          "base_uri": "https://localhost:8080/",
          "height": 136
        }
      },
      "source": [
        "dt.tail(3)"
      ],
      "execution_count": null,
      "outputs": [
        {
          "output_type": "execute_result",
          "data": {
            "text/html": [
              "<div>\n",
              "<style scoped>\n",
              "    .dataframe tbody tr th:only-of-type {\n",
              "        vertical-align: middle;\n",
              "    }\n",
              "\n",
              "    .dataframe tbody tr th {\n",
              "        vertical-align: top;\n",
              "    }\n",
              "\n",
              "    .dataframe thead th {\n",
              "        text-align: right;\n",
              "    }\n",
              "</style>\n",
              "<table border=\"1\" class=\"dataframe\">\n",
              "  <thead>\n",
              "    <tr style=\"text-align: right;\">\n",
              "      <th></th>\n",
              "      <th>id</th>\n",
              "      <th>keyword</th>\n",
              "      <th>location</th>\n",
              "      <th>text</th>\n",
              "      <th>target</th>\n",
              "    </tr>\n",
              "  </thead>\n",
              "  <tbody>\n",
              "    <tr>\n",
              "      <th>7610</th>\n",
              "      <td>10871</td>\n",
              "      <td>NaN</td>\n",
              "      <td>NaN</td>\n",
              "      <td>utc km volcano hawaii http co zdtoyd ebj</td>\n",
              "      <td>1</td>\n",
              "    </tr>\n",
              "    <tr>\n",
              "      <th>7611</th>\n",
              "      <td>10872</td>\n",
              "      <td>NaN</td>\n",
              "      <td>NaN</td>\n",
              "      <td>police investigating e bike collided car littl...</td>\n",
              "      <td>1</td>\n",
              "    </tr>\n",
              "    <tr>\n",
              "      <th>7612</th>\n",
              "      <td>10873</td>\n",
              "      <td>NaN</td>\n",
              "      <td>NaN</td>\n",
              "      <td>latest home razed northern california wildfire...</td>\n",
              "      <td>1</td>\n",
              "    </tr>\n",
              "  </tbody>\n",
              "</table>\n",
              "</div>"
            ],
            "text/plain": [
              "         id keyword  ...                                               text target\n",
              "7610  10871     NaN  ...           utc km volcano hawaii http co zdtoyd ebj      1\n",
              "7611  10872     NaN  ...  police investigating e bike collided car littl...      1\n",
              "7612  10873     NaN  ...  latest home razed northern california wildfire...      1\n",
              "\n",
              "[3 rows x 5 columns]"
            ]
          },
          "metadata": {
            "tags": []
          },
          "execution_count": 81
        }
      ]
    },
    {
      "cell_type": "markdown",
      "metadata": {
        "id": "Kx4NiLHpwMdC"
      },
      "source": [
        "##NLP keyword, localization"
      ]
    },
    {
      "cell_type": "code",
      "metadata": {
        "id": "OBXG7ES_4JJL"
      },
      "source": [
        "missing_cols = ['keyword', 'location']"
      ],
      "execution_count": null,
      "outputs": []
    },
    {
      "cell_type": "code",
      "metadata": {
        "id": "FBeHgEGF4Jg_"
      },
      "source": [
        "X_train, y_test = train_test_split(disaster_tweets,\n",
        "                  test_size=0.2,\n",
        "                  random_state=314159)"
      ],
      "execution_count": null,
      "outputs": []
    },
    {
      "cell_type": "code",
      "metadata": {
        "id": "8qWjnotT3aqY",
        "outputId": "d3c5e7c4-a84d-4817-ac2d-049aaa7e89f4",
        "colab": {
          "base_uri": "https://localhost:8080/",
          "height": 257
        }
      },
      "source": [
        "missing_cols = ['keyword', 'location']\n",
        "\n",
        "fig, axes = plt.subplots(ncols=2, figsize=(10, 3), dpi=80)\n",
        "\n",
        "sns.barplot(x=X_train[missing_cols].isnull().sum().index, y=X_train[missing_cols].isnull().sum().values, ax=axes[0])\n",
        "sns.barplot(x=y_test[missing_cols].isnull().sum().index, y=y_test[missing_cols].isnull().sum().values, ax=axes[1])\n",
        "\n",
        "axes[0].set_ylabel('Missing Value Count', size=15, labelpad=20)\n",
        "axes[0].tick_params(axis='x', labelsize=15)\n",
        "axes[0].tick_params(axis='y', labelsize=15)\n",
        "axes[1].tick_params(axis='x', labelsize=15)\n",
        "axes[1].tick_params(axis='y', labelsize=15)\n",
        "\n",
        "axes[0].set_title('Training Set', fontsize=13)\n",
        "axes[1].set_title('Test Set', fontsize=13)\n",
        "\n",
        "plt.show()"
      ],
      "execution_count": null,
      "outputs": [
        {
          "output_type": "display_data",
          "data": {
            "image/png": "[encoded data removed]",
            "text/plain": [
              "<Figure size 800x240 with 2 Axes>"
            ]
          },
          "metadata": {
            "tags": [],
            "needs_background": "light"
          }
        }
      ]
    },
    {
      "cell_type": "code",
      "metadata": {
        "id": "UxF5LXTn-H-D",
        "outputId": "a9a13c3f-7d4f-4ad3-f7b3-1ef63739d4d4",
        "colab": {
          "base_uri": "https://localhost:8080/",
          "height": 118
        }
      },
      "source": [
        "# nan\n",
        "for df in [X_train, y_test]:\n",
        "    for col in ['keyword', 'location']:\n",
        "        df[col] = df[col].fillna(f'no_{col}');"
      ],
      "execution_count": null,
      "outputs": [
        {
          "output_type": "stream",
          "text": [
            "/usr/local/lib/python3.6/dist-packages/ipykernel_launcher.py:4: SettingWithCopyWarning: \n",
            "A value is trying to be set on a copy of a slice from a DataFrame.\n",
            "Try using .loc[row_indexer,col_indexer] = value instead\n",
            "\n",
            "See the caveats in the documentation: https://pandas.pydata.org/pandas-docs/stable/user_guide/indexing.html#returning-a-view-versus-a-copy\n",
            "  after removing the cwd from sys.path.\n"
          ],
          "name": "stderr"
        }
      ]
    },
    {
      "cell_type": "code",
      "metadata": {
        "id": "7W7fZIcP6MP1",
        "outputId": "268d3a65-f9fb-4d7e-8585-723bac063bd9",
        "colab": {
          "base_uri": "https://localhost:8080/",
          "height": 54
        }
      },
      "source": [
        "print(sorted(X_train['keyword'].unique()))"
      ],
      "execution_count": null,
      "outputs": [
        {
          "output_type": "stream",
          "text": [
            "['ablaze', 'accident', 'aftershock', 'airplane%20accident', 'ambulance', 'annihilated', 'annihilation', 'apocalypse', 'armageddon', 'army', 'arson', 'arsonist', 'attack', 'attacked', 'avalanche', 'battle', 'bioterror', 'bioterrorism', 'blaze', 'blazing', 'bleeding', 'blew%20up', 'blight', 'blizzard', 'blood', 'bloody', 'blown%20up', 'body%20bag', 'body%20bagging', 'body%20bags', 'bomb', 'bombed', 'bombing', 'bridge%20collapse', 'buildings%20burning', 'buildings%20on%20fire', 'burned', 'burning', 'burning%20buildings', 'bush%20fires', 'casualties', 'casualty', 'catastrophe', 'catastrophic', 'chemical%20emergency', 'cliff%20fall', 'collapse', 'collapsed', 'collide', 'collided', 'collision', 'crash', 'crashed', 'crush', 'crushed', 'curfew', 'cyclone', 'damage', 'danger', 'dead', 'death', 'deaths', 'debris', 'deluge', 'deluged', 'demolish', 'demolished', 'demolition', 'derail', 'derailed', 'derailment', 'desolate', 'desolation', 'destroy', 'destroyed', 'destruction', 'detonate', 'detonation', 'devastated', 'devastation', 'disaster', 'displaced', 'drought', 'drown', 'drowned', 'drowning', 'dust%20storm', 'earthquake', 'electrocute', 'electrocuted', 'emergency', 'emergency%20plan', 'emergency%20services', 'engulfed', 'epicentre', 'evacuate', 'evacuated', 'evacuation', 'explode', 'exploded', 'explosion', 'eyewitness', 'famine', 'fatal', 'fatalities', 'fatality', 'fear', 'fire', 'fire%20truck', 'first%20responders', 'flames', 'flattened', 'flood', 'flooding', 'floods', 'forest%20fire', 'forest%20fires', 'hail', 'hailstorm', 'harm', 'hazard', 'hazardous', 'heat%20wave', 'hellfire', 'hijack', 'hijacker', 'hijacking', 'hostage', 'hostages', 'hurricane', 'injured', 'injuries', 'injury', 'inundated', 'inundation', 'landslide', 'lava', 'lightning', 'loud%20bang', 'mass%20murder', 'mass%20murderer', 'massacre', 'mayhem', 'meltdown', 'military', 'mudslide', 'natural%20disaster', 'no_keyword', 'nuclear%20disaster', 'nuclear%20reactor', 'obliterate', 'obliterated', 'obliteration', 'oil%20spill', 'outbreak', 'pandemonium', 'panic', 'panicking', 'police', 'quarantine', 'quarantined', 'radiation%20emergency', 'rainstorm', 'razed', 'refugees', 'rescue', 'rescued', 'rescuers', 'riot', 'rioting', 'rubble', 'ruin', 'sandstorm', 'screamed', 'screaming', 'screams', 'seismic', 'sinkhole', 'sinking', 'siren', 'sirens', 'smoke', 'snowstorm', 'storm', 'stretcher', 'structural%20failure', 'suicide%20bomb', 'suicide%20bomber', 'suicide%20bombing', 'sunk', 'survive', 'survived', 'survivors', 'terrorism', 'terrorist', 'threat', 'thunder', 'thunderstorm', 'tornado', 'tragedy', 'trapped', 'trauma', 'traumatised', 'trouble', 'tsunami', 'twister', 'typhoon', 'upheaval', 'violent%20storm', 'volcano', 'war%20zone', 'weapon', 'weapons', 'whirlwind', 'wild%20fires', 'wildfire', 'windstorm', 'wounded', 'wounds', 'wreck', 'wreckage', 'wrecked']\n"
          ],
          "name": "stdout"
        }
      ]
    },
    {
      "cell_type": "code",
      "metadata": {
        "id": "Lvn6yrjzBBSa",
        "outputId": "0ae2c30b-b154-4618-b8b1-db554259f849",
        "colab": {
          "base_uri": "https://localhost:8080/",
          "height": 195
        }
      },
      "source": [
        "X_train.head()"
      ],
      "execution_count": null,
      "outputs": [
        {
          "output_type": "execute_result",
          "data": {
            "text/html": [
              "<div>\n",
              "<style scoped>\n",
              "    .dataframe tbody tr th:only-of-type {\n",
              "        vertical-align: middle;\n",
              "    }\n",
              "\n",
              "    .dataframe tbody tr th {\n",
              "        vertical-align: top;\n",
              "    }\n",
              "\n",
              "    .dataframe thead th {\n",
              "        text-align: right;\n",
              "    }\n",
              "</style>\n",
              "<table border=\"1\" class=\"dataframe\">\n",
              "  <thead>\n",
              "    <tr style=\"text-align: right;\">\n",
              "      <th></th>\n",
              "      <th>id</th>\n",
              "      <th>keyword</th>\n",
              "      <th>location</th>\n",
              "      <th>text</th>\n",
              "      <th>target</th>\n",
              "      <th>_no_stopwords</th>\n",
              "    </tr>\n",
              "  </thead>\n",
              "  <tbody>\n",
              "    <tr>\n",
              "      <th>5474</th>\n",
              "      <td>7812</td>\n",
              "      <td>quarantine</td>\n",
              "      <td>no_location</td>\n",
              "      <td>reddit update content policy promise quarantin...</td>\n",
              "      <td>0</td>\n",
              "      <td>reddit updates content policy promises quarant...</td>\n",
              "    </tr>\n",
              "    <tr>\n",
              "      <th>5687</th>\n",
              "      <td>8116</td>\n",
              "      <td>rescued</td>\n",
              "      <td>southern california</td>\n",
              "      <td>brave little dog get rescued river recovery in...</td>\n",
              "      <td>0</td>\n",
              "      <td>brave little dog gets rescued river recovery i...</td>\n",
              "    </tr>\n",
              "    <tr>\n",
              "      <th>4261</th>\n",
              "      <td>6055</td>\n",
              "      <td>heat%20wave</td>\n",
              "      <td>Somewhere in Spain</td>\n",
              "      <td>klarajoelsson well seen that's bummer we've he...</td>\n",
              "      <td>1</td>\n",
              "      <td>klarajoelsson well seen that's bummer we've he...</td>\n",
              "    </tr>\n",
              "    <tr>\n",
              "      <th>6932</th>\n",
              "      <td>9942</td>\n",
              "      <td>trouble</td>\n",
              "      <td>no_location</td>\n",
              "      <td>charleyisqueen yeah well maybe barber cut hair...</td>\n",
              "      <td>0</td>\n",
              "      <td>charleyisqueen yeah well maybe barber cut hair...</td>\n",
              "    </tr>\n",
              "    <tr>\n",
              "      <th>7239</th>\n",
              "      <td>10367</td>\n",
              "      <td>weapons</td>\n",
              "      <td>West</td>\n",
              "      <td>wwii memory plus lesson hiroshima still need n...</td>\n",
              "      <td>1</td>\n",
              "      <td>wwii memories plus lessons hiroshima still nee...</td>\n",
              "    </tr>\n",
              "  </tbody>\n",
              "</table>\n",
              "</div>"
            ],
            "text/plain": [
              "         id  ...                                      _no_stopwords\n",
              "5474   7812  ...  reddit updates content policy promises quarant...\n",
              "5687   8116  ...  brave little dog gets rescued river recovery i...\n",
              "4261   6055  ...  klarajoelsson well seen that's bummer we've he...\n",
              "6932   9942  ...  charleyisqueen yeah well maybe barber cut hair...\n",
              "7239  10367  ...  wwii memories plus lessons hiroshima still nee...\n",
              "\n",
              "[5 rows x 6 columns]"
            ]
          },
          "metadata": {
            "tags": []
          },
          "execution_count": 91
        }
      ]
    },
    {
      "cell_type": "markdown",
      "metadata": {
        "id": "wbATbPW_-sJD"
      },
      "source": [
        "### fillna 'keyword', 'location' in disaster_tweets (gesamte Datei)"
      ]
    },
    {
      "cell_type": "code",
      "metadata": {
        "id": "sFZjiKBQ9-Am"
      },
      "source": [
        "for col in  missing_cols:\n",
        "    disaster_tweets[col] = disaster_tweets[col].fillna(f'no_{col}')"
      ],
      "execution_count": null,
      "outputs": []
    },
    {
      "cell_type": "code",
      "metadata": {
        "id": "EAPgm212ArXJ",
        "outputId": "3cbe5711-b911-4506-d59d-610fc4c4d619",
        "colab": {
          "base_uri": "https://localhost:8080/",
          "height": 34
        }
      },
      "source": [
        "len(sorted(disaster_tweets['keyword'].unique()))"
      ],
      "execution_count": null,
      "outputs": [
        {
          "output_type": "execute_result",
          "data": {
            "text/plain": [
              "212"
            ]
          },
          "metadata": {
            "tags": []
          },
          "execution_count": 100
        }
      ]
    },
    {
      "cell_type": "code",
      "metadata": {
        "id": "IGdgbZjn6_Uc"
      },
      "source": [
        "####geht nicht siehe nachfolgende Zelle\n",
        "dt_keywords = my_df_text_mining(disaster_tweets, 'keyword')"
      ],
      "execution_count": null,
      "outputs": []
    },
    {
      "cell_type": "code",
      "metadata": {
        "id": "aCs5mcZJAFJC",
        "outputId": "07909682-a324-4556-f3b6-11e679deb003",
        "colab": {
          "base_uri": "https://localhost:8080/",
          "height": 195
        }
      },
      "source": [
        "dt_keywords.head()"
      ],
      "execution_count": null,
      "outputs": [
        {
          "output_type": "execute_result",
          "data": {
            "text/html": [
              "<div>\n",
              "<style scoped>\n",
              "    .dataframe tbody tr th:only-of-type {\n",
              "        vertical-align: middle;\n",
              "    }\n",
              "\n",
              "    .dataframe tbody tr th {\n",
              "        vertical-align: top;\n",
              "    }\n",
              "\n",
              "    .dataframe thead th {\n",
              "        text-align: right;\n",
              "    }\n",
              "</style>\n",
              "<table border=\"1\" class=\"dataframe\">\n",
              "  <thead>\n",
              "    <tr style=\"text-align: right;\">\n",
              "      <th></th>\n",
              "      <th>id</th>\n",
              "      <th>keyword</th>\n",
              "      <th>location</th>\n",
              "      <th>text</th>\n",
              "      <th>target</th>\n",
              "    </tr>\n",
              "  </thead>\n",
              "  <tbody>\n",
              "    <tr>\n",
              "      <th>0</th>\n",
              "      <td>1</td>\n",
              "      <td>keyword</td>\n",
              "      <td>no_location</td>\n",
              "      <td>deed reason earthquake may allah forgive u</td>\n",
              "      <td>1</td>\n",
              "    </tr>\n",
              "    <tr>\n",
              "      <th>1</th>\n",
              "      <td>4</td>\n",
              "      <td>keyword</td>\n",
              "      <td>no_location</td>\n",
              "      <td>forest fire near la ronge sask canada</td>\n",
              "      <td>1</td>\n",
              "    </tr>\n",
              "    <tr>\n",
              "      <th>2</th>\n",
              "      <td>5</td>\n",
              "      <td>keyword</td>\n",
              "      <td>no_location</td>\n",
              "      <td>resident asked 'shelter place' notified office...</td>\n",
              "      <td>1</td>\n",
              "    </tr>\n",
              "    <tr>\n",
              "      <th>3</th>\n",
              "      <td>6</td>\n",
              "      <td>keyword</td>\n",
              "      <td>no_location</td>\n",
              "      <td>people receive wildfire evacuation order calif...</td>\n",
              "      <td>1</td>\n",
              "    </tr>\n",
              "    <tr>\n",
              "      <th>4</th>\n",
              "      <td>7</td>\n",
              "      <td>keyword</td>\n",
              "      <td>no_location</td>\n",
              "      <td>got sent photo ruby alaska smoke wildfire pour...</td>\n",
              "      <td>1</td>\n",
              "    </tr>\n",
              "  </tbody>\n",
              "</table>\n",
              "</div>"
            ],
            "text/plain": [
              "   id  keyword  ...                                               text target\n",
              "0   1  keyword  ...         deed reason earthquake may allah forgive u      1\n",
              "1   4  keyword  ...              forest fire near la ronge sask canada      1\n",
              "2   5  keyword  ...  resident asked 'shelter place' notified office...      1\n",
              "3   6  keyword  ...  people receive wildfire evacuation order calif...      1\n",
              "4   7  keyword  ...  got sent photo ruby alaska smoke wildfire pour...      1\n",
              "\n",
              "[5 rows x 5 columns]"
            ]
          },
          "metadata": {
            "tags": []
          },
          "execution_count": 102
        }
      ]
    },
    {
      "cell_type": "code",
      "metadata": {
        "id": "rfuR486N_IzX",
        "outputId": "ed8272de-ac30-4f50-f65a-cc64af69b373",
        "colab": {
          "base_uri": "https://localhost:8080/",
          "height": 185
        }
      },
      "source": [
        "sorted(disaster_tweets['keyword'].unique())[:10]"
      ],
      "execution_count": null,
      "outputs": [
        {
          "output_type": "execute_result",
          "data": {
            "text/plain": [
              "['ablaze',\n",
              " 'accident',\n",
              " 'aftershock',\n",
              " 'airplane accident',\n",
              " 'ambulance',\n",
              " 'annihilated',\n",
              " 'annihilation',\n",
              " 'apocalypse',\n",
              " 'armageddon',\n",
              " 'army']"
            ]
          },
          "metadata": {
            "tags": []
          },
          "execution_count": 64
        }
      ]
    },
    {
      "cell_type": "markdown",
      "metadata": {
        "id": "SpCfvPm3gazI"
      },
      "source": [
        "###split\n"
      ]
    },
    {
      "cell_type": "code",
      "metadata": {
        "id": "UWwFaeG5xz63"
      },
      "source": [
        "### ist durch zelle mit missing col überflüssig\n",
        "no_keyword_ = dt[  dt.keyword.isna()]\n",
        "keyword_    = dt[ ~dt.keyword.isna()]"
      ],
      "execution_count": null,
      "outputs": []
    },
    {
      "cell_type": "code",
      "metadata": {
        "id": "5-W86hUzCnc6"
      },
      "source": [
        "### ist durch zelle mit missing col überflüssig\n",
        "no_location_ = dt[  dt.location.isna()]\n",
        "location_    = dt[ ~dt.location.isna()]"
      ],
      "execution_count": null,
      "outputs": []
    },
    {
      "cell_type": "code",
      "metadata": {
        "id": "p1kbJHcwFH7I"
      },
      "source": [
        "no_target_ = dt[ dt.target == 0]\n",
        "target_    = dt[ dt.target == 1]"
      ],
      "execution_count": null,
      "outputs": []
    },
    {
      "cell_type": "markdown",
      "metadata": {
        "id": "B3WTXUKlgfNm"
      },
      "source": [
        "### lemmatized"
      ]
    },
    {
      "cell_type": "code",
      "metadata": {
        "id": "eafYLGmvCvoK"
      },
      "source": [
        "location_"
      ],
      "execution_count": null,
      "outputs": []
    },
    {
      "cell_type": "code",
      "metadata": {
        "id": "xlvakSroNjA1"
      },
      "source": [
        ""
      ],
      "execution_count": null,
      "outputs": []
    },
    {
      "cell_type": "markdown",
      "metadata": {
        "id": "DN8tw76JLszp"
      },
      "source": [
        "# Visualization of data (of)"
      ]
    },
    {
      "cell_type": "code",
      "metadata": {
        "id": "fHsI_IdSNjwq"
      },
      "source": [
        "df = disaster_tweets"
      ],
      "execution_count": null,
      "outputs": []
    },
    {
      "cell_type": "code",
      "metadata": {
        "id": "82XRUKWMMUaa"
      },
      "source": [
        "fig, axes = plt.subplots(ncols=2, figsize=(17, 4), dpi=100)\n",
        "plt.tight_layout()\n",
        "\n",
        "df.groupby('target').count()['id'].plot(kind='pie', ax=axes[0], labels=['Not Disaster (57%)', 'Disaster (43%)'])\n",
        "sns.countplot(x=df['target'], hue=df['target'], ax=axes[1])\n",
        "\n",
        "axes[0].set_ylabel('')\n",
        "axes[1].set_ylabel('')\n",
        "axes[1].set_xticklabels(['Not Disaster (4342)', 'Disaster (3271)'])\n",
        "axes[0].tick_params(axis='x', labelsize=15)\n",
        "axes[0].tick_params(axis='y', labelsize=15)\n",
        "axes[1].tick_params(axis='x', labelsize=15)\n",
        "axes[1].tick_params(axis='y', labelsize=15)\n",
        "\n",
        "axes[0].set_title('Target Distribution in dataset', fontsize=13)\n",
        "axes[1].set_title('Target Count in dataset', fontsize=13)\n",
        "\n",
        "plt.show()"
      ],
      "execution_count": null,
      "outputs": []
    },
    {
      "cell_type": "code",
      "metadata": {
        "id": "xUUqqBo2OfzU"
      },
      "source": [
        ""
      ],
      "execution_count": null,
      "outputs": []
    },
    {
      "cell_type": "markdown",
      "metadata": {
        "id": "hHNIa_ZVJh-X"
      },
      "source": [
        "## Modeling"
      ]
    },
    {
      "cell_type": "code",
      "metadata": {
        "id": "enJEN9dXNisk"
      },
      "source": [
        "df    = dt.copy()\n"
      ],
      "execution_count": null,
      "outputs": []
    },
    {
      "cell_type": "code",
      "metadata": {
        "id": "pEI2ebP28czf"
      },
      "source": [
        "#tfidf_v = TfidfVectorizer(ngram_range=(1, 2))\n",
        "#tfidf_bow = tfidf_v.fit_transform(df[\"_lemmatized\"])   # FIT and transform to learn\n",
        "### ??? wo wird das denn weiterverwendet ???"
      ],
      "execution_count": null,
      "outputs": []
    },
    {
      "cell_type": "code",
      "metadata": {
        "id": "w8XyRQHUTIJM"
      },
      "source": [
        "#tfidf_v.transform(no_df['_lemmatized'])  # only transformation!!!"
      ],
      "execution_count": null,
      "outputs": []
    },
    {
      "cell_type": "code",
      "metadata": {
        "id": "yqRJObTghmrO"
      },
      "source": [
        ""
      ],
      "execution_count": null,
      "outputs": []
    },
    {
      "cell_type": "markdown",
      "metadata": {
        "id": "EIKIJQjPhozh"
      },
      "source": [
        "## Train-Test-Split"
      ]
    },
    {
      "cell_type": "code",
      "metadata": {
        "id": "AXbhHIURMtcH"
      },
      "source": [
        "X_train, X_test,\\\n",
        "y_train, y_test =\\\n",
        " train_test_split(df[\"text\"],\n",
        "                  df[\"target\"],\n",
        "                  test_size=0.2,\n",
        "                  random_state=314159,\n",
        "                  stratify=df[\"target\"])"
      ],
      "execution_count": null,
      "outputs": []
    },
    {
      "cell_type": "markdown",
      "metadata": {
        "id": "TqG8EfEBhx3C"
      },
      "source": [
        "##pipline Tfidf, MultinomialNB"
      ]
    },
    {
      "cell_type": "code",
      "metadata": {
        "id": "VrlKAPzNxz0F"
      },
      "source": [
        "#### naive bayes \n",
        "pipeMNB = make_pipeline(TfidfVectorizer(ngram_range=(1, 2)), MultinomialNB())\n",
        "\n",
        "display( cross_val_score(pipeMNB, X_train, y_train).mean() )\n",
        "\n",
        "pipeMNB.fit(X_train, y_train)\n",
        "\n",
        "plot_confusion_matrix(pipeMNB, X_test, y_test, values_format=\"0.3f\", normalize='true', cmap=\"RdYlGn\")\n",
        "plt.title(f\"best accuracy: { accuracy_score(y_test, pipeMNB.predict(X_test)):0.3f}\")\n",
        "plt.show()"
      ],
      "execution_count": null,
      "outputs": []
    },
    {
      "cell_type": "code",
      "metadata": {
        "id": "19DTeMZN3z2D"
      },
      "source": [
        "\n",
        "df=disaster_tweets\n",
        "\n",
        "X_train, X_test,\\\n",
        "y_train, y_test =\\\n",
        " train_test_split(df[\"text\"],\n",
        "                  df[\"target\"],\n",
        "                  test_size=0.2,\n",
        "                  random_state=314159,\n",
        "                  stratify=df[\"target\"])\n",
        "\n",
        "\n",
        "#### naive bayes \n",
        "pipeMNB = make_pipeline(TfidfVectorizer(ngram_range=(1, 2)), MultinomialNB())\n",
        "\n",
        "display( cross_val_score(pipeMNB, X_train, y_train).mean() )\n",
        "\n",
        "pipeMNB.fit(X_train, y_train)\n",
        "\n",
        "plot_confusion_matrix(pipeMNB, X_test, y_test, values_format=\"0.3f\", normalize='true', cmap=\"RdYlGn\")\n",
        "plt.title(f\"best accuracy: { accuracy_score(y_test, pipeMNB.predict(X_test)):0.3f}\")\n",
        "plt.show()"
      ],
      "execution_count": null,
      "outputs": []
    },
    {
      "cell_type": "code",
      "metadata": {
        "id": "jlNxoCyM3zpS"
      },
      "source": [
        ""
      ],
      "execution_count": null,
      "outputs": []
    },
    {
      "cell_type": "code",
      "metadata": {
        "id": "PTr3XZO1L5oJ"
      },
      "source": [
        ""
      ],
      "execution_count": null,
      "outputs": []
    }
  ]
}