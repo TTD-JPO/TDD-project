{
  "nbformat": 4,
  "nbformat_minor": 0,
  "metadata": {
    "colab": {
      "name": "06.10.19:22 von Main_TweetDisasterDetection.ipynb",
      "provenance": [],
      "collapsed_sections": [
        "iRaNbVPpJAk9",
        "39jRgJbZJWpX",
        "DN8tw76JLszp"
      ],
      "include_colab_link": true
    },
    "kernelspec": {
      "name": "python3",
      "display_name": "Python 3"
    }
  },
  "cells": [
    {
      "cell_type": "markdown",
      "metadata": {
        "id": "view-in-github",
        "colab_type": "text"
      },
      "source": [
        "<a href=\"https://colab.research.google.com/github/Petra865/project/blob/Workstream/06_10_19_22_von_Main_TweetDisasterDetection.ipynb\" target=\"_parent\"><img src=\"https://colab.research.google.com/assets/colab-badge.svg\" alt=\"Open In Colab\"/></a>"
      ]
    },
    {
      "cell_type": "markdown",
      "metadata": {
        "id": "x3jy6hSfH9tN"
      },
      "source": [
        "# <center>Twitter Disaster Detection\n",
        "\n",
        "<center>"
      ]
    },
    {
      "cell_type": "markdown",
      "metadata": {
        "id": "iRaNbVPpJAk9"
      },
      "source": [
        "# Load Libs & Data"
      ]
    },
    {
      "cell_type": "code",
      "metadata": {
        "id": "62jrF4rfJL0g"
      },
      "source": [
        "import pandas as pd\n",
        "import numpy as np\n",
        "import matplotlib.pyplot as plt\n",
        "import seaborn as sns\n",
        "\n",
        "from datetime import timedelta, time"
      ],
      "execution_count": 1,
      "outputs": []
    },
    {
      "cell_type": "code",
      "metadata": {
        "id": "gWU3RDPlYK_1"
      },
      "source": [
        "import spacy\n",
        "from spacy import displacy\n",
        "nlp = spacy.load('en_core_web_sm')"
      ],
      "execution_count": 2,
      "outputs": []
    },
    {
      "cell_type": "code",
      "metadata": {
        "id": "ZV4hzxEScMav"
      },
      "source": [
        "from sklearn.pipeline import make_pipeline\n",
        "\n",
        "from sklearn.model_selection import cross_val_score\n",
        "from sklearn.linear_model import LogisticRegression\n",
        "from sklearn.model_selection import train_test_split\n",
        "from sklearn.metrics import accuracy_score, r2_score, plot_confusion_matrix\n",
        "\n",
        "from sklearn.naive_bayes import CategoricalNB, MultinomialNB, BernoulliNB\n",
        "from sklearn.feature_extraction.text import CountVectorizer, TfidfVectorizer"
      ],
      "execution_count": 3,
      "outputs": []
    },
    {
      "cell_type": "code",
      "metadata": {
        "id": "Z1A6vy_rchYs",
        "outputId": "a4c86427-85f7-4f67-ad6a-4ace1a1a621d",
        "colab": {
          "base_uri": "https://localhost:8080/",
          "height": 0
        }
      },
      "source": [
        "import re\n",
        "import string\n",
        "import nltk\n",
        "\n",
        "nltk.download('stopwords')\n",
        "nltk.download('wordnet')\n",
        "\n",
        "from nltk.corpus import stopwords\n",
        "from nltk.stem import WordNetLemmatizer\n",
        "from wordcloud import STOPWORDS\n",
        "\n",
        "lemmatizer = WordNetLemmatizer()"
      ],
      "execution_count": 4,
      "outputs": [
        {
          "output_type": "stream",
          "text": [
            "[nltk_data] Downloading package stopwords to /root/nltk_data...\n",
            "[nltk_data]   Package stopwords is already up-to-date!\n",
            "[nltk_data] Downloading package wordnet to /root/nltk_data...\n",
            "[nltk_data]   Package wordnet is already up-to-date!\n"
          ],
          "name": "stdout"
        }
      ]
    },
    {
      "cell_type": "markdown",
      "metadata": {
        "id": "ENvKDlwXrXAH"
      },
      "source": [
        "[Link to data (csv) @google drive](https://drive.google.com/file/d/1QPragNh_wYQVsXQvds8sqjDMfzARD638/view?usp=sharing)\n"
      ]
    },
    {
      "cell_type": "code",
      "metadata": {
        "id": "jAUe5gnhWgAG"
      },
      "source": [
        "url = 'https://raw.githubusercontent.com/TTD-JPO/TDD-project/main/disaster_tweets.csv'\n",
        "disaster_tweets = pd.read_csv(url, encoding='latin-1')"
      ],
      "execution_count": 5,
      "outputs": []
    },
    {
      "cell_type": "markdown",
      "metadata": {
        "id": "yI7qyPC7rfAR"
      },
      "source": [
        "# Helper function"
      ]
    },
    {
      "cell_type": "code",
      "metadata": {
        "id": "qRqZNDeYrfAU"
      },
      "source": [
        "def clean_text(text):\n",
        "  # get rid of all unwanted punctuation and digits\n",
        "  text = text.replace(\"´\", \"'\")\n",
        "\n",
        "  digi_punct = \"[^a-zA-Z' ]\"\n",
        "  text = re.sub(digi_punct, \" \", text)\n",
        "  text = \" \".join(text.split())\n",
        "  text = text.lower()\n",
        "\n",
        "  return text\n",
        "\n",
        "def my_df_text_mining(df, col):\n",
        "  lemmatizer = WordNetLemmatizer()\n",
        "  my_stopwords = stopwords.words(\"english\")\n",
        "  \n",
        "  df[\"_no_stopwords\"] = df[col].apply(             lambda texxt: \" \".join([word for word in clean_text(texxt).split() if word not in my_stopwords]))\n",
        "  df[col]             = df[\"_no_stopwords\"].apply( lambda texxt: \" \".join([lemmatizer.lemmatize(word) for word in texxt.split()]) )\n",
        "\n",
        "  return df.drop([\"_no_stopwords\"], axis=1)\n",
        "\n",
        "################################\n",
        "\n",
        "def my_df_spacy_locgpe(df, col):  \n",
        "  df[\"loc_gpe\"] = df[col].apply( lambda texxt: \" \".join([ ent.text for ent in nlp( clean_text(texxt) ).ents  if ((ent.label_ =='LOC') | (ent.label_ =='GPE'))]) )\n",
        "  return df\n",
        "\n",
        "def my_df_spacy_date_time(df, col):\n",
        "  df[\"date_time\"] = df[col].apply( lambda texxt: \" \".join([ ent.text for ent in nlp( clean_text(texxt) ).ents  if ((ent.label_ =='DATE') | (ent.label_ =='TIME'))]) )\n",
        "  return df\n",
        "\n",
        "def my_df_spacy_fac(df, col):\n",
        "  df[\"FAC\"] = df[col].apply( lambda texxt: \" \".join([ ent.text for ent in nlp( clean_text(texxt) ).ents  if (ent.label_ =='FAC') ]) )\n",
        "  return df\n",
        "################################\n",
        "\n",
        "def spcy_test(text):\n",
        "  displacy.render(nlp(clean_text(text)), style='ent', jupyter=True)\n",
        "\n",
        "################################\n",
        "\n",
        "def corpus_func(series):\n",
        "    '''create a text block (corpus) from a series'''\n",
        "    return \" #### \".join(text for text in series)\n",
        "\n",
        "def corpus_list(corpus):\n",
        "    '''create a list from text block (corpus)'''\n",
        "    corpus_list = lambda x: x.split(' #### ')"
      ],
      "execution_count": 6,
      "outputs": []
    },
    {
      "cell_type": "markdown",
      "metadata": {
        "id": "39jRgJbZJWpX"
      },
      "source": [
        "## Evaluate data"
      ]
    },
    {
      "cell_type": "code",
      "metadata": {
        "id": "yv9NRh7Vwn6t",
        "outputId": "992c94dc-db29-4f9f-ba32-2534c16cf5e8",
        "colab": {
          "base_uri": "https://localhost:8080/",
          "height": 0
        }
      },
      "source": [
        "disaster_tweets.info()"
      ],
      "execution_count": 7,
      "outputs": [
        {
          "output_type": "stream",
          "text": [
            "<class 'pandas.core.frame.DataFrame'>\n",
            "RangeIndex: 7613 entries, 0 to 7612\n",
            "Data columns (total 5 columns):\n",
            " #   Column    Non-Null Count  Dtype \n",
            "---  ------    --------------  ----- \n",
            " 0   id        7613 non-null   int64 \n",
            " 1   keyword   7552 non-null   object\n",
            " 2   location  5080 non-null   object\n",
            " 3   text      7613 non-null   object\n",
            " 4   target    7613 non-null   int64 \n",
            "dtypes: int64(2), object(3)\n",
            "memory usage: 297.5+ KB\n"
          ],
          "name": "stdout"
        }
      ]
    },
    {
      "cell_type": "code",
      "metadata": {
        "id": "QZqYCDfCwx93",
        "outputId": "cd6f09d2-67f2-45d9-d903-889c8f3bf3ef",
        "colab": {
          "base_uri": "https://localhost:8080/",
          "height": 0
        }
      },
      "source": [
        "print( \"absolute number of disaster indicated messages:\", disaster_tweets.target.sum() )\n",
        "print( f\"relative number of disaster indicated messages: {disaster_tweets.target.sum() / disaster_tweets.shape[0] :0.3f}\" )"
      ],
      "execution_count": 8,
      "outputs": [
        {
          "output_type": "stream",
          "text": [
            "absolute number of disaster indicated messages: 3271\n",
            "relative number of disaster indicated messages: 0.430\n"
          ],
          "name": "stdout"
        }
      ]
    },
    {
      "cell_type": "code",
      "metadata": {
        "id": "F6uPwdhszFtK",
        "outputId": "971f8442-9894-4243-bc73-3af1cf0d029b",
        "colab": {
          "base_uri": "https://localhost:8080/",
          "height": 0
        }
      },
      "source": [
        "keys      = list(disaster_tweets.keyword.unique() )\n",
        "locations = list(disaster_tweets.location.unique() )\n",
        "print(f'len_keys: {len(keys)}\\tlen_locations: {len(locations)}')"
      ],
      "execution_count": 9,
      "outputs": [
        {
          "output_type": "stream",
          "text": [
            "len_keys: 222\tlen_locations: 3342\n"
          ],
          "name": "stdout"
        }
      ]
    },
    {
      "cell_type": "code",
      "metadata": {
        "id": "DPVGQ418uYJj",
        "outputId": "5a774b0b-2e4e-4724-8852-99441c924fa1",
        "colab": {
          "base_uri": "https://localhost:8080/",
          "height": 0
        }
      },
      "source": [
        "disaster_tweets.groupby('keyword').target.count().sort_values(ascending=False)"
      ],
      "execution_count": 10,
      "outputs": [
        {
          "output_type": "execute_result",
          "data": {
            "text/plain": [
              "keyword\n",
              "fatalities               45\n",
              "deluge                   42\n",
              "armageddon               42\n",
              "body%20bags              41\n",
              "sinking                  41\n",
              "                         ..\n",
              "forest%20fire            19\n",
              "epicentre                12\n",
              "threat                   11\n",
              "inundation               10\n",
              "radiation%20emergency     9\n",
              "Name: target, Length: 221, dtype: int64"
            ]
          },
          "metadata": {
            "tags": []
          },
          "execution_count": 10
        }
      ]
    },
    {
      "cell_type": "code",
      "metadata": {
        "id": "u4fk_EELupKD",
        "outputId": "89ac1f97-d63e-496e-ac29-e64821635fa4",
        "colab": {
          "base_uri": "https://localhost:8080/",
          "height": 0
        }
      },
      "source": [
        "disaster_tweets.groupby('location').target.count().sort_values(ascending=False)"
      ],
      "execution_count": 11,
      "outputs": [
        {
          "output_type": "execute_result",
          "data": {
            "text/plain": [
              "location\n",
              "USA                            104\n",
              "New York                        71\n",
              "United States                   50\n",
              "London                          45\n",
              "Canada                          29\n",
              "                              ... \n",
              "Republica Dominicana             1\n",
              "Republic of the Philippines      1\n",
              "Regalo Island                    1\n",
              "Redondo Beach, CA                1\n",
              "                                 1\n",
              "Name: target, Length: 3341, dtype: int64"
            ]
          },
          "metadata": {
            "tags": []
          },
          "execution_count": 11
        }
      ]
    },
    {
      "cell_type": "code",
      "metadata": {
        "id": "eOgyt3aj5EZV",
        "outputId": "90b5f3ab-09d1-4b27-8d58-c1171706ad69",
        "colab": {
          "base_uri": "https://localhost:8080/",
          "height": 0
        }
      },
      "source": [
        "display( f\"relative number of keyword   messages: {disaster_tweets.keyword.nunique()  / disaster_tweets.shape[0] :0.3f}\" )\n",
        "display( f\"relative number of location  messages: {disaster_tweets.location.nunique() / disaster_tweets.shape[0] :0.3f}\" )"
      ],
      "execution_count": 12,
      "outputs": [
        {
          "output_type": "display_data",
          "data": {
            "application/vnd.google.colaboratory.intrinsic+json": {
              "type": "string"
            },
            "text/plain": [
              "'relative number of keyword   messages: 0.029'"
            ]
          },
          "metadata": {
            "tags": []
          }
        },
        {
          "output_type": "display_data",
          "data": {
            "application/vnd.google.colaboratory.intrinsic+json": {
              "type": "string"
            },
            "text/plain": [
              "'relative number of location  messages: 0.439'"
            ]
          },
          "metadata": {
            "tags": []
          }
        }
      ]
    },
    {
      "cell_type": "code",
      "metadata": {
        "id": "N3FC1viZFsoY"
      },
      "source": [
        "### we might do these steps later after having processed the text :)\n",
        "#dt = disaster_tweets.copy()"
      ],
      "execution_count": 13,
      "outputs": []
    },
    {
      "cell_type": "markdown",
      "metadata": {
        "id": "DN8tw76JLszp"
      },
      "source": [
        "## Visualization of data (of)"
      ]
    },
    {
      "cell_type": "code",
      "metadata": {
        "id": "fHsI_IdSNjwq"
      },
      "source": [
        "df = disaster_tweets"
      ],
      "execution_count": 14,
      "outputs": []
    },
    {
      "cell_type": "code",
      "metadata": {
        "id": "82XRUKWMMUaa",
        "outputId": "88f49820-bd55-4c2b-e8fa-9176e1103a4f",
        "colab": {
          "base_uri": "https://localhost:8080/",
          "height": 0
        }
      },
      "source": [
        "fig, axes = plt.subplots(ncols=2, figsize=(17, 4), dpi=100)\n",
        "plt.tight_layout()\n",
        "\n",
        "df.groupby('target').count()['id'].plot(kind='pie', ax=axes[0], labels=['Not Disaster (57%)', 'Disaster (43%)'])\n",
        "sns.countplot(x=df['target'], hue=df['target'], ax=axes[1])\n",
        "\n",
        "axes[0].set_ylabel('')\n",
        "axes[1].set_ylabel('')\n",
        "axes[1].set_xticklabels(['Not Disaster (4342)', 'Disaster (3271)'])\n",
        "axes[0].tick_params(axis='x', labelsize=15)\n",
        "axes[0].tick_params(axis='y', labelsize=15)\n",
        "axes[1].tick_params(axis='x', labelsize=15)\n",
        "axes[1].tick_params(axis='y', labelsize=15)\n",
        "\n",
        "axes[0].set_title('Target Distribution in dataset', fontsize=13)\n",
        "axes[1].set_title('Target Count in dataset', fontsize=13)\n",
        "\n",
        "plt.show()"
      ],
      "execution_count": 15,
      "outputs": [
        {
          "output_type": "display_data",
          "data": {
            "image/png": "[encoded data removed]",
            "text/plain": [
              "<Figure size 1700x400 with 2 Axes>"
            ]
          },
          "metadata": {
            "tags": [],
            "needs_background": "light"
          }
        }
      ]
    },
    {
      "cell_type": "code",
      "metadata": {
        "id": "S8nW8BYdHWdH",
        "outputId": "1eec2340-686a-4aff-acf1-431a78d1f3f5",
        "colab": {
          "base_uri": "https://localhost:8080/",
          "height": 0
        }
      },
      "source": [
        "missing_cols = ['keyword', 'location']\n",
        "\n",
        "plt.figure(figsize=(4, 3), dpi=80)\n",
        "\n",
        "sns.barplot(x=disaster_tweets[missing_cols].isna().sum().index, y=disaster_tweets[missing_cols].isna().sum().values)\n",
        "\n",
        "plt.ylabel('Missing Value Count', size=11, labelpad=18)\n",
        "plt.tick_params(axis='x', labelsize=11)\n",
        "plt.tick_params(axis='y', labelsize=11)\n",
        "\n",
        "plt.title('Missing Values', fontsize=13)\n",
        "\n",
        "plt.show()"
      ],
      "execution_count": 16,
      "outputs": [
        {
          "output_type": "display_data",
          "data": {
            "image/png": "[encoded data removed]",
            "text/plain": [
              "<Figure size 320x240 with 1 Axes>"
            ]
          },
          "metadata": {
            "tags": [],
            "needs_background": "light"
          }
        }
      ]
    },
    {
      "cell_type": "code",
      "metadata": {
        "id": "lyTkdc8NGoW_"
      },
      "source": [
        ""
      ],
      "execution_count": 16,
      "outputs": []
    },
    {
      "cell_type": "markdown",
      "metadata": {
        "id": "T6__0fjdf3gT"
      },
      "source": [
        "# Cleaning of data \n",
        "- df deaster tweets - 'dtt_clean'"
      ]
    },
    {
      "cell_type": "code",
      "metadata": {
        "id": "yC_gFIoAKqes"
      },
      "source": [
        "dtt_clean = disaster_tweets.copy()"
      ],
      "execution_count": 17,
      "outputs": []
    },
    {
      "cell_type": "code",
      "metadata": {
        "id": "HU9ft5z1JYfq"
      },
      "source": [
        "dtt_clean = my_df_text_mining(dtt_clean, 'text')"
      ],
      "execution_count": 18,
      "outputs": []
    },
    {
      "cell_type": "code",
      "metadata": {
        "id": "BRLnss0aKay1",
        "outputId": "f943d013-4297-49bf-ac8f-41862d9682c1",
        "colab": {
          "base_uri": "https://localhost:8080/",
          "height": 136
        }
      },
      "source": [
        "dtt_clean.head(3)"
      ],
      "execution_count": 19,
      "outputs": [
        {
          "output_type": "execute_result",
          "data": {
            "text/html": [
              "<div>\n",
              "<style scoped>\n",
              "    .dataframe tbody tr th:only-of-type {\n",
              "        vertical-align: middle;\n",
              "    }\n",
              "\n",
              "    .dataframe tbody tr th {\n",
              "        vertical-align: top;\n",
              "    }\n",
              "\n",
              "    .dataframe thead th {\n",
              "        text-align: right;\n",
              "    }\n",
              "</style>\n",
              "<table border=\"1\" class=\"dataframe\">\n",
              "  <thead>\n",
              "    <tr style=\"text-align: right;\">\n",
              "      <th></th>\n",
              "      <th>id</th>\n",
              "      <th>keyword</th>\n",
              "      <th>location</th>\n",
              "      <th>text</th>\n",
              "      <th>target</th>\n",
              "    </tr>\n",
              "  </thead>\n",
              "  <tbody>\n",
              "    <tr>\n",
              "      <th>0</th>\n",
              "      <td>1</td>\n",
              "      <td>NaN</td>\n",
              "      <td>NaN</td>\n",
              "      <td>deed reason earthquake may allah forgive u</td>\n",
              "      <td>1</td>\n",
              "    </tr>\n",
              "    <tr>\n",
              "      <th>1</th>\n",
              "      <td>4</td>\n",
              "      <td>NaN</td>\n",
              "      <td>NaN</td>\n",
              "      <td>forest fire near la ronge sask canada</td>\n",
              "      <td>1</td>\n",
              "    </tr>\n",
              "    <tr>\n",
              "      <th>2</th>\n",
              "      <td>5</td>\n",
              "      <td>NaN</td>\n",
              "      <td>NaN</td>\n",
              "      <td>resident asked 'shelter place' notified office...</td>\n",
              "      <td>1</td>\n",
              "    </tr>\n",
              "  </tbody>\n",
              "</table>\n",
              "</div>"
            ],
            "text/plain": [
              "   id keyword  ...                                               text target\n",
              "0   1     NaN  ...         deed reason earthquake may allah forgive u      1\n",
              "1   4     NaN  ...              forest fire near la ronge sask canada      1\n",
              "2   5     NaN  ...  resident asked 'shelter place' notified office...      1\n",
              "\n",
              "[3 rows x 5 columns]"
            ]
          },
          "metadata": {
            "tags": []
          },
          "execution_count": 19
        }
      ]
    },
    {
      "cell_type": "markdown",
      "metadata": {
        "id": "20W9GxZCHcOS"
      },
      "source": [
        "### clean NaN"
      ]
    },
    {
      "cell_type": "code",
      "metadata": {
        "id": "sFZjiKBQ9-Am"
      },
      "source": [
        "missing_cols = ['keyword', 'location']\n",
        "for col in  missing_cols:\n",
        "    dtt_clean[col] = dtt_clean[col].fillna(f'no_{col}')"
      ],
      "execution_count": 20,
      "outputs": []
    },
    {
      "cell_type": "code",
      "metadata": {
        "id": "Uj5wggxeLWRW",
        "outputId": "f93fbfbf-657f-4d40-edc0-47570adb7869",
        "colab": {
          "base_uri": "https://localhost:8080/",
          "height": 106
        }
      },
      "source": [
        "dtt_clean.head(2)"
      ],
      "execution_count": 21,
      "outputs": [
        {
          "output_type": "execute_result",
          "data": {
            "text/html": [
              "<div>\n",
              "<style scoped>\n",
              "    .dataframe tbody tr th:only-of-type {\n",
              "        vertical-align: middle;\n",
              "    }\n",
              "\n",
              "    .dataframe tbody tr th {\n",
              "        vertical-align: top;\n",
              "    }\n",
              "\n",
              "    .dataframe thead th {\n",
              "        text-align: right;\n",
              "    }\n",
              "</style>\n",
              "<table border=\"1\" class=\"dataframe\">\n",
              "  <thead>\n",
              "    <tr style=\"text-align: right;\">\n",
              "      <th></th>\n",
              "      <th>id</th>\n",
              "      <th>keyword</th>\n",
              "      <th>location</th>\n",
              "      <th>text</th>\n",
              "      <th>target</th>\n",
              "    </tr>\n",
              "  </thead>\n",
              "  <tbody>\n",
              "    <tr>\n",
              "      <th>0</th>\n",
              "      <td>1</td>\n",
              "      <td>no_keyword</td>\n",
              "      <td>no_location</td>\n",
              "      <td>deed reason earthquake may allah forgive u</td>\n",
              "      <td>1</td>\n",
              "    </tr>\n",
              "    <tr>\n",
              "      <th>1</th>\n",
              "      <td>4</td>\n",
              "      <td>no_keyword</td>\n",
              "      <td>no_location</td>\n",
              "      <td>forest fire near la ronge sask canada</td>\n",
              "      <td>1</td>\n",
              "    </tr>\n",
              "  </tbody>\n",
              "</table>\n",
              "</div>"
            ],
            "text/plain": [
              "   id     keyword  ...                                        text target\n",
              "0   1  no_keyword  ...  deed reason earthquake may allah forgive u      1\n",
              "1   4  no_keyword  ...       forest fire near la ronge sask canada      1\n",
              "\n",
              "[2 rows x 5 columns]"
            ]
          },
          "metadata": {
            "tags": []
          },
          "execution_count": 21
        }
      ]
    },
    {
      "cell_type": "markdown",
      "metadata": {
        "id": "RsGP1HCeHpov"
      },
      "source": [
        "# Analizing tweet < text >\n",
        "- NLP keyword, localization "
      ]
    },
    {
      "cell_type": "markdown",
      "metadata": {
        "id": "SpCfvPm3gazI"
      },
      "source": [
        "### trail ... (pw)\n"
      ]
    },
    {
      "cell_type": "code",
      "metadata": {
        "id": "wFvSf8Yyu3CD"
      },
      "source": [
        "#Regex:\n",
        "dtt_clean['keyword_re'] = dtt_clean.keyword.apply(lambda text: re.sub(\"%20\",\" \", text))  # leerzeichen !!!"
      ],
      "execution_count": 32,
      "outputs": []
    },
    {
      "cell_type": "code",
      "metadata": {
        "id": "-k-F2NIUSkVh",
        "outputId": "5d1137f3-32a3-4103-bc79-40e60aaa4b55",
        "colab": {
          "base_uri": "https://localhost:8080/",
          "height": 54
        }
      },
      "source": [
        "# analog to goupby in Evaluate data (but after clean keyword)\n",
        "# make a count for the keyword list\n",
        "\n",
        "### zu den libaries wenn codezelle bleiben soll\n",
        "from collections import Counter\n",
        "\n",
        "\n",
        "key_count = sorted(Counter(list(dtt_clean['keyword_re'])).items(), key = lambda kv:( kv[1], kv[0]), reverse=True)\n",
        "print(key_count[0:20])"
      ],
      "execution_count": 41,
      "outputs": [
        {
          "output_type": "stream",
          "text": [
            "[('no_keyword', 61), ('fatalities', 45), ('deluge', 42), ('armageddon', 42), ('sinking', 41), ('harm', 41), ('damage', 41), ('body bags', 41), ('windstorm', 40), ('twister', 40), ('siren', 40), ('outbreak', 40), ('fear', 40), ('evacuate', 40), ('collided', 40), ('wrecked', 39), ('wreckage', 39), ('whirlwind', 39), ('weapons', 39), ('weapon', 39)]\n"
          ],
          "name": "stdout"
        }
      ]
    },
    {
      "cell_type": "code",
      "metadata": {
        "id": "tLGnQdJCwHk4",
        "outputId": "a748df9c-6375-4103-9fcd-e3b94972bf36",
        "colab": {
          "base_uri": "https://localhost:8080/",
          "height": 52
        }
      },
      "source": [
        "'''\n",
        "#zu überarbeiten\n",
        "from nltk.stem import SnowballStemmer\n",
        "\n",
        "sb_stemmer = SnowballStemmer('english')\n",
        "dtt_clean['keyword_stem']= dtt_clean[\"keyword_re\"].apply(lambda keyword_re: \" \".join([sb_stemmer.stem(word) for word in keyword_re]))\n",
        "'''"
      ],
      "execution_count": 24,
      "outputs": [
        {
          "output_type": "execute_result",
          "data": {
            "application/vnd.google.colaboratory.intrinsic+json": {
              "type": "string"
            },
            "text/plain": [
              "'\\n#zu überarbeiten\\nfrom nltk.stem import SnowballStemmer\\n\\nsb_stemmer = SnowballStemmer(\\'english\\')\\ndtt_clean[\\'keyword_stem\\']= dtt_clean[\"keyword_re\"].apply(lambda keyword_re: \" \".join([sb_stemmer.stem(word) for word in keyword_re]))\\n'"
            ]
          },
          "metadata": {
            "tags": []
          },
          "execution_count": 24
        }
      ]
    },
    {
      "cell_type": "code",
      "metadata": {
        "id": "uBrLgDyleTUN"
      },
      "source": [
        "corpus_keys = corpus_func(dtt_clean['keyword_re'])"
      ],
      "execution_count": 26,
      "outputs": []
    },
    {
      "cell_type": "code",
      "metadata": {
        "id": "gqPrhJJ-16XI"
      },
      "source": [
        "keyword_low=[x.lower() for x in dtt_clean['keyword_re']]"
      ],
      "execution_count": 45,
      "outputs": []
    },
    {
      "cell_type": "code",
      "metadata": {
        "id": "GR0T56Ay12G5"
      },
      "source": [
        "dtt_clean['keyword_low'] = keyword_low"
      ],
      "execution_count": 46,
      "outputs": []
    },
    {
      "cell_type": "code",
      "metadata": {
        "id": "pewk-_M21Gct",
        "outputId": "6b875cab-7f21-440e-96f4-e8e454fc9ce7",
        "colab": {
          "base_uri": "https://localhost:8080/",
          "height": 1000
        }
      },
      "source": [
        "from nltk.stem import PorterStemmer\n",
        "stemmer = PorterStemmer()\n",
        "\n",
        "stem_tok ={}\n",
        "for w in tokens_low: \n",
        "    stem_tok[w] = stemmer.stem(w)\n",
        "\n",
        "stem_tok "
      ],
      "execution_count": 37,
      "outputs": [
        {
          "output_type": "execute_result",
          "data": {
            "text/plain": [
              "{'ablaze': 'ablaz',\n",
              " 'accident': 'accid',\n",
              " 'aftershock': 'aftershock',\n",
              " 'airplane accident': 'airplane accid',\n",
              " 'ambulance': 'ambul',\n",
              " 'annihilated': 'annihil',\n",
              " 'annihilation': 'annihil',\n",
              " 'apocalypse': 'apocalyps',\n",
              " 'armageddon': 'armageddon',\n",
              " 'army': 'armi',\n",
              " 'arson': 'arson',\n",
              " 'arsonist': 'arsonist',\n",
              " 'attack': 'attack',\n",
              " 'attacked': 'attack',\n",
              " 'avalanche': 'avalanch',\n",
              " 'battle': 'battl',\n",
              " 'bioterror': 'bioterror',\n",
              " 'bioterrorism': 'bioterror',\n",
              " 'blaze': 'blaze',\n",
              " 'blazing': 'blaze',\n",
              " 'bleeding': 'bleed',\n",
              " 'blew up': 'blew up',\n",
              " 'blight': 'blight',\n",
              " 'blizzard': 'blizzard',\n",
              " 'blood': 'blood',\n",
              " 'bloody': 'bloodi',\n",
              " 'blown up': 'blown up',\n",
              " 'body bag': 'body bag',\n",
              " 'body bagging': 'body bag',\n",
              " 'body bags': 'body bag',\n",
              " 'bomb': 'bomb',\n",
              " 'bombed': 'bomb',\n",
              " 'bombing': 'bomb',\n",
              " 'bridge collapse': 'bridge collaps',\n",
              " 'buildings burning': 'buildings burn',\n",
              " 'buildings on fire': 'buildings on fir',\n",
              " 'burned': 'burn',\n",
              " 'burning': 'burn',\n",
              " 'burning buildings': 'burning build',\n",
              " 'bush fires': 'bush fir',\n",
              " 'casualties': 'casualti',\n",
              " 'casualty': 'casualti',\n",
              " 'catastrophe': 'catastroph',\n",
              " 'catastrophic': 'catastroph',\n",
              " 'chemical emergency': 'chemical emerg',\n",
              " 'cliff fall': 'cliff fal',\n",
              " 'collapse': 'collaps',\n",
              " 'collapsed': 'collaps',\n",
              " 'collide': 'collid',\n",
              " 'collided': 'collid',\n",
              " 'collision': 'collis',\n",
              " 'crash': 'crash',\n",
              " 'crashed': 'crash',\n",
              " 'crush': 'crush',\n",
              " 'crushed': 'crush',\n",
              " 'curfew': 'curfew',\n",
              " 'cyclone': 'cyclon',\n",
              " 'damage': 'damag',\n",
              " 'danger': 'danger',\n",
              " 'dead': 'dead',\n",
              " 'death': 'death',\n",
              " 'deaths': 'death',\n",
              " 'debris': 'debri',\n",
              " 'deluge': 'delug',\n",
              " 'deluged': 'delug',\n",
              " 'demolish': 'demolish',\n",
              " 'demolished': 'demolish',\n",
              " 'demolition': 'demolit',\n",
              " 'derail': 'derail',\n",
              " 'derailed': 'derail',\n",
              " 'derailment': 'derail',\n",
              " 'desolate': 'desol',\n",
              " 'desolation': 'desol',\n",
              " 'destroy': 'destroy',\n",
              " 'destroyed': 'destroy',\n",
              " 'destruction': 'destruct',\n",
              " 'detonate': 'deton',\n",
              " 'detonation': 'deton',\n",
              " 'devastated': 'devast',\n",
              " 'devastation': 'devast',\n",
              " 'disaster': 'disast',\n",
              " 'displaced': 'displac',\n",
              " 'drought': 'drought',\n",
              " 'drown': 'drown',\n",
              " 'drowned': 'drown',\n",
              " 'drowning': 'drown',\n",
              " 'dust storm': 'dust storm',\n",
              " 'earthquake': 'earthquak',\n",
              " 'electrocute': 'electrocut',\n",
              " 'electrocuted': 'electrocut',\n",
              " 'emergency': 'emerg',\n",
              " 'emergency plan': 'emergency plan',\n",
              " 'emergency services': 'emergency servic',\n",
              " 'engulfed': 'engulf',\n",
              " 'epicentre': 'epicentr',\n",
              " 'evacuate': 'evacu',\n",
              " 'evacuated': 'evacu',\n",
              " 'evacuation': 'evacu',\n",
              " 'explode': 'explod',\n",
              " 'exploded': 'explod',\n",
              " 'explosion': 'explos',\n",
              " 'eyewitness': 'eyewit',\n",
              " 'famine': 'famin',\n",
              " 'fatal': 'fatal',\n",
              " 'fatalities': 'fatal',\n",
              " 'fatality': 'fatal',\n",
              " 'fear': 'fear',\n",
              " 'fire': 'fire',\n",
              " 'fire truck': 'fire truck',\n",
              " 'first responders': 'first respond',\n",
              " 'flames': 'flame',\n",
              " 'flattened': 'flatten',\n",
              " 'flood': 'flood',\n",
              " 'flooding': 'flood',\n",
              " 'floods': 'flood',\n",
              " 'forest fire': 'forest fir',\n",
              " 'forest fires': 'forest fir',\n",
              " 'hail': 'hail',\n",
              " 'hailstorm': 'hailstorm',\n",
              " 'harm': 'harm',\n",
              " 'hazard': 'hazard',\n",
              " 'hazardous': 'hazard',\n",
              " 'heat wave': 'heat wav',\n",
              " 'hellfire': 'hellfir',\n",
              " 'hijack': 'hijack',\n",
              " 'hijacker': 'hijack',\n",
              " 'hijacking': 'hijack',\n",
              " 'hostage': 'hostag',\n",
              " 'hostages': 'hostag',\n",
              " 'hurricane': 'hurrican',\n",
              " 'injured': 'injur',\n",
              " 'injuries': 'injuri',\n",
              " 'injury': 'injuri',\n",
              " 'inundated': 'inund',\n",
              " 'inundation': 'inund',\n",
              " 'landslide': 'landslid',\n",
              " 'lava': 'lava',\n",
              " 'lightning': 'lightn',\n",
              " 'loud bang': 'loud bang',\n",
              " 'mass murder': 'mass murd',\n",
              " 'mass murderer': 'mass murder',\n",
              " 'massacre': 'massacr',\n",
              " 'mayhem': 'mayhem',\n",
              " 'meltdown': 'meltdown',\n",
              " 'military': 'militari',\n",
              " 'mudslide': 'mudslid',\n",
              " 'natural disaster': 'natural disast',\n",
              " 'no_keyword': 'no_keyword',\n",
              " 'nuclear disaster': 'nuclear disast',\n",
              " 'nuclear reactor': 'nuclear reactor',\n",
              " 'obliterate': 'obliter',\n",
              " 'obliterated': 'obliter',\n",
              " 'obliteration': 'obliter',\n",
              " 'oil spill': 'oil spil',\n",
              " 'outbreak': 'outbreak',\n",
              " 'pandemonium': 'pandemonium',\n",
              " 'panic': 'panic',\n",
              " 'panicking': 'panick',\n",
              " 'police': 'polic',\n",
              " 'quarantine': 'quarantin',\n",
              " 'quarantined': 'quarantin',\n",
              " 'radiation emergency': 'radiation emerg',\n",
              " 'rainstorm': 'rainstorm',\n",
              " 'razed': 'raze',\n",
              " 'refugees': 'refuge',\n",
              " 'rescue': 'rescu',\n",
              " 'rescued': 'rescu',\n",
              " 'rescuers': 'rescuer',\n",
              " 'riot': 'riot',\n",
              " 'rioting': 'riot',\n",
              " 'rubble': 'rubbl',\n",
              " 'ruin': 'ruin',\n",
              " 'sandstorm': 'sandstorm',\n",
              " 'screamed': 'scream',\n",
              " 'screaming': 'scream',\n",
              " 'screams': 'scream',\n",
              " 'seismic': 'seismic',\n",
              " 'sinkhole': 'sinkhol',\n",
              " 'sinking': 'sink',\n",
              " 'siren': 'siren',\n",
              " 'sirens': 'siren',\n",
              " 'smoke': 'smoke',\n",
              " 'snowstorm': 'snowstorm',\n",
              " 'storm': 'storm',\n",
              " 'stretcher': 'stretcher',\n",
              " 'structural failure': 'structural failur',\n",
              " 'suicide bomb': 'suicide bomb',\n",
              " 'suicide bomber': 'suicide bomb',\n",
              " 'suicide bombing': 'suicide bomb',\n",
              " 'sunk': 'sunk',\n",
              " 'survive': 'surviv',\n",
              " 'survived': 'surviv',\n",
              " 'survivors': 'survivor',\n",
              " 'terrorism': 'terror',\n",
              " 'terrorist': 'terrorist',\n",
              " 'threat': 'threat',\n",
              " 'thunder': 'thunder',\n",
              " 'thunderstorm': 'thunderstorm',\n",
              " 'tornado': 'tornado',\n",
              " 'tragedy': 'tragedi',\n",
              " 'trapped': 'trap',\n",
              " 'trauma': 'trauma',\n",
              " 'traumatised': 'traumatis',\n",
              " 'trouble': 'troubl',\n",
              " 'tsunami': 'tsunami',\n",
              " 'twister': 'twister',\n",
              " 'typhoon': 'typhoon',\n",
              " 'upheaval': 'upheav',\n",
              " 'violent storm': 'violent storm',\n",
              " 'volcano': 'volcano',\n",
              " 'war zone': 'war zon',\n",
              " 'weapon': 'weapon',\n",
              " 'weapons': 'weapon',\n",
              " 'whirlwind': 'whirlwind',\n",
              " 'wild fires': 'wild fir',\n",
              " 'wildfire': 'wildfir',\n",
              " 'windstorm': 'windstorm',\n",
              " 'wounded': 'wound',\n",
              " 'wounds': 'wound',\n",
              " 'wreck': 'wreck',\n",
              " 'wreckage': 'wreckag',\n",
              " 'wrecked': 'wreck'}"
            ]
          },
          "metadata": {
            "tags": []
          },
          "execution_count": 37
        }
      ]
    },
    {
      "cell_type": "code",
      "metadata": {
        "id": "YDfAosyX4nEO",
        "outputId": "2e1d9a63-3e6b-4d7c-c238-28b0333caab7",
        "colab": {
          "base_uri": "https://localhost:8080/",
          "height": 218
        }
      },
      "source": [
        "dtt_clean['keyword_stem']= dtt_clean[\"keyword_re\"].apply(lambda keyword_re: \" \".join([stemmer.stem(word) for word in keyword_re]))\n",
        "dtt_clean['keyword_stem']"
      ],
      "execution_count": 40,
      "outputs": [
        {
          "output_type": "execute_result",
          "data": {
            "text/plain": [
              "0       n o _ k e y w o r d\n",
              "1       n o _ k e y w o r d\n",
              "2       n o _ k e y w o r d\n",
              "3       n o _ k e y w o r d\n",
              "4       n o _ k e y w o r d\n",
              "               ...         \n",
              "7608    n o _ k e y w o r d\n",
              "7609    n o _ k e y w o r d\n",
              "7610    n o _ k e y w o r d\n",
              "7611    n o _ k e y w o r d\n",
              "7612    n o _ k e y w o r d\n",
              "Name: keyword_stem, Length: 7613, dtype: object"
            ]
          },
          "metadata": {
            "tags": []
          },
          "execution_count": 40
        }
      ]
    },
    {
      "cell_type": "code",
      "metadata": {
        "id": "T2umKdrHd7FX"
      },
      "source": [
        "#lemmatizer.lemmatize('going', wordnet.NOUN)"
      ],
      "execution_count": null,
      "outputs": []
    },
    {
      "cell_type": "markdown",
      "metadata": {
        "id": "EhoKjIYZwWGM"
      },
      "source": [
        "end_-petra"
      ]
    },
    {
      "cell_type": "code",
      "metadata": {
        "id": "sWQkoRbBsvh0",
        "outputId": "cfd3f5f3-313b-4c76-ac92-2aba991041ef",
        "colab": {
          "base_uri": "https://localhost:8080/",
          "height": 34
        }
      },
      "source": [
        "len(keys), len(locations)"
      ],
      "execution_count": null,
      "outputs": [
        {
          "output_type": "execute_result",
          "data": {
            "text/plain": [
              "(222, 3342)"
            ]
          },
          "metadata": {
            "tags": []
          },
          "execution_count": 27
        }
      ]
    },
    {
      "cell_type": "code",
      "metadata": {
        "id": "1i5-NYOCx03T",
        "outputId": "1cf2250a-4da5-4365-fe54-00520a8f1408",
        "colab": {
          "base_uri": "https://localhost:8080/",
          "height": 402
        }
      },
      "source": [
        "dtt_clean"
      ],
      "execution_count": 47,
      "outputs": [
        {
          "output_type": "execute_result",
          "data": {
            "text/html": [
              "<div>\n",
              "<style scoped>\n",
              "    .dataframe tbody tr th:only-of-type {\n",
              "        vertical-align: middle;\n",
              "    }\n",
              "\n",
              "    .dataframe tbody tr th {\n",
              "        vertical-align: top;\n",
              "    }\n",
              "\n",
              "    .dataframe thead th {\n",
              "        text-align: right;\n",
              "    }\n",
              "</style>\n",
              "<table border=\"1\" class=\"dataframe\">\n",
              "  <thead>\n",
              "    <tr style=\"text-align: right;\">\n",
              "      <th></th>\n",
              "      <th>id</th>\n",
              "      <th>keyword</th>\n",
              "      <th>location</th>\n",
              "      <th>text</th>\n",
              "      <th>target</th>\n",
              "      <th>keyword_re</th>\n",
              "      <th>keyword_stem</th>\n",
              "      <th>keyword_low</th>\n",
              "    </tr>\n",
              "  </thead>\n",
              "  <tbody>\n",
              "    <tr>\n",
              "      <th>0</th>\n",
              "      <td>1</td>\n",
              "      <td>no_keyword</td>\n",
              "      <td>no_location</td>\n",
              "      <td>deed reason earthquake may allah forgive u</td>\n",
              "      <td>1</td>\n",
              "      <td>no_keyword</td>\n",
              "      <td>n o _ k e y w o r d</td>\n",
              "      <td>no_keyword</td>\n",
              "    </tr>\n",
              "    <tr>\n",
              "      <th>1</th>\n",
              "      <td>4</td>\n",
              "      <td>no_keyword</td>\n",
              "      <td>no_location</td>\n",
              "      <td>forest fire near la ronge sask canada</td>\n",
              "      <td>1</td>\n",
              "      <td>no_keyword</td>\n",
              "      <td>n o _ k e y w o r d</td>\n",
              "      <td>no_keyword</td>\n",
              "    </tr>\n",
              "    <tr>\n",
              "      <th>2</th>\n",
              "      <td>5</td>\n",
              "      <td>no_keyword</td>\n",
              "      <td>no_location</td>\n",
              "      <td>resident asked 'shelter place' notified office...</td>\n",
              "      <td>1</td>\n",
              "      <td>no_keyword</td>\n",
              "      <td>n o _ k e y w o r d</td>\n",
              "      <td>no_keyword</td>\n",
              "    </tr>\n",
              "    <tr>\n",
              "      <th>3</th>\n",
              "      <td>6</td>\n",
              "      <td>no_keyword</td>\n",
              "      <td>no_location</td>\n",
              "      <td>people receive wildfire evacuation order calif...</td>\n",
              "      <td>1</td>\n",
              "      <td>no_keyword</td>\n",
              "      <td>n o _ k e y w o r d</td>\n",
              "      <td>no_keyword</td>\n",
              "    </tr>\n",
              "    <tr>\n",
              "      <th>4</th>\n",
              "      <td>7</td>\n",
              "      <td>no_keyword</td>\n",
              "      <td>no_location</td>\n",
              "      <td>got sent photo ruby alaska smoke wildfire pour...</td>\n",
              "      <td>1</td>\n",
              "      <td>no_keyword</td>\n",
              "      <td>n o _ k e y w o r d</td>\n",
              "      <td>no_keyword</td>\n",
              "    </tr>\n",
              "    <tr>\n",
              "      <th>...</th>\n",
              "      <td>...</td>\n",
              "      <td>...</td>\n",
              "      <td>...</td>\n",
              "      <td>...</td>\n",
              "      <td>...</td>\n",
              "      <td>...</td>\n",
              "      <td>...</td>\n",
              "      <td>...</td>\n",
              "    </tr>\n",
              "    <tr>\n",
              "      <th>7608</th>\n",
              "      <td>10869</td>\n",
              "      <td>no_keyword</td>\n",
              "      <td>no_location</td>\n",
              "      <td>two giant crane holding bridge collapse nearby...</td>\n",
              "      <td>1</td>\n",
              "      <td>no_keyword</td>\n",
              "      <td>n o _ k e y w o r d</td>\n",
              "      <td>no_keyword</td>\n",
              "    </tr>\n",
              "    <tr>\n",
              "      <th>7609</th>\n",
              "      <td>10870</td>\n",
              "      <td>no_keyword</td>\n",
              "      <td>no_location</td>\n",
              "      <td>aria ahrary thetawniest control wild fire cali...</td>\n",
              "      <td>1</td>\n",
              "      <td>no_keyword</td>\n",
              "      <td>n o _ k e y w o r d</td>\n",
              "      <td>no_keyword</td>\n",
              "    </tr>\n",
              "    <tr>\n",
              "      <th>7610</th>\n",
              "      <td>10871</td>\n",
              "      <td>no_keyword</td>\n",
              "      <td>no_location</td>\n",
              "      <td>utc km volcano hawaii http co zdtoyd ebj</td>\n",
              "      <td>1</td>\n",
              "      <td>no_keyword</td>\n",
              "      <td>n o _ k e y w o r d</td>\n",
              "      <td>no_keyword</td>\n",
              "    </tr>\n",
              "    <tr>\n",
              "      <th>7611</th>\n",
              "      <td>10872</td>\n",
              "      <td>no_keyword</td>\n",
              "      <td>no_location</td>\n",
              "      <td>police investigating e bike collided car littl...</td>\n",
              "      <td>1</td>\n",
              "      <td>no_keyword</td>\n",
              "      <td>n o _ k e y w o r d</td>\n",
              "      <td>no_keyword</td>\n",
              "    </tr>\n",
              "    <tr>\n",
              "      <th>7612</th>\n",
              "      <td>10873</td>\n",
              "      <td>no_keyword</td>\n",
              "      <td>no_location</td>\n",
              "      <td>latest home razed northern california wildfire...</td>\n",
              "      <td>1</td>\n",
              "      <td>no_keyword</td>\n",
              "      <td>n o _ k e y w o r d</td>\n",
              "      <td>no_keyword</td>\n",
              "    </tr>\n",
              "  </tbody>\n",
              "</table>\n",
              "<p>7613 rows × 8 columns</p>\n",
              "</div>"
            ],
            "text/plain": [
              "         id     keyword  ...         keyword_stem keyword_low\n",
              "0         1  no_keyword  ...  n o _ k e y w o r d  no_keyword\n",
              "1         4  no_keyword  ...  n o _ k e y w o r d  no_keyword\n",
              "2         5  no_keyword  ...  n o _ k e y w o r d  no_keyword\n",
              "3         6  no_keyword  ...  n o _ k e y w o r d  no_keyword\n",
              "4         7  no_keyword  ...  n o _ k e y w o r d  no_keyword\n",
              "...     ...         ...  ...                  ...         ...\n",
              "7608  10869  no_keyword  ...  n o _ k e y w o r d  no_keyword\n",
              "7609  10870  no_keyword  ...  n o _ k e y w o r d  no_keyword\n",
              "7610  10871  no_keyword  ...  n o _ k e y w o r d  no_keyword\n",
              "7611  10872  no_keyword  ...  n o _ k e y w o r d  no_keyword\n",
              "7612  10873  no_keyword  ...  n o _ k e y w o r d  no_keyword\n",
              "\n",
              "[7613 rows x 8 columns]"
            ]
          },
          "metadata": {
            "tags": []
          },
          "execution_count": 47
        }
      ]
    },
    {
      "cell_type": "code",
      "metadata": {
        "id": "p1kbJHcwFH7I"
      },
      "source": [
        "no_target_ = dtt_clean[ dtt_clean.target == 0]\n",
        "target_    = dtt_clean[ dtt_clean.target == 1]"
      ],
      "execution_count": null,
      "outputs": []
    },
    {
      "cell_type": "markdown",
      "metadata": {
        "id": "UE-4iw3sbhRz"
      },
      "source": [
        "-- (PW)"
      ]
    },
    {
      "cell_type": "markdown",
      "metadata": {
        "id": "fC__czRM__Cy"
      },
      "source": [
        "## jedi playground"
      ]
    },
    {
      "cell_type": "code",
      "metadata": {
        "id": "c3860VBBBC7x",
        "outputId": "28a0e599-fd37-4d93-b491-7e39c9926ecd",
        "colab": {
          "base_uri": "https://localhost:8080/",
          "height": 51
        }
      },
      "source": [
        "test_text = \"Barbados #Bridgetown JAMAICA Â\\x89Ã\\x9bÃ\\x92 Two cars set ablaze: SANTA CRUZ Â\\x89Ã\\x9bÃ\\x93 Head of the St Elizabeth Police Superintende\"\n",
        "#test_text = 'Haha South Tampa is getting flooded hah- WAIT A SECOND I LIVE IN SOUTH TAMPA WHAT AM I GONNA DO WHAT AM I GONNA DO FVCK #flooding'\n",
        "#test_text = \"#stlouis #caraccidentlawyer Speeding Among Top Causes of Teen Accidents https://t.co/k4zoMOF319 https://t.co/S2kXVM0cBA Car Accident teeÂ\\x89Ã\\x9b_\"\n",
        "spcy_test(test_text)\n"
      ],
      "execution_count": null,
      "outputs": [
        {
          "output_type": "display_data",
          "data": {
            "text/html": [
              "<span class=\"tex2jax_ignore\"><div class=\"entities\" style=\"line-height: 2.5; direction: ltr\">barbados bridgetown \n",
              "<mark class=\"entity\" style=\"background: #feca74; padding: 0.45em 0.6em; margin: 0 0.25em; line-height: 1; border-radius: 0.35em;\">\n",
              "    jamaica\n",
              "    <span style=\"font-size: 0.8em; font-weight: bold; line-height: 1; border-radius: 0.35em; text-transform: uppercase; vertical-align: middle; margin-left: 0.5rem\">GPE</span>\n",
              "</mark>\n",
              " \n",
              "<mark class=\"entity\" style=\"background: #e4e7d2; padding: 0.45em 0.6em; margin: 0 0.25em; line-height: 1; border-radius: 0.35em;\">\n",
              "    two\n",
              "    <span style=\"font-size: 0.8em; font-weight: bold; line-height: 1; border-radius: 0.35em; text-transform: uppercase; vertical-align: middle; margin-left: 0.5rem\">CARDINAL</span>\n",
              "</mark>\n",
              " cars set ablaze \n",
              "<mark class=\"entity\" style=\"background: #feca74; padding: 0.45em 0.6em; margin: 0 0.25em; line-height: 1; border-radius: 0.35em;\">\n",
              "    santa cruz\n",
              "    <span style=\"font-size: 0.8em; font-weight: bold; line-height: 1; border-radius: 0.35em; text-transform: uppercase; vertical-align: middle; margin-left: 0.5rem\">GPE</span>\n",
              "</mark>\n",
              " head of \n",
              "<mark class=\"entity\" style=\"background: #7aecec; padding: 0.45em 0.6em; margin: 0 0.25em; line-height: 1; border-radius: 0.35em;\">\n",
              "    the st elizabeth\n",
              "    <span style=\"font-size: 0.8em; font-weight: bold; line-height: 1; border-radius: 0.35em; text-transform: uppercase; vertical-align: middle; margin-left: 0.5rem\">ORG</span>\n",
              "</mark>\n",
              " police superintende</div></span>"
            ],
            "text/plain": [
              "<IPython.core.display.HTML object>"
            ]
          },
          "metadata": {
            "tags": []
          }
        }
      ]
    },
    {
      "cell_type": "code",
      "metadata": {
        "id": "9fXDdJ6zJrNN",
        "outputId": "9995d261-2529-4118-9fdd-5e53e8db9365",
        "colab": {
          "base_uri": "https://localhost:8080/",
          "height": 1000
        }
      },
      "source": [
        "test_df = disaster_tweets[40:100]\n",
        "list(test_df.text)"
      ],
      "execution_count": null,
      "outputs": [
        {
          "output_type": "execute_result",
          "data": {
            "text/plain": [
              "['Check these out: http://t.co/rOI2NSmEJJ http://t.co/3Tj8ZjiN21 http://t.co/YDUiXEfIpE http://t.co/LxTjc87KLS #nsfw',\n",
              " \"on the outside you're ablaze and alive\\nbut you're dead inside\",\n",
              " 'Had an awesome time visiting the CFC head office the ancop site and ablaze. Thanks to Tita Vida for taking care of us ??',\n",
              " 'SOOOO PUMPED FOR ABLAZE ???? @southridgelife',\n",
              " 'I wanted to set Chicago ablaze with my preaching... But not my hotel! http://t.co/o9qknbfOFX',\n",
              " 'I gained 3 followers in the last week. You? Know your stats and grow with http://t.co/TIyUliF5c6',\n",
              " 'How the West was burned: Thousands of wildfires ablaze in California alone http://t.co/vl5TBR3wbr',\n",
              " 'Building the perfect tracklist to life leave the streets ablaze',\n",
              " 'Check these out: http://t.co/rOI2NSmEJJ http://t.co/3Tj8ZjiN21 http://t.co/YDUiXEfIpE http://t.co/LxTjc87KLS #nsfw',\n",
              " \"First night with retainers in. It's quite weird. Better get used to it; I have to wear them every single night for the next year at least.\",\n",
              " 'Deputies: Man shot before Brighton home set ablaze http://t.co/gWNRhMSO8k',\n",
              " 'Man wife get six years jail for setting ablaze niece\\nhttp://t.co/eV1ahOUCZA',\n",
              " 'SANTA CRUZ Â\\x89Ã\\x9bÃ\\x93 Head of the St Elizabeth Police Superintendent Lanford Salmon has r ... - http://t.co/vplR5Hka2u http://t.co/SxHW2TNNLf',\n",
              " 'Police: Arsonist Deliberately Set Black Church In North CarolinaÃ¥Ã\\x8aAblaze http://t.co/pcXarbH9An',\n",
              " \"Noches El-Bestia '@Alexis_Sanchez: happy to see my teammates and training hard ?? goodnight gunners.?????? http://t.co/uc4j4jHvGR'\",\n",
              " '#Kurds trampling on Turkmen flag later set it ablaze while others vandalized offices of Turkmen Front in #Diyala http://t.co/4IzFdYC3cg',\n",
              " 'TRUCK ABLAZE : R21. VOORTREKKER AVE. OUTSIDE OR TAMBO INTL. CARGO SECTION. http://t.co/8kscqKfKkF',\n",
              " 'Set our hearts ablaze and every city was a gift And every skyline was like a kiss upon the lips @Â\\x89Ã\\x9b_ https://t.co/cYoMPZ1A0Z',\n",
              " \"They sky was ablaze tonight in Los Angeles. I'm expecting IG and FB to be filled with sunset shots if I know my peeps!!\",\n",
              " 'How the West was burned: Thousands of wildfires ablaze in #California alone http://t.co/iCSjGZ9tE1 #climate #energy http://t.co/9FxmN0l0Bd',\n",
              " 'Revel in yours wmv videos by means of mac farewell ablaze wmv en route to dvd: GtxRWm',\n",
              " \"Progressive greetings!\\n\\nIn about a month students would have set their pens ablaze in The Torch Publications'... http://t.co/9FxPiXQuJt\",\n",
              " 'Rene Ablaze &amp; Jacinta - Secret 2k13 (Fallen Skies Edit) - Mar 30 2013  https://t.co/7MLMsUzV1Z',\n",
              " \"@Navista7 Steve these fires out here are something else! California is a tinderbox - and this clown was setting my 'hood ablaze @News24680\",\n",
              " '#NowPlaying: Rene Ablaze &amp; Ian Buff - Magnitude http://t.co/Av2JSjfFtc  #EDM',\n",
              " '@nxwestmidlands huge fire at Wholesale markets ablaze http://t.co/rwzbFVNXER',\n",
              " \"@ablaze what time does your talk go until? I don't know if I can make it due to work.\",\n",
              " \"'I can't have kids cuz I got in a bicycle accident &amp; split my testicles. it's impossible for me to have kids' MICHAEL YOU ARE THE FATHER\",\n",
              " 'Accident on I-24 W #NashvilleTraffic. Traffic moving 8m slower than usual. https://t.co/0GHk693EgJ',\n",
              " 'Accident center lane blocked in #SantaClara on US-101 NB before Great America Pkwy #BayArea #Traffic http://t.co/pmlOhZuRWR',\n",
              " 'http://t.co/GKYe6gjTk5 Had a #personalinjury accident this summer? Read our advice &amp; see how a #solicitor can help #OtleyHour',\n",
              " '#stlouis #caraccidentlawyer Speeding Among Top Causes of Teen Accidents https://t.co/k4zoMOF319 https://t.co/S2kXVM0cBA Car Accident teeÂ\\x89Ã\\x9b_',\n",
              " 'Reported motor vehicle accident in Curry on Herman Rd near Stephenson involving an overturned vehicle. Please use... http://t.co/YbJezKuRW1',\n",
              " 'BigRigRadio Live Accident Awareness',\n",
              " 'I-77 Mile Marker 31 South Mooresville  Iredell Vehicle Accident Ramp Closed at 8/6 1:18 PM',\n",
              " 'RT @SleepJunkies: Sleeping pills double your risk of a car accident http://t.co/7s9Nm1fiCT',\n",
              " \"'By accident' they knew what was gon happen https://t.co/Ysxun5vCeh\",\n",
              " 'Traffic accident N CABRILLO HWY/MAGELLAN AV MIR (08/06/15 11:03:58)',\n",
              " 'I-77 Mile Marker 31 to 40 South Mooresville  Iredell Vehicle Accident Congestion at 8/6 1:18 PM',\n",
              " 'the pastor was not in the scene of the accident......who was the owner of the range rover ?',\n",
              " \"mom: 'we didn't get home as fast as we wished' \\nme: 'why is that?'\\nmom: 'there was an accident and some truck spilt mayonnaise all over ??????\",\n",
              " \"I was in a horrible car accident this past Sunday. I'm finally able to get around. Thank you GOD??\",\n",
              " 'Can wait to see how pissed Donnie is when I tell him I was in ANOTHER accident??',\n",
              " \"#TruckCrash Overturns On #FortWorth Interstate http://t.co/Rs22LJ4qFp Click here if you've been in a crash&gt;http://t.co/Ld0unIYw4k\",\n",
              " 'Accident in #Ashville on US 23 SB before SR 752 #traffic http://t.co/hylMo0WgFI',\n",
              " 'Carolina accident: Motorcyclist Dies in I-540 Crash With Car That Crossed Median: A motorcycle rider traveling... http://t.co/p18lzRlmy6',\n",
              " 'FYI CAD:FYI: ;ACCIDENT PROPERTY DAMAGE;NHS;999 PINER RD/HORNDALE DR',\n",
              " 'RT nAAYf: First accident in years. Turning onto Chandanee Magu from near MMA. Taxi rammed into me while I was halfway turned. Everyone confÂ\\x89Ã\\x9b_',\n",
              " 'Accident left lane blocked in #Manchester on Rt 293 NB before Eddy Rd stop and go traffic back to NH-3A delay of 4 mins #traffic',\n",
              " ';ACCIDENT PROPERTY DAMAGE; PINER RD/HORNDALE DR',\n",
              " '???? it was an accident http://t.co/Oia5fxi4gM',\n",
              " 'FYI CAD:FYI: ;ACCIDENT PROPERTY DAMAGE;WPD;1600 S 17TH ST',\n",
              " '8/6/2015@2:09 PM: TRAFFIC ACCIDENT NO INJURY at 2781 WILLIS FOREMAN RD http://t.co/VCkIT6EDEv',\n",
              " 'Aashiqui Actress Anu Aggarwal On Her Near-Fatal Accident http://t.co/6Otfp31LqW',\n",
              " 'Suffield Alberta Accident https://t.co/bPTmlF4P10',\n",
              " '9 Mile backup on I-77 South...accident blocking the Right 2 Lanes at Exit 31 Langtree Rd...consider NC 115 or NC 150 to NC 16 as alternate',\n",
              " 'Has an accident changed your life? We will help you determine options that can financially support life care plans and on-going treatment.',\n",
              " \"#BREAKING: there was a deadly motorcycle car accident that happened to #Hagerstown today. I'll have more details at 5 @Your4State. #WHAG\",\n",
              " '@flowri were you marinading it or was it an accident?',\n",
              " \"only had a car for not even a week and got in a fucking car accident .. Mfs can't fucking drive .\"]"
            ]
          },
          "metadata": {
            "tags": []
          },
          "execution_count": 31
        }
      ]
    },
    {
      "cell_type": "code",
      "metadata": {
        "id": "yqRJObTghmrO",
        "outputId": "f96d874f-9906-4a65-ccb8-b9e5b32c9c32",
        "colab": {
          "base_uri": "https://localhost:8080/",
          "height": 1000
        }
      },
      "source": [
        "%time df1 = my_df_spacy_locgpe(test_df.copy(), 'text')\n",
        "df1"
      ],
      "execution_count": null,
      "outputs": [
        {
          "output_type": "stream",
          "text": [
            "CPU times: user 764 ms, sys: 9.04 ms, total: 773 ms\n",
            "Wall time: 794 ms\n"
          ],
          "name": "stdout"
        },
        {
          "output_type": "execute_result",
          "data": {
            "text/html": [
              "<div>\n",
              "<style scoped>\n",
              "    .dataframe tbody tr th:only-of-type {\n",
              "        vertical-align: middle;\n",
              "    }\n",
              "\n",
              "    .dataframe tbody tr th {\n",
              "        vertical-align: top;\n",
              "    }\n",
              "\n",
              "    .dataframe thead th {\n",
              "        text-align: right;\n",
              "    }\n",
              "</style>\n",
              "<table border=\"1\" class=\"dataframe\">\n",
              "  <thead>\n",
              "    <tr style=\"text-align: right;\">\n",
              "      <th></th>\n",
              "      <th>id</th>\n",
              "      <th>keyword</th>\n",
              "      <th>location</th>\n",
              "      <th>text</th>\n",
              "      <th>target</th>\n",
              "      <th>loc_gpe</th>\n",
              "    </tr>\n",
              "  </thead>\n",
              "  <tbody>\n",
              "    <tr>\n",
              "      <th>40</th>\n",
              "      <td>59</td>\n",
              "      <td>ablaze</td>\n",
              "      <td>Live On Webcam</td>\n",
              "      <td>Check these out: http://t.co/rOI2NSmEJJ http:/...</td>\n",
              "      <td>0</td>\n",
              "      <td></td>\n",
              "    </tr>\n",
              "    <tr>\n",
              "      <th>41</th>\n",
              "      <td>61</td>\n",
              "      <td>ablaze</td>\n",
              "      <td>NaN</td>\n",
              "      <td>on the outside you're ablaze and alive\\nbut yo...</td>\n",
              "      <td>0</td>\n",
              "      <td></td>\n",
              "    </tr>\n",
              "    <tr>\n",
              "      <th>42</th>\n",
              "      <td>62</td>\n",
              "      <td>ablaze</td>\n",
              "      <td>milky way</td>\n",
              "      <td>Had an awesome time visiting the CFC head offi...</td>\n",
              "      <td>0</td>\n",
              "      <td></td>\n",
              "    </tr>\n",
              "    <tr>\n",
              "      <th>43</th>\n",
              "      <td>63</td>\n",
              "      <td>ablaze</td>\n",
              "      <td>NaN</td>\n",
              "      <td>SOOOO PUMPED FOR ABLAZE ???? @southridgelife</td>\n",
              "      <td>0</td>\n",
              "      <td>soooo</td>\n",
              "    </tr>\n",
              "    <tr>\n",
              "      <th>44</th>\n",
              "      <td>64</td>\n",
              "      <td>ablaze</td>\n",
              "      <td>NaN</td>\n",
              "      <td>I wanted to set Chicago ablaze with my preachi...</td>\n",
              "      <td>0</td>\n",
              "      <td>chicago</td>\n",
              "    </tr>\n",
              "    <tr>\n",
              "      <th>45</th>\n",
              "      <td>65</td>\n",
              "      <td>ablaze</td>\n",
              "      <td>NaN</td>\n",
              "      <td>I gained 3 followers in the last week. You? Kn...</td>\n",
              "      <td>0</td>\n",
              "      <td></td>\n",
              "    </tr>\n",
              "    <tr>\n",
              "      <th>46</th>\n",
              "      <td>66</td>\n",
              "      <td>ablaze</td>\n",
              "      <td>GREENSBORO,NORTH CAROLINA</td>\n",
              "      <td>How the West was burned: Thousands of wildfire...</td>\n",
              "      <td>1</td>\n",
              "      <td>california</td>\n",
              "    </tr>\n",
              "    <tr>\n",
              "      <th>47</th>\n",
              "      <td>67</td>\n",
              "      <td>ablaze</td>\n",
              "      <td>NaN</td>\n",
              "      <td>Building the perfect tracklist to life leave t...</td>\n",
              "      <td>0</td>\n",
              "      <td></td>\n",
              "    </tr>\n",
              "    <tr>\n",
              "      <th>48</th>\n",
              "      <td>68</td>\n",
              "      <td>ablaze</td>\n",
              "      <td>Live On Webcam</td>\n",
              "      <td>Check these out: http://t.co/rOI2NSmEJJ http:/...</td>\n",
              "      <td>0</td>\n",
              "      <td></td>\n",
              "    </tr>\n",
              "    <tr>\n",
              "      <th>49</th>\n",
              "      <td>71</td>\n",
              "      <td>ablaze</td>\n",
              "      <td>England.</td>\n",
              "      <td>First night with retainers in. It's quite weir...</td>\n",
              "      <td>0</td>\n",
              "      <td></td>\n",
              "    </tr>\n",
              "    <tr>\n",
              "      <th>50</th>\n",
              "      <td>73</td>\n",
              "      <td>ablaze</td>\n",
              "      <td>Sheffield Township, Ohio</td>\n",
              "      <td>Deputies: Man shot before Brighton home set ab...</td>\n",
              "      <td>1</td>\n",
              "      <td></td>\n",
              "    </tr>\n",
              "    <tr>\n",
              "      <th>51</th>\n",
              "      <td>74</td>\n",
              "      <td>ablaze</td>\n",
              "      <td>India</td>\n",
              "      <td>Man wife get six years jail for setting ablaze...</td>\n",
              "      <td>1</td>\n",
              "      <td></td>\n",
              "    </tr>\n",
              "    <tr>\n",
              "      <th>52</th>\n",
              "      <td>76</td>\n",
              "      <td>ablaze</td>\n",
              "      <td>Barbados</td>\n",
              "      <td>SANTA CRUZ ÂÃÃ Head of the St Elizabeth Pol...</td>\n",
              "      <td>0</td>\n",
              "      <td></td>\n",
              "    </tr>\n",
              "    <tr>\n",
              "      <th>53</th>\n",
              "      <td>77</td>\n",
              "      <td>ablaze</td>\n",
              "      <td>Anaheim</td>\n",
              "      <td>Police: Arsonist Deliberately Set Black Church...</td>\n",
              "      <td>1</td>\n",
              "      <td>north carolina</td>\n",
              "    </tr>\n",
              "    <tr>\n",
              "      <th>54</th>\n",
              "      <td>78</td>\n",
              "      <td>ablaze</td>\n",
              "      <td>Abuja</td>\n",
              "      <td>Noches El-Bestia '@Alexis_Sanchez: happy to se...</td>\n",
              "      <td>0</td>\n",
              "      <td></td>\n",
              "    </tr>\n",
              "    <tr>\n",
              "      <th>55</th>\n",
              "      <td>79</td>\n",
              "      <td>ablaze</td>\n",
              "      <td>USA</td>\n",
              "      <td>#Kurds trampling on Turkmen flag later set it ...</td>\n",
              "      <td>1</td>\n",
              "      <td>diyala</td>\n",
              "    </tr>\n",
              "    <tr>\n",
              "      <th>56</th>\n",
              "      <td>80</td>\n",
              "      <td>ablaze</td>\n",
              "      <td>South Africa</td>\n",
              "      <td>TRUCK ABLAZE : R21. VOORTREKKER AVE. OUTSIDE O...</td>\n",
              "      <td>1</td>\n",
              "      <td></td>\n",
              "    </tr>\n",
              "    <tr>\n",
              "      <th>57</th>\n",
              "      <td>81</td>\n",
              "      <td>ablaze</td>\n",
              "      <td>Sao Paulo, Brazil</td>\n",
              "      <td>Set our hearts ablaze and every city was a gif...</td>\n",
              "      <td>0</td>\n",
              "      <td></td>\n",
              "    </tr>\n",
              "    <tr>\n",
              "      <th>58</th>\n",
              "      <td>82</td>\n",
              "      <td>ablaze</td>\n",
              "      <td>hollywoodland</td>\n",
              "      <td>They sky was ablaze tonight in Los Angeles. I'...</td>\n",
              "      <td>0</td>\n",
              "      <td>los angeles</td>\n",
              "    </tr>\n",
              "    <tr>\n",
              "      <th>59</th>\n",
              "      <td>83</td>\n",
              "      <td>ablaze</td>\n",
              "      <td>Edmonton, Alberta - Treaty 6</td>\n",
              "      <td>How the West was burned: Thousands of wildfire...</td>\n",
              "      <td>1</td>\n",
              "      <td>california</td>\n",
              "    </tr>\n",
              "    <tr>\n",
              "      <th>60</th>\n",
              "      <td>85</td>\n",
              "      <td>ablaze</td>\n",
              "      <td>NaN</td>\n",
              "      <td>Revel in yours wmv videos by means of mac fare...</td>\n",
              "      <td>0</td>\n",
              "      <td></td>\n",
              "    </tr>\n",
              "    <tr>\n",
              "      <th>61</th>\n",
              "      <td>86</td>\n",
              "      <td>ablaze</td>\n",
              "      <td>Inang Pamantasan</td>\n",
              "      <td>Progressive greetings!\\n\\nIn about a month stu...</td>\n",
              "      <td>0</td>\n",
              "      <td></td>\n",
              "    </tr>\n",
              "    <tr>\n",
              "      <th>62</th>\n",
              "      <td>89</td>\n",
              "      <td>ablaze</td>\n",
              "      <td>Twitter Lockout in progress</td>\n",
              "      <td>Rene Ablaze &amp;amp; Jacinta - Secret 2k13 (Falle...</td>\n",
              "      <td>0</td>\n",
              "      <td></td>\n",
              "    </tr>\n",
              "    <tr>\n",
              "      <th>63</th>\n",
              "      <td>91</td>\n",
              "      <td>ablaze</td>\n",
              "      <td>Concord, CA</td>\n",
              "      <td>@Navista7 Steve these fires out here are somet...</td>\n",
              "      <td>1</td>\n",
              "      <td>california</td>\n",
              "    </tr>\n",
              "    <tr>\n",
              "      <th>64</th>\n",
              "      <td>92</td>\n",
              "      <td>ablaze</td>\n",
              "      <td>Calgary, AB</td>\n",
              "      <td>#NowPlaying: Rene Ablaze &amp;amp; Ian Buff - Magn...</td>\n",
              "      <td>0</td>\n",
              "      <td></td>\n",
              "    </tr>\n",
              "    <tr>\n",
              "      <th>65</th>\n",
              "      <td>93</td>\n",
              "      <td>ablaze</td>\n",
              "      <td>Birmingham</td>\n",
              "      <td>@nxwestmidlands huge fire at Wholesale markets...</td>\n",
              "      <td>1</td>\n",
              "      <td></td>\n",
              "    </tr>\n",
              "    <tr>\n",
              "      <th>66</th>\n",
              "      <td>95</td>\n",
              "      <td>ablaze</td>\n",
              "      <td>San Francisco</td>\n",
              "      <td>@ablaze what time does your talk go until? I d...</td>\n",
              "      <td>0</td>\n",
              "      <td></td>\n",
              "    </tr>\n",
              "    <tr>\n",
              "      <th>67</th>\n",
              "      <td>96</td>\n",
              "      <td>accident</td>\n",
              "      <td>CLVLND</td>\n",
              "      <td>'I can't have kids cuz I got in a bicycle acci...</td>\n",
              "      <td>0</td>\n",
              "      <td></td>\n",
              "    </tr>\n",
              "    <tr>\n",
              "      <th>68</th>\n",
              "      <td>97</td>\n",
              "      <td>accident</td>\n",
              "      <td>Nashville, TN</td>\n",
              "      <td>Accident on I-24 W #NashvilleTraffic. Traffic ...</td>\n",
              "      <td>1</td>\n",
              "      <td></td>\n",
              "    </tr>\n",
              "    <tr>\n",
              "      <th>69</th>\n",
              "      <td>98</td>\n",
              "      <td>accident</td>\n",
              "      <td>Santa Clara, CA</td>\n",
              "      <td>Accident center lane blocked in #SantaClara on...</td>\n",
              "      <td>1</td>\n",
              "      <td>santaclara great america</td>\n",
              "    </tr>\n",
              "    <tr>\n",
              "      <th>70</th>\n",
              "      <td>100</td>\n",
              "      <td>accident</td>\n",
              "      <td>UK</td>\n",
              "      <td>http://t.co/GKYe6gjTk5 Had a #personalinjury a...</td>\n",
              "      <td>0</td>\n",
              "      <td></td>\n",
              "    </tr>\n",
              "    <tr>\n",
              "      <th>71</th>\n",
              "      <td>102</td>\n",
              "      <td>accident</td>\n",
              "      <td>St. Louis, MO</td>\n",
              "      <td>#stlouis #caraccidentlawyer Speeding Among Top...</td>\n",
              "      <td>0</td>\n",
              "      <td>co s kxvm</td>\n",
              "    </tr>\n",
              "    <tr>\n",
              "      <th>72</th>\n",
              "      <td>104</td>\n",
              "      <td>accident</td>\n",
              "      <td>Walker County, Alabama</td>\n",
              "      <td>Reported motor vehicle accident in Curry on He...</td>\n",
              "      <td>1</td>\n",
              "      <td>stephenson</td>\n",
              "    </tr>\n",
              "    <tr>\n",
              "      <th>73</th>\n",
              "      <td>105</td>\n",
              "      <td>accident</td>\n",
              "      <td>Australia</td>\n",
              "      <td>BigRigRadio Live Accident Awareness</td>\n",
              "      <td>1</td>\n",
              "      <td></td>\n",
              "    </tr>\n",
              "    <tr>\n",
              "      <th>74</th>\n",
              "      <td>107</td>\n",
              "      <td>accident</td>\n",
              "      <td>North Carolina</td>\n",
              "      <td>I-77 Mile Marker 31 South Mooresville  Iredell...</td>\n",
              "      <td>1</td>\n",
              "      <td></td>\n",
              "    </tr>\n",
              "    <tr>\n",
              "      <th>75</th>\n",
              "      <td>109</td>\n",
              "      <td>accident</td>\n",
              "      <td>NaN</td>\n",
              "      <td>RT @SleepJunkies: Sleeping pills double your r...</td>\n",
              "      <td>0</td>\n",
              "      <td></td>\n",
              "    </tr>\n",
              "    <tr>\n",
              "      <th>76</th>\n",
              "      <td>110</td>\n",
              "      <td>accident</td>\n",
              "      <td>Norf Carolina</td>\n",
              "      <td>'By accident' they knew what was gon happen ht...</td>\n",
              "      <td>0</td>\n",
              "      <td></td>\n",
              "    </tr>\n",
              "    <tr>\n",
              "      <th>77</th>\n",
              "      <td>112</td>\n",
              "      <td>accident</td>\n",
              "      <td>San Mateo County, CA</td>\n",
              "      <td>Traffic accident N CABRILLO HWY/MAGELLAN AV MI...</td>\n",
              "      <td>1</td>\n",
              "      <td></td>\n",
              "    </tr>\n",
              "    <tr>\n",
              "      <th>78</th>\n",
              "      <td>113</td>\n",
              "      <td>accident</td>\n",
              "      <td>North Carolina</td>\n",
              "      <td>I-77 Mile Marker 31 to 40 South Mooresville  I...</td>\n",
              "      <td>1</td>\n",
              "      <td></td>\n",
              "    </tr>\n",
              "    <tr>\n",
              "      <th>79</th>\n",
              "      <td>114</td>\n",
              "      <td>accident</td>\n",
              "      <td>Njoro, Kenya</td>\n",
              "      <td>the pastor was not in the scene of the acciden...</td>\n",
              "      <td>1</td>\n",
              "      <td></td>\n",
              "    </tr>\n",
              "    <tr>\n",
              "      <th>80</th>\n",
              "      <td>117</td>\n",
              "      <td>accident</td>\n",
              "      <td>NaN</td>\n",
              "      <td>mom: 'we didn't get home as fast as we wished'...</td>\n",
              "      <td>0</td>\n",
              "      <td></td>\n",
              "    </tr>\n",
              "    <tr>\n",
              "      <th>81</th>\n",
              "      <td>118</td>\n",
              "      <td>accident</td>\n",
              "      <td>Your Sister's Bedroom</td>\n",
              "      <td>I was in a horrible car accident this past Sun...</td>\n",
              "      <td>1</td>\n",
              "      <td></td>\n",
              "    </tr>\n",
              "    <tr>\n",
              "      <th>82</th>\n",
              "      <td>119</td>\n",
              "      <td>accident</td>\n",
              "      <td>NaN</td>\n",
              "      <td>Can wait to see how pissed Donnie is when I te...</td>\n",
              "      <td>0</td>\n",
              "      <td></td>\n",
              "    </tr>\n",
              "    <tr>\n",
              "      <th>83</th>\n",
              "      <td>120</td>\n",
              "      <td>accident</td>\n",
              "      <td>Arlington, TX</td>\n",
              "      <td>#TruckCrash Overturns On #FortWorth Interstate...</td>\n",
              "      <td>1</td>\n",
              "      <td></td>\n",
              "    </tr>\n",
              "    <tr>\n",
              "      <th>84</th>\n",
              "      <td>121</td>\n",
              "      <td>accident</td>\n",
              "      <td>South Bloomfield, OH</td>\n",
              "      <td>Accident in #Ashville on US 23 SB before SR 75...</td>\n",
              "      <td>1</td>\n",
              "      <td>ashville</td>\n",
              "    </tr>\n",
              "    <tr>\n",
              "      <th>85</th>\n",
              "      <td>126</td>\n",
              "      <td>accident</td>\n",
              "      <td>NaN</td>\n",
              "      <td>Carolina accident: Motorcyclist Dies in I-540 ...</td>\n",
              "      <td>1</td>\n",
              "      <td></td>\n",
              "    </tr>\n",
              "    <tr>\n",
              "      <th>86</th>\n",
              "      <td>128</td>\n",
              "      <td>accident</td>\n",
              "      <td>New Hanover County, NC</td>\n",
              "      <td>FYI CAD:FYI: ;ACCIDENT PROPERTY DAMAGE;NHS;999...</td>\n",
              "      <td>1</td>\n",
              "      <td></td>\n",
              "    </tr>\n",
              "    <tr>\n",
              "      <th>87</th>\n",
              "      <td>129</td>\n",
              "      <td>accident</td>\n",
              "      <td>Maldives</td>\n",
              "      <td>RT nAAYf: First accident in years. Turning ont...</td>\n",
              "      <td>1</td>\n",
              "      <td></td>\n",
              "    </tr>\n",
              "    <tr>\n",
              "      <th>88</th>\n",
              "      <td>130</td>\n",
              "      <td>accident</td>\n",
              "      <td>Manchester, NH</td>\n",
              "      <td>Accident left lane blocked in #Manchester on R...</td>\n",
              "      <td>1</td>\n",
              "      <td></td>\n",
              "    </tr>\n",
              "    <tr>\n",
              "      <th>89</th>\n",
              "      <td>131</td>\n",
              "      <td>accident</td>\n",
              "      <td>Wilmington, NC</td>\n",
              "      <td>;ACCIDENT PROPERTY DAMAGE; PINER RD/HORNDALE DR</td>\n",
              "      <td>1</td>\n",
              "      <td></td>\n",
              "    </tr>\n",
              "    <tr>\n",
              "      <th>90</th>\n",
              "      <td>132</td>\n",
              "      <td>accident</td>\n",
              "      <td>NaN</td>\n",
              "      <td>???? it was an accident http://t.co/Oia5fxi4gM</td>\n",
              "      <td>0</td>\n",
              "      <td></td>\n",
              "    </tr>\n",
              "    <tr>\n",
              "      <th>91</th>\n",
              "      <td>133</td>\n",
              "      <td>accident</td>\n",
              "      <td>New Hanover County, NC</td>\n",
              "      <td>FYI CAD:FYI: ;ACCIDENT PROPERTY DAMAGE;WPD;160...</td>\n",
              "      <td>1</td>\n",
              "      <td></td>\n",
              "    </tr>\n",
              "    <tr>\n",
              "      <th>92</th>\n",
              "      <td>134</td>\n",
              "      <td>accident</td>\n",
              "      <td>NaN</td>\n",
              "      <td>8/6/2015@2:09 PM: TRAFFIC ACCIDENT NO INJURY a...</td>\n",
              "      <td>1</td>\n",
              "      <td></td>\n",
              "    </tr>\n",
              "    <tr>\n",
              "      <th>93</th>\n",
              "      <td>135</td>\n",
              "      <td>accident</td>\n",
              "      <td>global</td>\n",
              "      <td>Aashiqui Actress Anu Aggarwal On Her Near-Fata...</td>\n",
              "      <td>1</td>\n",
              "      <td></td>\n",
              "    </tr>\n",
              "    <tr>\n",
              "      <th>94</th>\n",
              "      <td>136</td>\n",
              "      <td>accident</td>\n",
              "      <td>Alberta | Sask. | Montana</td>\n",
              "      <td>Suffield Alberta Accident https://t.co/bPTmlF4P10</td>\n",
              "      <td>1</td>\n",
              "      <td>alberta</td>\n",
              "    </tr>\n",
              "    <tr>\n",
              "      <th>95</th>\n",
              "      <td>137</td>\n",
              "      <td>accident</td>\n",
              "      <td>Charlotte</td>\n",
              "      <td>9 Mile backup on I-77 South...accident blockin...</td>\n",
              "      <td>1</td>\n",
              "      <td></td>\n",
              "    </tr>\n",
              "    <tr>\n",
              "      <th>96</th>\n",
              "      <td>138</td>\n",
              "      <td>accident</td>\n",
              "      <td>Baton Rouge, LA</td>\n",
              "      <td>Has an accident changed your life? We will hel...</td>\n",
              "      <td>0</td>\n",
              "      <td></td>\n",
              "    </tr>\n",
              "    <tr>\n",
              "      <th>97</th>\n",
              "      <td>139</td>\n",
              "      <td>accident</td>\n",
              "      <td>Hagerstown, MD</td>\n",
              "      <td>#BREAKING: there was a deadly motorcycle car a...</td>\n",
              "      <td>1</td>\n",
              "      <td></td>\n",
              "    </tr>\n",
              "    <tr>\n",
              "      <th>98</th>\n",
              "      <td>141</td>\n",
              "      <td>accident</td>\n",
              "      <td>Gloucestershire , UK</td>\n",
              "      <td>@flowri were you marinading it or was it an ac...</td>\n",
              "      <td>0</td>\n",
              "      <td></td>\n",
              "    </tr>\n",
              "    <tr>\n",
              "      <th>99</th>\n",
              "      <td>143</td>\n",
              "      <td>accident</td>\n",
              "      <td>NaN</td>\n",
              "      <td>only had a car for not even a week and got in ...</td>\n",
              "      <td>1</td>\n",
              "      <td></td>\n",
              "    </tr>\n",
              "  </tbody>\n",
              "</table>\n",
              "</div>"
            ],
            "text/plain": [
              "     id   keyword  ... target                   loc_gpe\n",
              "40   59    ablaze  ...      0                          \n",
              "41   61    ablaze  ...      0                          \n",
              "42   62    ablaze  ...      0                          \n",
              "43   63    ablaze  ...      0                     soooo\n",
              "44   64    ablaze  ...      0                   chicago\n",
              "45   65    ablaze  ...      0                          \n",
              "46   66    ablaze  ...      1                california\n",
              "47   67    ablaze  ...      0                          \n",
              "48   68    ablaze  ...      0                          \n",
              "49   71    ablaze  ...      0                          \n",
              "50   73    ablaze  ...      1                          \n",
              "51   74    ablaze  ...      1                          \n",
              "52   76    ablaze  ...      0                          \n",
              "53   77    ablaze  ...      1            north carolina\n",
              "54   78    ablaze  ...      0                          \n",
              "55   79    ablaze  ...      1                    diyala\n",
              "56   80    ablaze  ...      1                          \n",
              "57   81    ablaze  ...      0                          \n",
              "58   82    ablaze  ...      0               los angeles\n",
              "59   83    ablaze  ...      1                california\n",
              "60   85    ablaze  ...      0                          \n",
              "61   86    ablaze  ...      0                          \n",
              "62   89    ablaze  ...      0                          \n",
              "63   91    ablaze  ...      1                california\n",
              "64   92    ablaze  ...      0                          \n",
              "65   93    ablaze  ...      1                          \n",
              "66   95    ablaze  ...      0                          \n",
              "67   96  accident  ...      0                          \n",
              "68   97  accident  ...      1                          \n",
              "69   98  accident  ...      1  santaclara great america\n",
              "70  100  accident  ...      0                          \n",
              "71  102  accident  ...      0                 co s kxvm\n",
              "72  104  accident  ...      1                stephenson\n",
              "73  105  accident  ...      1                          \n",
              "74  107  accident  ...      1                          \n",
              "75  109  accident  ...      0                          \n",
              "76  110  accident  ...      0                          \n",
              "77  112  accident  ...      1                          \n",
              "78  113  accident  ...      1                          \n",
              "79  114  accident  ...      1                          \n",
              "80  117  accident  ...      0                          \n",
              "81  118  accident  ...      1                          \n",
              "82  119  accident  ...      0                          \n",
              "83  120  accident  ...      1                          \n",
              "84  121  accident  ...      1                  ashville\n",
              "85  126  accident  ...      1                          \n",
              "86  128  accident  ...      1                          \n",
              "87  129  accident  ...      1                          \n",
              "88  130  accident  ...      1                          \n",
              "89  131  accident  ...      1                          \n",
              "90  132  accident  ...      0                          \n",
              "91  133  accident  ...      1                          \n",
              "92  134  accident  ...      1                          \n",
              "93  135  accident  ...      1                          \n",
              "94  136  accident  ...      1                   alberta\n",
              "95  137  accident  ...      1                          \n",
              "96  138  accident  ...      0                          \n",
              "97  139  accident  ...      1                          \n",
              "98  141  accident  ...      0                          \n",
              "99  143  accident  ...      1                          \n",
              "\n",
              "[60 rows x 6 columns]"
            ]
          },
          "metadata": {
            "tags": []
          },
          "execution_count": 32
        }
      ]
    },
    {
      "cell_type": "code",
      "metadata": {
        "id": "wVbCU-nTbTSI"
      },
      "source": [
        "#df2 = my_df_spacy_fac   (df1.copy(), 'text')\n",
        "#df2"
      ],
      "execution_count": null,
      "outputs": []
    },
    {
      "cell_type": "code",
      "metadata": {
        "id": "hG5RGlPxZRrs"
      },
      "source": [
        ""
      ],
      "execution_count": null,
      "outputs": []
    },
    {
      "cell_type": "markdown",
      "metadata": {
        "id": "hHNIa_ZVJh-X"
      },
      "source": [
        "# Evaluationg Basic modeling"
      ]
    },
    {
      "cell_type": "code",
      "metadata": {
        "id": "enJEN9dXNisk"
      },
      "source": [
        "df    = disaster_tweets.copy()"
      ],
      "execution_count": null,
      "outputs": []
    },
    {
      "cell_type": "code",
      "metadata": {
        "id": "pEI2ebP28czf"
      },
      "source": [
        "#tfidf_v = TfidfVectorizer(ngram_range=(1, 2))\n",
        "#tfidf_bow = tfidf_v.fit_transform(df[\"_lemmatized\"])   # FIT and transform to learn\n",
        "### ??? wo wird das denn weiterverwendet ???"
      ],
      "execution_count": null,
      "outputs": []
    },
    {
      "cell_type": "code",
      "metadata": {
        "id": "w8XyRQHUTIJM"
      },
      "source": [
        "#tfidf_v.transform(no_df['_lemmatized'])  # only transformation!!!"
      ],
      "execution_count": null,
      "outputs": []
    },
    {
      "cell_type": "markdown",
      "metadata": {
        "id": "EIKIJQjPhozh"
      },
      "source": [
        "## Train-Test-Split"
      ]
    },
    {
      "cell_type": "code",
      "metadata": {
        "id": "AXbhHIURMtcH"
      },
      "source": [
        "X_train, X_test,\\\n",
        "y_train, y_test =\\\n",
        " train_test_split(df[\"text\"],\n",
        "                  df[\"target\"],\n",
        "                  test_size=0.2,\n",
        "                  random_state=314159,\n",
        "                  stratify=df[\"target\"])"
      ],
      "execution_count": null,
      "outputs": []
    },
    {
      "cell_type": "markdown",
      "metadata": {
        "id": "TqG8EfEBhx3C"
      },
      "source": [
        "##pipline Tfidf, MultinomialNB"
      ]
    },
    {
      "cell_type": "code",
      "metadata": {
        "id": "VrlKAPzNxz0F",
        "outputId": "bb78435c-c606-4ff4-e536-eb30351af49a",
        "colab": {
          "base_uri": "https://localhost:8080/",
          "height": 295
        }
      },
      "source": [
        "#### naive bayes \n",
        "pipeMNB = make_pipeline(TfidfVectorizer(ngram_range=(1, 2)), MultinomialNB())\n",
        "\n",
        "#display( cross_val_score(pipeMNB, X_train, y_train).mean() )\n",
        "\n",
        "pipeMNB.fit(X_train, y_train)\n",
        "\n",
        "plot_confusion_matrix(pipeMNB, X_test, y_test, values_format=\"0.3f\", normalize='true', cmap=\"RdYlGn\")\n",
        "plt.title(f\"best accuracy: { accuracy_score(y_test, pipeMNB.predict(X_test)):0.3f}\")\n",
        "plt.show()"
      ],
      "execution_count": null,
      "outputs": [
        {
          "output_type": "display_data",
          "data": {
            "image/png": "[encoded data removed]",
            "text/plain": [
              "<Figure size 432x288 with 2 Axes>"
            ]
          },
          "metadata": {
            "tags": [],
            "needs_background": "light"
          }
        }
      ]
    },
    {
      "cell_type": "code",
      "metadata": {
        "id": "19DTeMZN3z2D",
        "outputId": "962c853f-5355-45f8-d507-30d0e314dbaa",
        "colab": {
          "base_uri": "https://localhost:8080/",
          "height": 295
        }
      },
      "source": [
        "#df = disaster_tweets.copy()\n",
        "df = my_df_text_mining(disaster_tweets.copy(), 'text')\n",
        "#### filtering numvers and special characters\n",
        "#### copy for trials\n",
        "\n",
        "X_train, X_test,\\\n",
        "y_train, y_test =\\\n",
        " train_test_split(df[\"text\"],\n",
        "                  df[\"target\"],\n",
        "                  test_size=0.2,\n",
        "                  random_state=314159,\n",
        "                  stratify=df[\"target\"])\n",
        "\n",
        "\n",
        "#### naive bayes \n",
        "pipeMNB = make_pipeline(TfidfVectorizer(ngram_range=(1, 2)), MultinomialNB())\n",
        "\n",
        "#display( cross_val_score(pipeMNB, X_train, y_train).mean() )\n",
        "\n",
        "pipeMNB.fit(X_train, y_train)\n",
        "\n",
        "plot_confusion_matrix(pipeMNB, X_test, y_test, values_format=\"0.3f\", normalize='true', cmap=\"RdYlGn\")\n",
        "plt.title(f\"best accuracy: { accuracy_score(y_test, pipeMNB.predict(X_test)):0.3f}\")\n",
        "plt.show()"
      ],
      "execution_count": null,
      "outputs": [
        {
          "output_type": "display_data",
          "data": {
            "image/png": "[encoded data removed]",
            "text/plain": [
              "<Figure size 432x288 with 2 Axes>"
            ]
          },
          "metadata": {
            "tags": [],
            "needs_background": "light"
          }
        }
      ]
    },
    {
      "cell_type": "code",
      "metadata": {
        "id": "tsNvZle4OTGd"
      },
      "source": [
        "# marginal change: (1,1) improved, but (0,0) declined ... :( S"
      ],
      "execution_count": null,
      "outputs": []
    },
    {
      "cell_type": "code",
      "metadata": {
        "id": "jlNxoCyM3zpS"
      },
      "source": [
        ""
      ],
      "execution_count": null,
      "outputs": []
    },
    {
      "cell_type": "code",
      "metadata": {
        "id": "PTr3XZO1L5oJ"
      },
      "source": [
        ""
      ],
      "execution_count": null,
      "outputs": []
    },
    {
      "cell_type": "markdown",
      "metadata": {
        "id": "3Z6Ky23cKHfj"
      },
      "source": [
        "# Evaluation extended Modeling (weitere Spalten)"
      ]
    },
    {
      "cell_type": "code",
      "metadata": {
        "id": "VqMh7A6rKPjd"
      },
      "source": [
        ""
      ],
      "execution_count": null,
      "outputs": []
    },
    {
      "cell_type": "markdown",
      "metadata": {
        "id": "cgvgPQvHKQF0"
      },
      "source": [
        "# Final Model"
      ]
    },
    {
      "cell_type": "code",
      "metadata": {
        "id": "bF9u3-06KTYW"
      },
      "source": [
        "# Performance"
      ],
      "execution_count": null,
      "outputs": []
    }
  ]
}