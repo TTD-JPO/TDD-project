{
  "nbformat": 4,
  "nbformat_minor": 0,
  "metadata": {
    "colab": {
      "name": "disaster-tweets-OCF.ipynb",
      "provenance": [],
      "collapsed_sections": [],
      "include_colab_link": true
    },
    "kernelspec": {
      "name": "python3",
      "display_name": "Python 3"
    }
  },
  "cells": [
    {
      "cell_type": "markdown",
      "metadata": {
        "id": "view-in-github",
        "colab_type": "text"
      },
      "source": [
        "<a href=\"https://colab.research.google.com/github/TTD-JPO/TDD-project/blob/fabero/disaster_tweets_OCF.ipynb\" target=\"_parent\"><img src=\"https://colab.research.google.com/assets/colab-badge.svg\" alt=\"Open In Colab\"/></a>"
      ]
    },
    {
      "cell_type": "markdown",
      "metadata": {
        "id": "P2yOg5qUI4w7"
      },
      "source": [
        "# Load Libs"
      ]
    },
    {
      "cell_type": "code",
      "metadata": {
        "id": "62jrF4rfJL0g"
      },
      "source": [
        "import pandas as pd\n",
        "import numpy as np\n",
        "import matplotlib.pyplot as plt\n",
        "import seaborn as sns\n",
        "\n",
        "from datetime import timedelta, time"
      ],
      "execution_count": 9,
      "outputs": []
    },
    {
      "cell_type": "code",
      "metadata": {
        "id": "i2Nfud6cMzXq"
      },
      "source": [
        "from sklearn.pipeline import make_pipeline\n",
        "\n",
        "from sklearn.model_selection import cross_val_score\n",
        "from sklearn.linear_model import LogisticRegression\n",
        "from sklearn.model_selection import train_test_split\n",
        "from sklearn.metrics import accuracy_score, r2_score, plot_confusion_matrix\n",
        "\n",
        "from sklearn.naive_bayes import CategoricalNB, MultinomialNB, BernoulliNB\n",
        "from sklearn.feature_extraction.text import CountVectorizer, TfidfVectorizer\n",
        "\n",
        "#cv = CountVectorizer()\n",
        "#bow_cv = cv.fit_transform(df[\"_lemmatized\"])"
      ],
      "execution_count": 10,
      "outputs": []
    },
    {
      "cell_type": "code",
      "metadata": {
        "id": "SZ84NmUz_Kzt",
        "outputId": "34e16102-0be4-4f84-f710-e121413612ab",
        "colab": {
          "base_uri": "https://localhost:8080/",
          "height": 87
        }
      },
      "source": [
        "import re\n",
        "\n",
        "import nltk\n",
        "nltk.download('stopwords')\n",
        "from nltk.corpus import stopwords\n",
        "from nltk.stem import WordNetLemmatizer\n",
        "nltk.download('wordnet')\n",
        "lemmatizer = WordNetLemmatizer()\n",
        "\n",
        "\n",
        "def clean_text(text):\n",
        "  # get rid of all unwanted punctuation and digits\n",
        "  text = text.replace(\"´\", \"'\")\n",
        "\n",
        "  digi_punct = \"[^a-zA-Z' ]\"\n",
        "  text = re.sub(digi_punct, \" \", text)\n",
        "  text = \" \".join(text.split())\n",
        "  text = text.lower()\n",
        "\n",
        "  return text\n",
        "\n",
        "def my_df_text_mining(df, col):\n",
        "  lemmatizer = WordNetLemmatizer()\n",
        "  my_stopwords = stopwords.words(\"english\")\n",
        "  \n",
        "  df[\"_no_stopwords\"] = df[col].apply(             lambda texxt: \" \".join([word for word in clean_text(texxt).split() if word not in my_stopwords]))\n",
        "  df[\"_lemmatized\"]   = df[\"_no_stopwords\"].apply( lambda texxt: \" \".join([lemmatizer.lemmatize(word) for word in texxt.split()]) )\n",
        "\n",
        "  return df.drop([\"_no_stopwords\"], axis=1)"
      ],
      "execution_count": 11,
      "outputs": [
        {
          "output_type": "stream",
          "text": [
            "[nltk_data] Downloading package stopwords to /root/nltk_data...\n",
            "[nltk_data]   Package stopwords is already up-to-date!\n",
            "[nltk_data] Downloading package wordnet to /root/nltk_data...\n",
            "[nltk_data]   Package wordnet is already up-to-date!\n"
          ],
          "name": "stdout"
        }
      ]
    },
    {
      "cell_type": "markdown",
      "metadata": {
        "id": "iRaNbVPpJAk9"
      },
      "source": [
        "# Load data"
      ]
    },
    {
      "cell_type": "markdown",
      "metadata": {
        "id": "ENvKDlwXrXAH"
      },
      "source": [
        "[Link to data (csv) @google drive](https://drive.google.com/file/d/1QPragNh_wYQVsXQvds8sqjDMfzARD638/view?usp=sharing)\n"
      ]
    },
    {
      "cell_type": "code",
      "metadata": {
        "id": "jAUe5gnhWgAG"
      },
      "source": [
        "url = 'https://raw.githubusercontent.com/TTD-JPO/TDD-project/main/disaster_tweets.csv'\n",
        "disaster_tweets = pd.read_csv(url, encoding='latin-1')"
      ],
      "execution_count": 12,
      "outputs": []
    },
    {
      "cell_type": "markdown",
      "metadata": {
        "id": "39jRgJbZJWpX"
      },
      "source": [
        "# Evaluate data"
      ]
    },
    {
      "cell_type": "code",
      "metadata": {
        "id": "QZqYCDfCwx93",
        "outputId": "c78bcbc4-6d8a-4c9d-e804-8b420e57b6cd",
        "colab": {
          "base_uri": "https://localhost:8080/",
          "height": 52
        }
      },
      "source": [
        "print( \"absolute number of disaster indicated messages:\", disaster_tweets.target.sum() )\n",
        "print( f\"relative number of disaster indicated messages: {disaster_tweets.target.sum() / disaster_tweets.shape[0] :0.3f}\" )"
      ],
      "execution_count": 13,
      "outputs": [
        {
          "output_type": "stream",
          "text": [
            "absolute number of disaster indicated messages: 3271\n",
            "relative number of disaster indicated messages: 0.430\n"
          ],
          "name": "stdout"
        }
      ]
    },
    {
      "cell_type": "code",
      "metadata": {
        "id": "nqZJof0Z4D91",
        "outputId": "d7afd2a2-7d01-427f-d4a3-a62c645e051c",
        "colab": {
          "base_uri": "https://localhost:8080/",
          "height": 248
        }
      },
      "source": [
        "disaster_tweets.loc[[1, 0], :].plot.pie(y='target', autopct=lambda x: round(x, 2));"
      ],
      "execution_count": 14,
      "outputs": [
        {
          "output_type": "display_data",
          "data": {
            "image/png": "[encoded data removed]",
            "text/plain": [
              "<Figure size 432x288 with 1 Axes>"
            ]
          },
          "metadata": {
            "tags": []
          }
        }
      ]
    },
    {
      "cell_type": "code",
      "metadata": {
        "id": "F6uPwdhszFtK"
      },
      "source": [
        "keys      = list(disaster_tweets.keyword.unique() )\n",
        "locations = list(disaster_tweets.location.unique() )"
      ],
      "execution_count": 15,
      "outputs": []
    },
    {
      "cell_type": "code",
      "metadata": {
        "id": "DPVGQ418uYJj",
        "outputId": "92de2c1e-5a29-4c56-8697-5ac30d24aedf",
        "colab": {
          "base_uri": "https://localhost:8080/",
          "height": 246
        }
      },
      "source": [
        "disaster_tweets.groupby('keyword').target.count().sort_values(ascending=False)\n"
      ],
      "execution_count": 16,
      "outputs": [
        {
          "output_type": "execute_result",
          "data": {
            "text/plain": [
              "keyword\n",
              "fatalities               45\n",
              "deluge                   42\n",
              "armageddon               42\n",
              "body%20bags              41\n",
              "sinking                  41\n",
              "                         ..\n",
              "forest%20fire            19\n",
              "epicentre                12\n",
              "threat                   11\n",
              "inundation               10\n",
              "radiation%20emergency     9\n",
              "Name: target, Length: 221, dtype: int64"
            ]
          },
          "metadata": {
            "tags": []
          },
          "execution_count": 16
        }
      ]
    },
    {
      "cell_type": "code",
      "metadata": {
        "id": "u4fk_EELupKD",
        "outputId": "c151bf6a-7b56-4bf4-e35f-c662a01294a6",
        "colab": {
          "base_uri": "https://localhost:8080/",
          "height": 246
        }
      },
      "source": [
        "disaster_tweets.groupby('location').target.count().sort_values(ascending=False)"
      ],
      "execution_count": 17,
      "outputs": [
        {
          "output_type": "execute_result",
          "data": {
            "text/plain": [
              "location\n",
              "USA                            104\n",
              "New York                        71\n",
              "United States                   50\n",
              "London                          45\n",
              "Canada                          29\n",
              "                              ... \n",
              "Republica Dominicana             1\n",
              "Republic of the Philippines      1\n",
              "Regalo Island                    1\n",
              "Redondo Beach, CA                1\n",
              "                                 1\n",
              "Name: target, Length: 3341, dtype: int64"
            ]
          },
          "metadata": {
            "tags": []
          },
          "execution_count": 17
        }
      ]
    },
    {
      "cell_type": "code",
      "metadata": {
        "id": "eOgyt3aj5EZV",
        "outputId": "0a716e4c-e74f-4813-936b-dc0cfdfaf869",
        "colab": {
          "base_uri": "https://localhost:8080/",
          "height": 53
        }
      },
      "source": [
        "display( f\"relative number of keyword   messages: {disaster_tweets.keyword.nunique()  / disaster_tweets.shape[0] :0.3f}\" )\n",
        "display( f\"relative number of location  messages: {disaster_tweets.location.nunique() / disaster_tweets.shape[0] :0.3f}\" )"
      ],
      "execution_count": 18,
      "outputs": [
        {
          "output_type": "display_data",
          "data": {
            "application/vnd.google.colaboratory.intrinsic+json": {
              "type": "string"
            },
            "text/plain": [
              "'relative number of keyword   messages: 0.029'"
            ]
          },
          "metadata": {
            "tags": []
          }
        },
        {
          "output_type": "display_data",
          "data": {
            "application/vnd.google.colaboratory.intrinsic+json": {
              "type": "string"
            },
            "text/plain": [
              "'relative number of location  messages: 0.439'"
            ]
          },
          "metadata": {
            "tags": []
          }
        }
      ]
    },
    {
      "cell_type": "code",
      "metadata": {
        "id": "N3FC1viZFsoY"
      },
      "source": [
        "### we might do these steps later after having processed the text :)\n",
        "#dt = disaster_tweets.copy()"
      ],
      "execution_count": 19,
      "outputs": []
    },
    {
      "cell_type": "code",
      "metadata": {
        "id": "t8MoY936GoQL"
      },
      "source": [
        "dt = my_df_text_mining(disaster_tweets, 'text')"
      ],
      "execution_count": 20,
      "outputs": []
    },
    {
      "cell_type": "code",
      "metadata": {
        "id": "UWwFaeG5xz63"
      },
      "source": [
        "no_keyword_ = dt[  dt.keyword.isna()]\n",
        "keyword_    = dt[ ~dt.keyword.isna()]"
      ],
      "execution_count": 21,
      "outputs": []
    },
    {
      "cell_type": "code",
      "metadata": {
        "id": "K4aFH74otcdH",
        "outputId": "efe0b79e-1aff-48da-f2ad-eb948b665df5",
        "colab": {
          "base_uri": "https://localhost:8080/",
          "height": 246
        }
      },
      "source": [
        "keyword_.groupby('keyword').target.count()"
      ],
      "execution_count": 22,
      "outputs": [
        {
          "output_type": "execute_result",
          "data": {
            "text/plain": [
              "keyword\n",
              "ablaze                 36\n",
              "accident               35\n",
              "aftershock             34\n",
              "airplane%20accident    35\n",
              "ambulance              38\n",
              "                       ..\n",
              "wounded                37\n",
              "wounds                 33\n",
              "wreck                  37\n",
              "wreckage               39\n",
              "wrecked                39\n",
              "Name: target, Length: 221, dtype: int64"
            ]
          },
          "metadata": {
            "tags": []
          },
          "execution_count": 22
        }
      ]
    },
    {
      "cell_type": "code",
      "metadata": {
        "id": "5-W86hUzCnc6"
      },
      "source": [
        "no_location_ = dt[  dt.location.isna()]\n",
        "location_    = dt[ ~dt.location.isna()]"
      ],
      "execution_count": 23,
      "outputs": []
    },
    {
      "cell_type": "code",
      "metadata": {
        "id": "p1kbJHcwFH7I"
      },
      "source": [
        "no_target_ = dt[ dt.target == 0]\n",
        "target_    = dt[ dt.target == 1]"
      ],
      "execution_count": 24,
      "outputs": []
    },
    {
      "cell_type": "code",
      "metadata": {
        "id": "eafYLGmvCvoK",
        "outputId": "dc52b9d3-5b49-4896-b03a-0708467e6449",
        "colab": {
          "base_uri": "https://localhost:8080/",
          "height": 571
        }
      },
      "source": [
        "location_"
      ],
      "execution_count": 25,
      "outputs": [
        {
          "output_type": "execute_result",
          "data": {
            "text/html": [
              "<div>\n",
              "<style scoped>\n",
              "    .dataframe tbody tr th:only-of-type {\n",
              "        vertical-align: middle;\n",
              "    }\n",
              "\n",
              "    .dataframe tbody tr th {\n",
              "        vertical-align: top;\n",
              "    }\n",
              "\n",
              "    .dataframe thead th {\n",
              "        text-align: right;\n",
              "    }\n",
              "</style>\n",
              "<table border=\"1\" class=\"dataframe\">\n",
              "  <thead>\n",
              "    <tr style=\"text-align: right;\">\n",
              "      <th></th>\n",
              "      <th>id</th>\n",
              "      <th>keyword</th>\n",
              "      <th>location</th>\n",
              "      <th>text</th>\n",
              "      <th>target</th>\n",
              "      <th>_lemmatized</th>\n",
              "    </tr>\n",
              "  </thead>\n",
              "  <tbody>\n",
              "    <tr>\n",
              "      <th>31</th>\n",
              "      <td>48</td>\n",
              "      <td>ablaze</td>\n",
              "      <td>Birmingham</td>\n",
              "      <td>@bbcmtd Wholesale Markets ablaze http://t.co/l...</td>\n",
              "      <td>1</td>\n",
              "      <td>bbcmtd wholesale market ablaze http co lhyxeohy c</td>\n",
              "    </tr>\n",
              "    <tr>\n",
              "      <th>32</th>\n",
              "      <td>49</td>\n",
              "      <td>ablaze</td>\n",
              "      <td>Est. September 2012 - Bristol</td>\n",
              "      <td>We always try to bring the heavy. #metal #RT h...</td>\n",
              "      <td>0</td>\n",
              "      <td>always try bring heavy metal rt http co yao e ...</td>\n",
              "    </tr>\n",
              "    <tr>\n",
              "      <th>33</th>\n",
              "      <td>50</td>\n",
              "      <td>ablaze</td>\n",
              "      <td>AFRICA</td>\n",
              "      <td>#AFRICANBAZE: Breaking news:Nigeria flag set a...</td>\n",
              "      <td>1</td>\n",
              "      <td>africanbaze breaking news nigeria flag set abl...</td>\n",
              "    </tr>\n",
              "    <tr>\n",
              "      <th>34</th>\n",
              "      <td>52</td>\n",
              "      <td>ablaze</td>\n",
              "      <td>Philadelphia, PA</td>\n",
              "      <td>Crying out for more! Set me ablaze</td>\n",
              "      <td>0</td>\n",
              "      <td>cry set ablaze</td>\n",
              "    </tr>\n",
              "    <tr>\n",
              "      <th>35</th>\n",
              "      <td>53</td>\n",
              "      <td>ablaze</td>\n",
              "      <td>London, UK</td>\n",
              "      <td>On plus side LOOK AT THE SKY LAST NIGHT IT WAS...</td>\n",
              "      <td>0</td>\n",
              "      <td>plus side look sky last night ablaze http co q...</td>\n",
              "    </tr>\n",
              "    <tr>\n",
              "      <th>...</th>\n",
              "      <td>...</td>\n",
              "      <td>...</td>\n",
              "      <td>...</td>\n",
              "      <td>...</td>\n",
              "      <td>...</td>\n",
              "      <td>...</td>\n",
              "    </tr>\n",
              "    <tr>\n",
              "      <th>7575</th>\n",
              "      <td>10826</td>\n",
              "      <td>wrecked</td>\n",
              "      <td>TN</td>\n",
              "      <td>On the bright side I wrecked http://t.co/uEa0t...</td>\n",
              "      <td>0</td>\n",
              "      <td>bright side wrecked http co uea txrhys</td>\n",
              "    </tr>\n",
              "    <tr>\n",
              "      <th>7577</th>\n",
              "      <td>10829</td>\n",
              "      <td>wrecked</td>\n",
              "      <td>#NewcastleuponTyne #UK</td>\n",
              "      <td>@widda16 ... He's gone. You can relax. I thoug...</td>\n",
              "      <td>0</td>\n",
              "      <td>widda he's gone relax thought wife wrecked cak...</td>\n",
              "    </tr>\n",
              "    <tr>\n",
              "      <th>7579</th>\n",
              "      <td>10831</td>\n",
              "      <td>wrecked</td>\n",
              "      <td>Vancouver, Canada</td>\n",
              "      <td>Three days off from work and they've pretty mu...</td>\n",
              "      <td>0</td>\n",
              "      <td>three day work they've pretty much wrecked hah...</td>\n",
              "    </tr>\n",
              "    <tr>\n",
              "      <th>7580</th>\n",
              "      <td>10832</td>\n",
              "      <td>wrecked</td>\n",
              "      <td>London</td>\n",
              "      <td>#FX #forex #trading Cramer: Iger's 3 words tha...</td>\n",
              "      <td>0</td>\n",
              "      <td>fx forex trading cramer iger's word wrecked di...</td>\n",
              "    </tr>\n",
              "    <tr>\n",
              "      <th>7581</th>\n",
              "      <td>10833</td>\n",
              "      <td>wrecked</td>\n",
              "      <td>Lincoln</td>\n",
              "      <td>@engineshed Great atmosphere at the British Li...</td>\n",
              "      <td>0</td>\n",
              "      <td>engineshed great atmosphere british lion gig t...</td>\n",
              "    </tr>\n",
              "  </tbody>\n",
              "</table>\n",
              "<p>5080 rows × 6 columns</p>\n",
              "</div>"
            ],
            "text/plain": [
              "         id  keyword  ... target                                        _lemmatized\n",
              "31       48   ablaze  ...      1  bbcmtd wholesale market ablaze http co lhyxeohy c\n",
              "32       49   ablaze  ...      0  always try bring heavy metal rt http co yao e ...\n",
              "33       50   ablaze  ...      1  africanbaze breaking news nigeria flag set abl...\n",
              "34       52   ablaze  ...      0                                     cry set ablaze\n",
              "35       53   ablaze  ...      0  plus side look sky last night ablaze http co q...\n",
              "...     ...      ...  ...    ...                                                ...\n",
              "7575  10826  wrecked  ...      0             bright side wrecked http co uea txrhys\n",
              "7577  10829  wrecked  ...      0  widda he's gone relax thought wife wrecked cak...\n",
              "7579  10831  wrecked  ...      0  three day work they've pretty much wrecked hah...\n",
              "7580  10832  wrecked  ...      0  fx forex trading cramer iger's word wrecked di...\n",
              "7581  10833  wrecked  ...      0  engineshed great atmosphere british lion gig t...\n",
              "\n",
              "[5080 rows x 6 columns]"
            ]
          },
          "metadata": {
            "tags": []
          },
          "execution_count": 25
        }
      ]
    },
    {
      "cell_type": "code",
      "metadata": {
        "id": "xlvakSroNjA1"
      },
      "source": [
        ""
      ],
      "execution_count": 25,
      "outputs": []
    },
    {
      "cell_type": "markdown",
      "metadata": {
        "id": "DN8tw76JLszp"
      },
      "source": [
        "# Visualization of data (of)"
      ]
    },
    {
      "cell_type": "code",
      "metadata": {
        "id": "fHsI_IdSNjwq"
      },
      "source": [
        "df = disaster_tweets"
      ],
      "execution_count": null,
      "outputs": []
    },
    {
      "cell_type": "code",
      "metadata": {
        "id": "82XRUKWMMUaa",
        "outputId": "272f5ad9-42e0-464f-98ca-e63af598e40a",
        "colab": {
          "base_uri": "https://localhost:8080/",
          "height": 303
        }
      },
      "source": [
        "fig, axes = plt.subplots(ncols=2, figsize=(17, 4), dpi=100)\n",
        "plt.tight_layout()\n",
        "\n",
        "df.groupby('target').count()['id'].plot(kind='pie', ax=axes[0], labels=['Not Disaster (57%)', 'Disaster (43%)'])\n",
        "sns.countplot(x=df['target'], hue=df['target'], ax=axes[1])\n",
        "\n",
        "axes[0].set_ylabel('')\n",
        "axes[1].set_ylabel('')\n",
        "axes[1].set_xticklabels(['Not Disaster (4342)', 'Disaster (3271)'])\n",
        "axes[0].tick_params(axis='x', labelsize=15)\n",
        "axes[0].tick_params(axis='y', labelsize=15)\n",
        "axes[1].tick_params(axis='x', labelsize=15)\n",
        "axes[1].tick_params(axis='y', labelsize=15)\n",
        "\n",
        "axes[0].set_title('Target Distribution in dataset', fontsize=13)\n",
        "axes[1].set_title('Target Count in dataset', fontsize=13)\n",
        "\n",
        "plt.show()"
      ],
      "execution_count": 32,
      "outputs": [
        {
          "output_type": "display_data",
          "data": {
            "image/png": "[encoded data removed]",
            "text/plain": [
              "<Figure size 1700x400 with 2 Axes>"
            ]
          },
          "metadata": {
            "tags": [],
            "needs_background": "light"
          }
        }
      ]
    },
    {
      "cell_type": "code",
      "metadata": {
        "id": "xUUqqBo2OfzU"
      },
      "source": [
        ""
      ],
      "execution_count": null,
      "outputs": []
    },
    {
      "cell_type": "markdown",
      "metadata": {
        "id": "hHNIa_ZVJh-X"
      },
      "source": [
        "# Modeling"
      ]
    },
    {
      "cell_type": "code",
      "metadata": {
        "id": "enJEN9dXNisk"
      },
      "source": [
        "df    = no_location_\n",
        "no_df = location_"
      ],
      "execution_count": 26,
      "outputs": []
    },
    {
      "cell_type": "code",
      "metadata": {
        "id": "pEI2ebP28czf"
      },
      "source": [
        "#tfidf_v = TfidfVectorizer(ngram_range=(1, 2))\n",
        "#tfidf_bow = tfidf_v.fit_transform(df[\"_lemmatized\"])   # FIT and transform to learn\n",
        "### ??? wo wird das denn weiterverwendet ???"
      ],
      "execution_count": 27,
      "outputs": []
    },
    {
      "cell_type": "code",
      "metadata": {
        "id": "w8XyRQHUTIJM"
      },
      "source": [
        "#tfidf_v.transform(no_df['_lemmatized'])  # only transformation!!!"
      ],
      "execution_count": 28,
      "outputs": []
    },
    {
      "cell_type": "code",
      "metadata": {
        "id": "AXbhHIURMtcH"
      },
      "source": [
        "X_train, X_test,\\\n",
        "y_train, y_test =\\\n",
        " train_test_split(df[\"_lemmatized\"],\n",
        "                  df[\"target\"],\n",
        "                  test_size=0.2,\n",
        "                  random_state=314159,\n",
        "                  stratify=df[\"target\"])"
      ],
      "execution_count": 29,
      "outputs": []
    },
    {
      "cell_type": "code",
      "metadata": {
        "id": "VrlKAPzNxz0F",
        "outputId": "86ba9a3d-213b-441f-8e6e-c0c6f7801212",
        "colab": {
          "base_uri": "https://localhost:8080/",
          "height": 312
        }
      },
      "source": [
        "#### naive bayes \n",
        "pipeMNB = make_pipeline(TfidfVectorizer(ngram_range=(1, 2)), MultinomialNB())\n",
        "\n",
        "display( cross_val_score(pipeMNB, X_train, y_train).mean() )\n",
        "\n",
        "pipeMNB.fit(X_train, y_train)\n",
        "\n",
        "plot_confusion_matrix(pipeMNB, X_test, y_test, values_format=\"0.3f\", normalize='true', cmap=\"RdYlGn\")\n",
        "plt.title(f\"best accuracy: { accuracy_score(y_test, pipeMNB.predict(X_test)):0.3f}\")\n",
        "plt.show()"
      ],
      "execution_count": 30,
      "outputs": [
        {
          "output_type": "display_data",
          "data": {
            "text/plain": [
              "0.7680107036428876"
            ]
          },
          "metadata": {
            "tags": []
          }
        },
        {
          "output_type": "display_data",
          "data": {
            "image/png": "[encoded data removed]",
            "text/plain": [
              "<Figure size 432x288 with 2 Axes>"
            ]
          },
          "metadata": {
            "tags": [],
            "needs_background": "light"
          }
        }
      ]
    },
    {
      "cell_type": "code",
      "metadata": {
        "id": "19DTeMZN3z2D"
      },
      "source": [
        ""
      ],
      "execution_count": 30,
      "outputs": []
    },
    {
      "cell_type": "code",
      "metadata": {
        "id": "jlNxoCyM3zpS"
      },
      "source": [
        ""
      ],
      "execution_count": 30,
      "outputs": []
    },
    {
      "cell_type": "code",
      "metadata": {
        "id": "PTr3XZO1L5oJ"
      },
      "source": [
        ""
      ],
      "execution_count": 30,
      "outputs": []
    }
  ]
}