{
  "nbformat": 4,
  "nbformat_minor": 0,
  "metadata": {
    "colab": {
      "name": "Main_TweetDisasterDetection.ipynb",
      "provenance": [],
      "collapsed_sections": [
        "iRaNbVPpJAk9",
        "39jRgJbZJWpX",
        "DN8tw76JLszp"
      ],
      "include_colab_link": true
    },
    "kernelspec": {
      "name": "python3",
      "display_name": "Python 3"
    }
  },
  "cells": [
    {
      "cell_type": "markdown",
      "metadata": {
        "id": "view-in-github",
        "colab_type": "text"
      },
      "source": [
        "<a href=\"https://colab.research.google.com/github/TTD-JPO/TDD-project/blob/jedi3/Main_TweetDisasterDetection.ipynb\" target=\"_parent\"><img src=\"https://colab.research.google.com/assets/colab-badge.svg\" alt=\"Open In Colab\"/></a>"
      ]
    },
    {
      "cell_type": "markdown",
      "metadata": {
        "id": "x3jy6hSfH9tN"
      },
      "source": [
        "# <center>Twitter Disaster Detection\n",
        "\n",
        "<center>"
      ]
    },
    {
      "cell_type": "markdown",
      "metadata": {
        "id": "iRaNbVPpJAk9"
      },
      "source": [
        "# Load Libs & Data"
      ]
    },
    {
      "cell_type": "code",
      "metadata": {
        "id": "62jrF4rfJL0g"
      },
      "source": [
        "import pandas as pd\n",
        "import numpy as np\n",
        "import matplotlib.pyplot as plt\n",
        "import seaborn as sns\n",
        "\n",
        "from datetime import timedelta, time"
      ],
      "execution_count": 1,
      "outputs": []
    },
    {
      "cell_type": "code",
      "metadata": {
        "id": "gWU3RDPlYK_1"
      },
      "source": [
        "import spacy\n",
        "from spacy import displacy\n",
        "nlp = spacy.load('en_core_web_sm')"
      ],
      "execution_count": 2,
      "outputs": []
    },
    {
      "cell_type": "code",
      "metadata": {
        "id": "ZV4hzxEScMav"
      },
      "source": [
        "from sklearn.pipeline import make_pipeline\n",
        "\n",
        "from sklearn.model_selection import cross_val_score\n",
        "from sklearn.linear_model import LogisticRegression\n",
        "from sklearn.model_selection import train_test_split\n",
        "from sklearn.metrics import accuracy_score, r2_score, plot_confusion_matrix\n",
        "\n",
        "from sklearn.naive_bayes import CategoricalNB, MultinomialNB, BernoulliNB\n",
        "from sklearn.feature_extraction.text import CountVectorizer, TfidfVectorizer"
      ],
      "execution_count": 3,
      "outputs": []
    },
    {
      "cell_type": "code",
      "metadata": {
        "id": "Z1A6vy_rchYs",
        "outputId": "520fd505-874c-458b-faed-1c6fd5745295",
        "colab": {
          "base_uri": "https://localhost:8080/"
        }
      },
      "source": [
        "import re\n",
        "import string\n",
        "import nltk\n",
        "\n",
        "nltk.download('stopwords')\n",
        "nltk.download('wordnet')\n",
        "\n",
        "from nltk.corpus import stopwords\n",
        "from nltk.stem import WordNetLemmatizer\n",
        "from wordcloud import STOPWORDS\n",
        "\n",
        "lemmatizer = WordNetLemmatizer()"
      ],
      "execution_count": 4,
      "outputs": [
        {
          "output_type": "stream",
          "text": [
            "[nltk_data] Downloading package stopwords to /root/nltk_data...\n",
            "[nltk_data]   Package stopwords is already up-to-date!\n",
            "[nltk_data] Downloading package wordnet to /root/nltk_data...\n",
            "[nltk_data]   Package wordnet is already up-to-date!\n"
          ],
          "name": "stdout"
        }
      ]
    },
    {
      "cell_type": "markdown",
      "metadata": {
        "id": "ENvKDlwXrXAH"
      },
      "source": [
        "[Link to data (csv) @google drive](https://drive.google.com/file/d/1QPragNh_wYQVsXQvds8sqjDMfzARD638/view?usp=sharing)\n"
      ]
    },
    {
      "cell_type": "code",
      "metadata": {
        "id": "jAUe5gnhWgAG"
      },
      "source": [
        "url = 'https://raw.githubusercontent.com/TTD-JPO/TDD-project/main/disaster_tweets.csv'\n",
        "disaster_tweets = pd.read_csv(url, encoding='latin-1')"
      ],
      "execution_count": 5,
      "outputs": []
    },
    {
      "cell_type": "markdown",
      "metadata": {
        "id": "yI7qyPC7rfAR"
      },
      "source": [
        "# Helper function"
      ]
    },
    {
      "cell_type": "code",
      "metadata": {
        "id": "qRqZNDeYrfAU"
      },
      "source": [
        "def clean_text(text):\n",
        "  # get rid of all unwanted punctuation and digits\n",
        "  text = text.replace(\"´\", \"'\")\n",
        "\n",
        "  digi_punct = \"[^a-zA-Z' ]\"\n",
        "  text = re.sub(digi_punct, \" \", text)\n",
        "  text = \" \".join(text.split())\n",
        "  text = text.lower()\n",
        "\n",
        "  return text\n",
        "\n",
        "def my_df_text_mining(df, col):\n",
        "  lemmatizer = WordNetLemmatizer()\n",
        "  my_stopwords = stopwords.words(\"english\")\n",
        "  \n",
        "  df[\"_no_stopwords\"] = df[col].apply(             lambda texxt: \" \".join([word for word in clean_text(texxt).split() if word not in my_stopwords]))\n",
        "  df[col]             = df[\"_no_stopwords\"].apply( lambda texxt: \" \".join([lemmatizer.lemmatize(word) for word in texxt.split()]) )\n",
        "\n",
        "  return df.drop([\"_no_stopwords\"], axis=1)\n",
        "\n",
        "################################\n",
        "\n",
        "def my_df_spacy_locgpe(df, col):  \n",
        "  df[\"loc_gpe\"] = df[col].apply( lambda texxt: \" \".join([ ent.text for ent in nlp( clean_text(texxt) ).ents  if ((ent.label_ =='LOC') | (ent.label_ =='GPE'))]) )\n",
        "  return df\n",
        "\n",
        "def my_df_spacy_date_time(df, col):\n",
        "  df[\"date_time\"] = df[col].apply( lambda texxt: \" \".join([ ent.text for ent in nlp( clean_text(texxt) ).ents  if ((ent.label_ =='DATE') | (ent.label_ =='TIME'))]) )\n",
        "  return df\n",
        "\n",
        "def my_df_spacy_fac(df, col):\n",
        "  df[\"FAC\"] = df[col].apply( lambda texxt: \" \".join([ ent.text for ent in nlp( clean_text(texxt) ).ents  if (ent.label_ =='FAC') ]) )\n",
        "  return df\n",
        "################################\n",
        "\n",
        "def spcy_test(text):\n",
        "  displacy.render(nlp(clean_text(text)), style='ent', jupyter=True)\n",
        "\n",
        "################################\n",
        "\n",
        "def corpus_func(series):\n",
        "    '''create a text block (corpus) from a series'''\n",
        "    return \" #### \".join(text for text in series)\n",
        "\n",
        "def corpus_list(corpus):\n",
        "    '''create a list from text block (corpus)'''\n",
        "    corpus_list = lambda x: x.split(' #### ')"
      ],
      "execution_count": 6,
      "outputs": []
    },
    {
      "cell_type": "code",
      "metadata": {
        "id": "28fTUZPYJ_NK"
      },
      "source": [
        "#jedi's helpers\n",
        "#\n",
        "def my_fit_cm(df, pipe, feature_list, target):\n",
        "  # includes train test split, model fit, and\n",
        "  # plots confusion matrix\n",
        "  #\n",
        "  ################ currently no feature_list, but only ONE feature ?\n",
        "  #\n",
        "  ################\n",
        "\n",
        "  X_train, X_test,\\\n",
        "  y_train, y_test =\\\n",
        "  train_test_split(df[feature_list],\n",
        "                    df[target],\n",
        "                    test_size=0.2,\n",
        "                    random_state=314159,\n",
        "                    stratify=df[target])\n",
        "\n",
        "  #display( cross_val_score(pipe, X_train, y_train).mean() )\n",
        "\n",
        "  pipe.fit(X_train, y_train)\n",
        "  plot_confusion_matrix(pipe, X_train, y_train, values_format=\"0.3f\", normalize='true', cmap=\"RdYlGn\")\n",
        "  plt.title(f\"best accuracy: { accuracy_score(y_train, pipe.predict(X_train)):0.3f}\")\n",
        "\n",
        "  plot_confusion_matrix(pipe, X_test, y_test, values_format=\"0.3f\", normalize='true', cmap=\"RdYlGn\")\n",
        "  plt.title(f\"best accuracy: { accuracy_score(y_test, pipe.predict(X_test)):0.3f}\")\n",
        "  plt.show()\n",
        "  # end\n"
      ],
      "execution_count": 75,
      "outputs": []
    },
    {
      "cell_type": "code",
      "metadata": {
        "id": "g9mIaoQqJfKb"
      },
      "source": [
        "#PW\n",
        "# new helper of PW"
      ],
      "execution_count": 8,
      "outputs": []
    },
    {
      "cell_type": "code",
      "metadata": {
        "id": "ndXaTb3gJgqZ"
      },
      "source": [
        "#OCF\n"
      ],
      "execution_count": 9,
      "outputs": []
    },
    {
      "cell_type": "markdown",
      "metadata": {
        "id": "39jRgJbZJWpX"
      },
      "source": [
        "## Evaluate data"
      ]
    },
    {
      "cell_type": "code",
      "metadata": {
        "id": "yv9NRh7Vwn6t",
        "outputId": "739f01e4-7a2a-4c68-e2d5-6e338fa96a92",
        "colab": {
          "base_uri": "https://localhost:8080/"
        }
      },
      "source": [
        "disaster_tweets.info()"
      ],
      "execution_count": 10,
      "outputs": [
        {
          "output_type": "stream",
          "text": [
            "<class 'pandas.core.frame.DataFrame'>\n",
            "RangeIndex: 7613 entries, 0 to 7612\n",
            "Data columns (total 5 columns):\n",
            " #   Column    Non-Null Count  Dtype \n",
            "---  ------    --------------  ----- \n",
            " 0   id        7613 non-null   int64 \n",
            " 1   keyword   7552 non-null   object\n",
            " 2   location  5080 non-null   object\n",
            " 3   text      7613 non-null   object\n",
            " 4   target    7613 non-null   int64 \n",
            "dtypes: int64(2), object(3)\n",
            "memory usage: 297.5+ KB\n"
          ],
          "name": "stdout"
        }
      ]
    },
    {
      "cell_type": "code",
      "metadata": {
        "id": "QZqYCDfCwx93",
        "outputId": "f7c3bb11-1c92-45f4-f60e-13b4355328b2",
        "colab": {
          "base_uri": "https://localhost:8080/"
        }
      },
      "source": [
        "print( \"absolute number of disaster indicated messages:\", disaster_tweets.target.sum() )\n",
        "print( f\"relative number of disaster indicated messages: {disaster_tweets.target.sum() / disaster_tweets.shape[0] :0.3f}\" )"
      ],
      "execution_count": 11,
      "outputs": [
        {
          "output_type": "stream",
          "text": [
            "absolute number of disaster indicated messages: 3271\n",
            "relative number of disaster indicated messages: 0.430\n"
          ],
          "name": "stdout"
        }
      ]
    },
    {
      "cell_type": "code",
      "metadata": {
        "id": "F6uPwdhszFtK",
        "outputId": "c55a2ef0-d237-436a-b9ed-e3163ca1afe4",
        "colab": {
          "base_uri": "https://localhost:8080/"
        }
      },
      "source": [
        "keys      = list(disaster_tweets.keyword.unique() )\n",
        "locations = list(disaster_tweets.location.unique() )\n",
        "print(f'len_keys: {len(keys)}\\tlen_locations: {len(locations)}')"
      ],
      "execution_count": 12,
      "outputs": [
        {
          "output_type": "stream",
          "text": [
            "len_keys: 222\tlen_locations: 3342\n"
          ],
          "name": "stdout"
        }
      ]
    },
    {
      "cell_type": "code",
      "metadata": {
        "id": "DPVGQ418uYJj",
        "outputId": "22b83cbf-3783-4e9d-9e45-d211fb592125",
        "colab": {
          "base_uri": "https://localhost:8080/"
        }
      },
      "source": [
        "disaster_tweets.groupby('keyword').target.count().sort_values(ascending=False)"
      ],
      "execution_count": 13,
      "outputs": [
        {
          "output_type": "execute_result",
          "data": {
            "text/plain": [
              "keyword\n",
              "fatalities               45\n",
              "deluge                   42\n",
              "armageddon               42\n",
              "body%20bags              41\n",
              "sinking                  41\n",
              "                         ..\n",
              "forest%20fire            19\n",
              "epicentre                12\n",
              "threat                   11\n",
              "inundation               10\n",
              "radiation%20emergency     9\n",
              "Name: target, Length: 221, dtype: int64"
            ]
          },
          "metadata": {
            "tags": []
          },
          "execution_count": 13
        }
      ]
    },
    {
      "cell_type": "code",
      "metadata": {
        "id": "u4fk_EELupKD",
        "outputId": "50be22dd-82c6-48e6-894e-70a908bd2762",
        "colab": {
          "base_uri": "https://localhost:8080/"
        }
      },
      "source": [
        "disaster_tweets.groupby('location').target.count().sort_values(ascending=False)"
      ],
      "execution_count": 14,
      "outputs": [
        {
          "output_type": "execute_result",
          "data": {
            "text/plain": [
              "location\n",
              "USA                            104\n",
              "New York                        71\n",
              "United States                   50\n",
              "London                          45\n",
              "Canada                          29\n",
              "                              ... \n",
              "Republica Dominicana             1\n",
              "Republic of the Philippines      1\n",
              "Regalo Island                    1\n",
              "Redondo Beach, CA                1\n",
              "                                 1\n",
              "Name: target, Length: 3341, dtype: int64"
            ]
          },
          "metadata": {
            "tags": []
          },
          "execution_count": 14
        }
      ]
    },
    {
      "cell_type": "code",
      "metadata": {
        "id": "eOgyt3aj5EZV",
        "outputId": "1f61b82f-c590-4d37-9bd1-5eb338c9c78a",
        "colab": {
          "base_uri": "https://localhost:8080/",
          "height": 0
        }
      },
      "source": [
        "display( f\"relative number of keyword   messages: {disaster_tweets.keyword.nunique()  / disaster_tweets.shape[0] :0.3f}\" )\n",
        "display( f\"relative number of location  messages: {disaster_tweets.location.nunique() / disaster_tweets.shape[0] :0.3f}\" )"
      ],
      "execution_count": 15,
      "outputs": [
        {
          "output_type": "display_data",
          "data": {
            "application/vnd.google.colaboratory.intrinsic+json": {
              "type": "string"
            },
            "text/plain": [
              "'relative number of keyword   messages: 0.029'"
            ]
          },
          "metadata": {
            "tags": []
          }
        },
        {
          "output_type": "display_data",
          "data": {
            "application/vnd.google.colaboratory.intrinsic+json": {
              "type": "string"
            },
            "text/plain": [
              "'relative number of location  messages: 0.439'"
            ]
          },
          "metadata": {
            "tags": []
          }
        }
      ]
    },
    {
      "cell_type": "code",
      "metadata": {
        "id": "N3FC1viZFsoY"
      },
      "source": [
        "### we might do these steps later after having processed the text :)\n",
        "#dt = disaster_tweets.copy()"
      ],
      "execution_count": 16,
      "outputs": []
    },
    {
      "cell_type": "markdown",
      "metadata": {
        "id": "DN8tw76JLszp"
      },
      "source": [
        "## Visualization of data (of)"
      ]
    },
    {
      "cell_type": "code",
      "metadata": {
        "id": "fHsI_IdSNjwq"
      },
      "source": [
        "df = disaster_tweets"
      ],
      "execution_count": 17,
      "outputs": []
    },
    {
      "cell_type": "code",
      "metadata": {
        "id": "82XRUKWMMUaa",
        "outputId": "4d9cf2ae-119a-45a0-9586-a089d5e64b2a",
        "colab": {
          "base_uri": "https://localhost:8080/",
          "height": 0
        }
      },
      "source": [
        "fig, axes = plt.subplots(ncols=2, figsize=(17, 4), dpi=100)\n",
        "plt.tight_layout()\n",
        "\n",
        "df.groupby('target').count()['id'].plot(kind='pie', ax=axes[0], labels=['Not Disaster (57%)', 'Disaster (43%)'])\n",
        "sns.countplot(x=df['target'], hue=df['target'], ax=axes[1])\n",
        "\n",
        "axes[0].set_ylabel('')\n",
        "axes[1].set_ylabel('')\n",
        "axes[1].set_xticklabels(['Not Disaster (4342)', 'Disaster (3271)'])\n",
        "axes[0].tick_params(axis='x', labelsize=15)\n",
        "axes[0].tick_params(axis='y', labelsize=15)\n",
        "axes[1].tick_params(axis='x', labelsize=15)\n",
        "axes[1].tick_params(axis='y', labelsize=15)\n",
        "\n",
        "axes[0].set_title('Target Distribution in dataset', fontsize=13)\n",
        "axes[1].set_title('Target Count in dataset', fontsize=13)\n",
        "\n",
        "plt.show()"
      ],
      "execution_count": 18,
      "outputs": [
        {
          "output_type": "display_data",
          "data": {
            "image/png": "[encoded data removed]",
            "text/plain": [
              "<Figure size 1700x400 with 2 Axes>"
            ]
          },
          "metadata": {
            "tags": [],
            "needs_background": "light"
          }
        }
      ]
    },
    {
      "cell_type": "code",
      "metadata": {
        "id": "S8nW8BYdHWdH",
        "outputId": "3198618e-14d4-499e-f40e-2a747e5fbf8d",
        "colab": {
          "base_uri": "https://localhost:8080/",
          "height": 0
        }
      },
      "source": [
        "missing_cols = ['keyword', 'location']\n",
        "\n",
        "plt.figure(figsize=(4, 3), dpi=80)\n",
        "\n",
        "sns.barplot(x=disaster_tweets[missing_cols].isna().sum().index, y=disaster_tweets[missing_cols].isna().sum().values)\n",
        "\n",
        "plt.ylabel('Missing Value Count', size=11, labelpad=18)\n",
        "plt.tick_params(axis='x', labelsize=11)\n",
        "plt.tick_params(axis='y', labelsize=11)\n",
        "\n",
        "plt.title('Missing Values', fontsize=13)\n",
        "\n",
        "plt.show()"
      ],
      "execution_count": 19,
      "outputs": [
        {
          "output_type": "display_data",
          "data": {
            "image/png": "[encoded data removed]",
            "text/plain": [
              "<Figure size 320x240 with 1 Axes>"
            ]
          },
          "metadata": {
            "tags": [],
            "needs_background": "light"
          }
        }
      ]
    },
    {
      "cell_type": "code",
      "metadata": {
        "id": "lyTkdc8NGoW_"
      },
      "source": [
        ""
      ],
      "execution_count": 19,
      "outputs": []
    },
    {
      "cell_type": "markdown",
      "metadata": {
        "id": "T6__0fjdf3gT"
      },
      "source": [
        "# Cleaning of data \n",
        "- df deaster tweets - 'dtt_clean'"
      ]
    },
    {
      "cell_type": "code",
      "metadata": {
        "id": "yC_gFIoAKqes"
      },
      "source": [
        "dtt_clean = disaster_tweets.copy()"
      ],
      "execution_count": 20,
      "outputs": []
    },
    {
      "cell_type": "code",
      "metadata": {
        "id": "HU9ft5z1JYfq"
      },
      "source": [
        "dtt_clean = my_df_text_mining(dtt_clean, 'text')"
      ],
      "execution_count": 21,
      "outputs": []
    },
    {
      "cell_type": "code",
      "metadata": {
        "id": "BRLnss0aKay1",
        "outputId": "9a11ec33-1278-43cd-dbb2-5bdf16cc2858",
        "colab": {
          "base_uri": "https://localhost:8080/",
          "height": 136
        }
      },
      "source": [
        "dtt_clean.head(3)"
      ],
      "execution_count": 22,
      "outputs": [
        {
          "output_type": "execute_result",
          "data": {
            "text/html": [
              "<div>\n",
              "<style scoped>\n",
              "    .dataframe tbody tr th:only-of-type {\n",
              "        vertical-align: middle;\n",
              "    }\n",
              "\n",
              "    .dataframe tbody tr th {\n",
              "        vertical-align: top;\n",
              "    }\n",
              "\n",
              "    .dataframe thead th {\n",
              "        text-align: right;\n",
              "    }\n",
              "</style>\n",
              "<table border=\"1\" class=\"dataframe\">\n",
              "  <thead>\n",
              "    <tr style=\"text-align: right;\">\n",
              "      <th></th>\n",
              "      <th>id</th>\n",
              "      <th>keyword</th>\n",
              "      <th>location</th>\n",
              "      <th>text</th>\n",
              "      <th>target</th>\n",
              "    </tr>\n",
              "  </thead>\n",
              "  <tbody>\n",
              "    <tr>\n",
              "      <th>0</th>\n",
              "      <td>1</td>\n",
              "      <td>NaN</td>\n",
              "      <td>NaN</td>\n",
              "      <td>deed reason earthquake may allah forgive u</td>\n",
              "      <td>1</td>\n",
              "    </tr>\n",
              "    <tr>\n",
              "      <th>1</th>\n",
              "      <td>4</td>\n",
              "      <td>NaN</td>\n",
              "      <td>NaN</td>\n",
              "      <td>forest fire near la ronge sask canada</td>\n",
              "      <td>1</td>\n",
              "    </tr>\n",
              "    <tr>\n",
              "      <th>2</th>\n",
              "      <td>5</td>\n",
              "      <td>NaN</td>\n",
              "      <td>NaN</td>\n",
              "      <td>resident asked 'shelter place' notified office...</td>\n",
              "      <td>1</td>\n",
              "    </tr>\n",
              "  </tbody>\n",
              "</table>\n",
              "</div>"
            ],
            "text/plain": [
              "   id keyword  ...                                               text target\n",
              "0   1     NaN  ...         deed reason earthquake may allah forgive u      1\n",
              "1   4     NaN  ...              forest fire near la ronge sask canada      1\n",
              "2   5     NaN  ...  resident asked 'shelter place' notified office...      1\n",
              "\n",
              "[3 rows x 5 columns]"
            ]
          },
          "metadata": {
            "tags": []
          },
          "execution_count": 22
        }
      ]
    },
    {
      "cell_type": "markdown",
      "metadata": {
        "id": "20W9GxZCHcOS"
      },
      "source": [
        "### clean NaN"
      ]
    },
    {
      "cell_type": "code",
      "metadata": {
        "id": "sFZjiKBQ9-Am"
      },
      "source": [
        "missing_cols = ['keyword', 'location']\n",
        "for col in  missing_cols:\n",
        "    dtt_clean[col] = dtt_clean[col].fillna(f'no_{col}')"
      ],
      "execution_count": 23,
      "outputs": []
    },
    {
      "cell_type": "code",
      "metadata": {
        "id": "Uj5wggxeLWRW",
        "outputId": "a409ef03-9a57-4534-8d63-9668c0bc5a4e",
        "colab": {
          "base_uri": "https://localhost:8080/",
          "height": 106
        }
      },
      "source": [
        "dtt_clean.head(2)"
      ],
      "execution_count": 24,
      "outputs": [
        {
          "output_type": "execute_result",
          "data": {
            "text/html": [
              "<div>\n",
              "<style scoped>\n",
              "    .dataframe tbody tr th:only-of-type {\n",
              "        vertical-align: middle;\n",
              "    }\n",
              "\n",
              "    .dataframe tbody tr th {\n",
              "        vertical-align: top;\n",
              "    }\n",
              "\n",
              "    .dataframe thead th {\n",
              "        text-align: right;\n",
              "    }\n",
              "</style>\n",
              "<table border=\"1\" class=\"dataframe\">\n",
              "  <thead>\n",
              "    <tr style=\"text-align: right;\">\n",
              "      <th></th>\n",
              "      <th>id</th>\n",
              "      <th>keyword</th>\n",
              "      <th>location</th>\n",
              "      <th>text</th>\n",
              "      <th>target</th>\n",
              "    </tr>\n",
              "  </thead>\n",
              "  <tbody>\n",
              "    <tr>\n",
              "      <th>0</th>\n",
              "      <td>1</td>\n",
              "      <td>no_keyword</td>\n",
              "      <td>no_location</td>\n",
              "      <td>deed reason earthquake may allah forgive u</td>\n",
              "      <td>1</td>\n",
              "    </tr>\n",
              "    <tr>\n",
              "      <th>1</th>\n",
              "      <td>4</td>\n",
              "      <td>no_keyword</td>\n",
              "      <td>no_location</td>\n",
              "      <td>forest fire near la ronge sask canada</td>\n",
              "      <td>1</td>\n",
              "    </tr>\n",
              "  </tbody>\n",
              "</table>\n",
              "</div>"
            ],
            "text/plain": [
              "   id     keyword  ...                                        text target\n",
              "0   1  no_keyword  ...  deed reason earthquake may allah forgive u      1\n",
              "1   4  no_keyword  ...       forest fire near la ronge sask canada      1\n",
              "\n",
              "[2 rows x 5 columns]"
            ]
          },
          "metadata": {
            "tags": []
          },
          "execution_count": 24
        }
      ]
    },
    {
      "cell_type": "markdown",
      "metadata": {
        "id": "RsGP1HCeHpov"
      },
      "source": [
        "# Analizing tweet < text >\n",
        "- NLP keyword, localization "
      ]
    },
    {
      "cell_type": "markdown",
      "metadata": {
        "id": "SpCfvPm3gazI"
      },
      "source": [
        "### trail ... (pw)\n"
      ]
    },
    {
      "cell_type": "code",
      "metadata": {
        "id": "wFvSf8Yyu3CD"
      },
      "source": [
        "#Regex:\n",
        "dtt_clean['keyword_re'] = dtt_clean.keyword.apply(lambda text: re.sub(\"%20\",\" \", text))  # leerzeichen !!!"
      ],
      "execution_count": 25,
      "outputs": []
    },
    {
      "cell_type": "code",
      "metadata": {
        "id": "-k-F2NIUSkVh",
        "outputId": "e9330bd9-6ae0-4199-ff25-37c65c47274d",
        "colab": {
          "base_uri": "https://localhost:8080/"
        }
      },
      "source": [
        "# analog to goupby in Evaluate data (but after clean keyword)\n",
        "# make a count for the keyword list\n",
        "\n",
        "### zu den libaries wenn codezelle bleiben soll\n",
        "from collections import Counter\n",
        "\n",
        "\n",
        "key_count = sorted(Counter(list(dtt_clean['keyword_re'])).items(), key = lambda kv:( kv[1], kv[0]), reverse=True)\n",
        "print(key_count[0:20])"
      ],
      "execution_count": 26,
      "outputs": [
        {
          "output_type": "stream",
          "text": [
            "[('no_keyword', 61), ('fatalities', 45), ('deluge', 42), ('armageddon', 42), ('sinking', 41), ('harm', 41), ('damage', 41), ('body bags', 41), ('windstorm', 40), ('twister', 40), ('siren', 40), ('outbreak', 40), ('fear', 40), ('evacuate', 40), ('collided', 40), ('wrecked', 39), ('wreckage', 39), ('whirlwind', 39), ('weapons', 39), ('weapon', 39)]\n"
          ],
          "name": "stdout"
        }
      ]
    },
    {
      "cell_type": "code",
      "metadata": {
        "id": "tLGnQdJCwHk4",
        "outputId": "452f2553-1392-45b3-f699-47f144c443e2",
        "colab": {
          "base_uri": "https://localhost:8080/",
          "height": 69
        }
      },
      "source": [
        "'''\n",
        "#zu überarbeiten\n",
        "from nltk.stem import SnowballStemmer\n",
        "\n",
        "sb_stemmer = SnowballStemmer('english')\n",
        "dtt_clean['keyword_stem']= dtt_clean[\"keyword_re\"].apply(lambda keyword_re: \" \".join([sb_stemmer.stem(word) for word in keyword_re]))\n",
        "'''"
      ],
      "execution_count": 27,
      "outputs": [
        {
          "output_type": "execute_result",
          "data": {
            "application/vnd.google.colaboratory.intrinsic+json": {
              "type": "string"
            },
            "text/plain": [
              "'\\n#zu überarbeiten\\nfrom nltk.stem import SnowballStemmer\\n\\nsb_stemmer = SnowballStemmer(\\'english\\')\\ndtt_clean[\\'keyword_stem\\']= dtt_clean[\"keyword_re\"].apply(lambda keyword_re: \" \".join([sb_stemmer.stem(word) for word in keyword_re]))\\n'"
            ]
          },
          "metadata": {
            "tags": []
          },
          "execution_count": 27
        }
      ]
    },
    {
      "cell_type": "code",
      "metadata": {
        "id": "uBrLgDyleTUN"
      },
      "source": [
        "corpus_keys = corpus_func(dtt_clean['keyword_re'])"
      ],
      "execution_count": 28,
      "outputs": []
    },
    {
      "cell_type": "code",
      "metadata": {
        "id": "gqPrhJJ-16XI"
      },
      "source": [
        "keyword_low=[x.lower() for x in dtt_clean['keyword_re']]"
      ],
      "execution_count": 29,
      "outputs": []
    },
    {
      "cell_type": "code",
      "metadata": {
        "id": "GR0T56Ay12G5"
      },
      "source": [
        "dtt_clean['keyword_low'] = keyword_low"
      ],
      "execution_count": 30,
      "outputs": []
    },
    {
      "cell_type": "code",
      "metadata": {
        "id": "pewk-_M21Gct"
      },
      "source": [
        "#from nltk.stem import PorterStemmer\n",
        "#stemmer = PorterStemmer()\n",
        "#\n",
        "#stem_tok ={}\n",
        "#for w in tokens_low: \n",
        "#    stem_tok[w] = stemmer.stem(w)\n",
        "#\n",
        "#stem_tok "
      ],
      "execution_count": 31,
      "outputs": []
    },
    {
      "cell_type": "code",
      "metadata": {
        "id": "YDfAosyX4nEO"
      },
      "source": [
        "#dtt_clean['keyword_stem']= dtt_clean[\"keyword_re\"].apply(lambda keyword_re: \" \".join([stemmer.stem(word) for word in keyword_re]))\n",
        "#dtt_clean['keyword_stem']"
      ],
      "execution_count": 32,
      "outputs": []
    },
    {
      "cell_type": "code",
      "metadata": {
        "id": "T2umKdrHd7FX"
      },
      "source": [
        "#lemmatizer.lemmatize('going', wordnet.NOUN)"
      ],
      "execution_count": 33,
      "outputs": []
    },
    {
      "cell_type": "markdown",
      "metadata": {
        "id": "EhoKjIYZwWGM"
      },
      "source": [
        "end_-petra"
      ]
    },
    {
      "cell_type": "code",
      "metadata": {
        "id": "sWQkoRbBsvh0",
        "outputId": "dfd65769-e1a9-48f5-cb4a-959ad60f55ed",
        "colab": {
          "base_uri": "https://localhost:8080/"
        }
      },
      "source": [
        "len(keys), len(locations)"
      ],
      "execution_count": 34,
      "outputs": [
        {
          "output_type": "execute_result",
          "data": {
            "text/plain": [
              "(222, 3342)"
            ]
          },
          "metadata": {
            "tags": []
          },
          "execution_count": 34
        }
      ]
    },
    {
      "cell_type": "code",
      "metadata": {
        "id": "1i5-NYOCx03T",
        "outputId": "ebdb85a6-8dd5-419f-b203-eaef5420e41a",
        "colab": {
          "base_uri": "https://localhost:8080/",
          "height": 435
        }
      },
      "source": [
        "dtt_clean"
      ],
      "execution_count": 35,
      "outputs": [
        {
          "output_type": "execute_result",
          "data": {
            "text/html": [
              "<div>\n",
              "<style scoped>\n",
              "    .dataframe tbody tr th:only-of-type {\n",
              "        vertical-align: middle;\n",
              "    }\n",
              "\n",
              "    .dataframe tbody tr th {\n",
              "        vertical-align: top;\n",
              "    }\n",
              "\n",
              "    .dataframe thead th {\n",
              "        text-align: right;\n",
              "    }\n",
              "</style>\n",
              "<table border=\"1\" class=\"dataframe\">\n",
              "  <thead>\n",
              "    <tr style=\"text-align: right;\">\n",
              "      <th></th>\n",
              "      <th>id</th>\n",
              "      <th>keyword</th>\n",
              "      <th>location</th>\n",
              "      <th>text</th>\n",
              "      <th>target</th>\n",
              "      <th>keyword_re</th>\n",
              "      <th>keyword_low</th>\n",
              "    </tr>\n",
              "  </thead>\n",
              "  <tbody>\n",
              "    <tr>\n",
              "      <th>0</th>\n",
              "      <td>1</td>\n",
              "      <td>no_keyword</td>\n",
              "      <td>no_location</td>\n",
              "      <td>deed reason earthquake may allah forgive u</td>\n",
              "      <td>1</td>\n",
              "      <td>no_keyword</td>\n",
              "      <td>no_keyword</td>\n",
              "    </tr>\n",
              "    <tr>\n",
              "      <th>1</th>\n",
              "      <td>4</td>\n",
              "      <td>no_keyword</td>\n",
              "      <td>no_location</td>\n",
              "      <td>forest fire near la ronge sask canada</td>\n",
              "      <td>1</td>\n",
              "      <td>no_keyword</td>\n",
              "      <td>no_keyword</td>\n",
              "    </tr>\n",
              "    <tr>\n",
              "      <th>2</th>\n",
              "      <td>5</td>\n",
              "      <td>no_keyword</td>\n",
              "      <td>no_location</td>\n",
              "      <td>resident asked 'shelter place' notified office...</td>\n",
              "      <td>1</td>\n",
              "      <td>no_keyword</td>\n",
              "      <td>no_keyword</td>\n",
              "    </tr>\n",
              "    <tr>\n",
              "      <th>3</th>\n",
              "      <td>6</td>\n",
              "      <td>no_keyword</td>\n",
              "      <td>no_location</td>\n",
              "      <td>people receive wildfire evacuation order calif...</td>\n",
              "      <td>1</td>\n",
              "      <td>no_keyword</td>\n",
              "      <td>no_keyword</td>\n",
              "    </tr>\n",
              "    <tr>\n",
              "      <th>4</th>\n",
              "      <td>7</td>\n",
              "      <td>no_keyword</td>\n",
              "      <td>no_location</td>\n",
              "      <td>got sent photo ruby alaska smoke wildfire pour...</td>\n",
              "      <td>1</td>\n",
              "      <td>no_keyword</td>\n",
              "      <td>no_keyword</td>\n",
              "    </tr>\n",
              "    <tr>\n",
              "      <th>...</th>\n",
              "      <td>...</td>\n",
              "      <td>...</td>\n",
              "      <td>...</td>\n",
              "      <td>...</td>\n",
              "      <td>...</td>\n",
              "      <td>...</td>\n",
              "      <td>...</td>\n",
              "    </tr>\n",
              "    <tr>\n",
              "      <th>7608</th>\n",
              "      <td>10869</td>\n",
              "      <td>no_keyword</td>\n",
              "      <td>no_location</td>\n",
              "      <td>two giant crane holding bridge collapse nearby...</td>\n",
              "      <td>1</td>\n",
              "      <td>no_keyword</td>\n",
              "      <td>no_keyword</td>\n",
              "    </tr>\n",
              "    <tr>\n",
              "      <th>7609</th>\n",
              "      <td>10870</td>\n",
              "      <td>no_keyword</td>\n",
              "      <td>no_location</td>\n",
              "      <td>aria ahrary thetawniest control wild fire cali...</td>\n",
              "      <td>1</td>\n",
              "      <td>no_keyword</td>\n",
              "      <td>no_keyword</td>\n",
              "    </tr>\n",
              "    <tr>\n",
              "      <th>7610</th>\n",
              "      <td>10871</td>\n",
              "      <td>no_keyword</td>\n",
              "      <td>no_location</td>\n",
              "      <td>utc km volcano hawaii http co zdtoyd ebj</td>\n",
              "      <td>1</td>\n",
              "      <td>no_keyword</td>\n",
              "      <td>no_keyword</td>\n",
              "    </tr>\n",
              "    <tr>\n",
              "      <th>7611</th>\n",
              "      <td>10872</td>\n",
              "      <td>no_keyword</td>\n",
              "      <td>no_location</td>\n",
              "      <td>police investigating e bike collided car littl...</td>\n",
              "      <td>1</td>\n",
              "      <td>no_keyword</td>\n",
              "      <td>no_keyword</td>\n",
              "    </tr>\n",
              "    <tr>\n",
              "      <th>7612</th>\n",
              "      <td>10873</td>\n",
              "      <td>no_keyword</td>\n",
              "      <td>no_location</td>\n",
              "      <td>latest home razed northern california wildfire...</td>\n",
              "      <td>1</td>\n",
              "      <td>no_keyword</td>\n",
              "      <td>no_keyword</td>\n",
              "    </tr>\n",
              "  </tbody>\n",
              "</table>\n",
              "<p>7613 rows × 7 columns</p>\n",
              "</div>"
            ],
            "text/plain": [
              "         id     keyword     location  ... target  keyword_re keyword_low\n",
              "0         1  no_keyword  no_location  ...      1  no_keyword  no_keyword\n",
              "1         4  no_keyword  no_location  ...      1  no_keyword  no_keyword\n",
              "2         5  no_keyword  no_location  ...      1  no_keyword  no_keyword\n",
              "3         6  no_keyword  no_location  ...      1  no_keyword  no_keyword\n",
              "4         7  no_keyword  no_location  ...      1  no_keyword  no_keyword\n",
              "...     ...         ...          ...  ...    ...         ...         ...\n",
              "7608  10869  no_keyword  no_location  ...      1  no_keyword  no_keyword\n",
              "7609  10870  no_keyword  no_location  ...      1  no_keyword  no_keyword\n",
              "7610  10871  no_keyword  no_location  ...      1  no_keyword  no_keyword\n",
              "7611  10872  no_keyword  no_location  ...      1  no_keyword  no_keyword\n",
              "7612  10873  no_keyword  no_location  ...      1  no_keyword  no_keyword\n",
              "\n",
              "[7613 rows x 7 columns]"
            ]
          },
          "metadata": {
            "tags": []
          },
          "execution_count": 35
        }
      ]
    },
    {
      "cell_type": "code",
      "metadata": {
        "id": "p1kbJHcwFH7I"
      },
      "source": [
        "no_target_ = dtt_clean[ dtt_clean.target == 0]\n",
        "target_    = dtt_clean[ dtt_clean.target == 1]"
      ],
      "execution_count": 36,
      "outputs": []
    },
    {
      "cell_type": "markdown",
      "metadata": {
        "id": "UE-4iw3sbhRz"
      },
      "source": [
        "-- (PW)"
      ]
    },
    {
      "cell_type": "markdown",
      "metadata": {
        "id": "fC__czRM__Cy"
      },
      "source": [
        "## jedi playground"
      ]
    },
    {
      "cell_type": "code",
      "metadata": {
        "id": "c3860VBBBC7x",
        "outputId": "4a996c30-17ef-44bf-bf63-5ab7a26ae615",
        "colab": {
          "base_uri": "https://localhost:8080/",
          "height": 86
        }
      },
      "source": [
        "test_text = \"Barbados #Bridgetown JAMAICA Â\\x89Ã\\x9bÃ\\x92 Two cars set ablaze: SANTA CRUZ Â\\x89Ã\\x9bÃ\\x93 Head of the St Elizabeth Police Superintende\"\n",
        "#test_text = 'Haha South Tampa is getting flooded hah- WAIT A SECOND I LIVE IN SOUTH TAMPA WHAT AM I GONNA DO WHAT AM I GONNA DO FVCK #flooding'\n",
        "#test_text = \"#stlouis #caraccidentlawyer Speeding Among Top Causes of Teen Accidents https://t.co/k4zoMOF319 https://t.co/S2kXVM0cBA Car Accident teeÂ\\x89Ã\\x9b_\"\n",
        "spcy_test(test_text)\n"
      ],
      "execution_count": 37,
      "outputs": [
        {
          "output_type": "display_data",
          "data": {
            "text/html": [
              "<span class=\"tex2jax_ignore\"><div class=\"entities\" style=\"line-height: 2.5; direction: ltr\">barbados bridgetown \n",
              "<mark class=\"entity\" style=\"background: #feca74; padding: 0.45em 0.6em; margin: 0 0.25em; line-height: 1; border-radius: 0.35em;\">\n",
              "    jamaica\n",
              "    <span style=\"font-size: 0.8em; font-weight: bold; line-height: 1; border-radius: 0.35em; text-transform: uppercase; vertical-align: middle; margin-left: 0.5rem\">GPE</span>\n",
              "</mark>\n",
              " \n",
              "<mark class=\"entity\" style=\"background: #e4e7d2; padding: 0.45em 0.6em; margin: 0 0.25em; line-height: 1; border-radius: 0.35em;\">\n",
              "    two\n",
              "    <span style=\"font-size: 0.8em; font-weight: bold; line-height: 1; border-radius: 0.35em; text-transform: uppercase; vertical-align: middle; margin-left: 0.5rem\">CARDINAL</span>\n",
              "</mark>\n",
              " cars set ablaze \n",
              "<mark class=\"entity\" style=\"background: #feca74; padding: 0.45em 0.6em; margin: 0 0.25em; line-height: 1; border-radius: 0.35em;\">\n",
              "    santa cruz\n",
              "    <span style=\"font-size: 0.8em; font-weight: bold; line-height: 1; border-radius: 0.35em; text-transform: uppercase; vertical-align: middle; margin-left: 0.5rem\">GPE</span>\n",
              "</mark>\n",
              " head of \n",
              "<mark class=\"entity\" style=\"background: #7aecec; padding: 0.45em 0.6em; margin: 0 0.25em; line-height: 1; border-radius: 0.35em;\">\n",
              "    the st elizabeth\n",
              "    <span style=\"font-size: 0.8em; font-weight: bold; line-height: 1; border-radius: 0.35em; text-transform: uppercase; vertical-align: middle; margin-left: 0.5rem\">ORG</span>\n",
              "</mark>\n",
              " police superintende</div></span>"
            ],
            "text/plain": [
              "<IPython.core.display.HTML object>"
            ]
          },
          "metadata": {
            "tags": []
          }
        }
      ]
    },
    {
      "cell_type": "code",
      "metadata": {
        "id": "9fXDdJ6zJrNN"
      },
      "source": [
        "test_df = disaster_tweets[40:60]\n",
        "#list(test_df.text)"
      ],
      "execution_count": 38,
      "outputs": []
    },
    {
      "cell_type": "code",
      "metadata": {
        "id": "yqRJObTghmrO"
      },
      "source": [
        "%time df1 = my_df_spacy_locgpe(test_df.copy(), 'text')\n",
        "#df1"
      ],
      "execution_count": null,
      "outputs": []
    },
    {
      "cell_type": "code",
      "metadata": {
        "id": "wVbCU-nTbTSI"
      },
      "source": [
        "#df2 = my_df_spacy_fac   (df1.copy(), 'text')\n",
        "#df2"
      ],
      "execution_count": 40,
      "outputs": []
    },
    {
      "cell_type": "code",
      "metadata": {
        "id": "hG5RGlPxZRrs"
      },
      "source": [
        ""
      ],
      "execution_count": 40,
      "outputs": []
    },
    {
      "cell_type": "markdown",
      "metadata": {
        "id": "hHNIa_ZVJh-X"
      },
      "source": [
        "# Evaluationg Basic modeling"
      ]
    },
    {
      "cell_type": "code",
      "metadata": {
        "id": "enJEN9dXNisk"
      },
      "source": [
        "### ready for DELETE\n",
        "\n",
        "df    = disaster_tweets.copy()"
      ],
      "execution_count": 41,
      "outputs": []
    },
    {
      "cell_type": "code",
      "metadata": {
        "id": "pEI2ebP28czf"
      },
      "source": [
        "#tfidf_v = TfidfVectorizer(ngram_range=(1, 2))\n",
        "#tfidf_bow = tfidf_v.fit_transform(df[\"_lemmatized\"])   # FIT and transform to learn\n",
        "### ??? wo wird das denn weiterverwendet ???"
      ],
      "execution_count": 42,
      "outputs": []
    },
    {
      "cell_type": "code",
      "metadata": {
        "id": "w8XyRQHUTIJM"
      },
      "source": [
        "#tfidf_v.transform(no_df['_lemmatized'])  # only transformation!!!"
      ],
      "execution_count": 43,
      "outputs": []
    },
    {
      "cell_type": "markdown",
      "metadata": {
        "id": "EIKIJQjPhozh"
      },
      "source": [
        "## Train-Test-Split"
      ]
    },
    {
      "cell_type": "code",
      "metadata": {
        "id": "AXbhHIURMtcH"
      },
      "source": [
        "### ready for DELETE\n",
        "\n",
        "X_train, X_test,\\\n",
        "y_train, y_test =\\\n",
        " train_test_split(df[\"text\"],\n",
        "                  df[\"target\"],\n",
        "                  test_size=0.2,\n",
        "                  random_state=314159,\n",
        "                  stratify=df[\"target\"])"
      ],
      "execution_count": 44,
      "outputs": []
    },
    {
      "cell_type": "markdown",
      "metadata": {
        "id": "TqG8EfEBhx3C"
      },
      "source": [
        "##pipline Tfidf, MultinomialNB"
      ]
    },
    {
      "cell_type": "code",
      "metadata": {
        "id": "VrlKAPzNxz0F",
        "outputId": "5198ac6b-c254-48b3-dcd0-ccd118f6d8b8",
        "colab": {
          "base_uri": "https://localhost:8080/",
          "height": 295
        }
      },
      "source": [
        "### ready for DELETE\n",
        "\n",
        "#### naive bayes \n",
        "pipeMNB = make_pipeline(TfidfVectorizer(ngram_range=(1, 2)), MultinomialNB())\n",
        "\n",
        "#display( cross_val_score(pipeMNB, X_train, y_train).mean() )\n",
        "\n",
        "pipeMNB.fit(X_train, y_train)\n",
        "\n",
        "plot_confusion_matrix(pipeMNB, X_test, y_test, values_format=\"0.3f\", normalize='true', cmap=\"RdYlGn\")\n",
        "plt.title(f\"best accuracy: { accuracy_score(y_test, pipeMNB.predict(X_test)):0.3f}\")\n",
        "plt.show()"
      ],
      "execution_count": 45,
      "outputs": [
        {
          "output_type": "display_data",
          "data": {
            "image/png": "[encoded data removed]",
            "text/plain": [
              "<Figure size 432x288 with 2 Axes>"
            ]
          },
          "metadata": {
            "tags": [],
            "needs_background": "light"
          }
        }
      ]
    },
    {
      "cell_type": "code",
      "metadata": {
        "id": "RgI9wC25S6BH"
      },
      "source": [
        ""
      ],
      "execution_count": 45,
      "outputs": []
    },
    {
      "cell_type": "code",
      "metadata": {
        "id": "eAlVlGS_T4-h",
        "outputId": "ae7995c5-d2d6-4094-8f6a-f1818166d4c0",
        "colab": {
          "base_uri": "https://localhost:8080/",
          "height": 606
        }
      },
      "source": [
        "################# NEW #################\n",
        "dt = disaster_tweets.copy() # original data set, no postprocessin\n",
        "pipeMNB = make_pipeline(TfidfVectorizer(ngram_range=(1, 2)), MultinomialNB()) #### naive bayes \n",
        "%time my_fit_cm(df, pipeMNB, \"text\", \"target\")"
      ],
      "execution_count": 76,
      "outputs": [
        {
          "output_type": "display_data",
          "data": {
            "image/png": "[encoded data removed]",
            "text/plain": [
              "<Figure size 432x288 with 2 Axes>"
            ]
          },
          "metadata": {
            "tags": [],
            "needs_background": "light"
          }
        },
        {
          "output_type": "display_data",
          "data": {
            "image/png": "[encoded data removed]",
            "text/plain": [
              "<Figure size 432x288 with 2 Axes>"
            ]
          },
          "metadata": {
            "tags": [],
            "needs_background": "light"
          }
        },
        {
          "output_type": "stream",
          "text": [
            "CPU times: user 1.45 s, sys: 31.6 ms, total: 1.48 s\n",
            "Wall time: 1.5 s\n"
          ],
          "name": "stdout"
        }
      ]
    },
    {
      "cell_type": "code",
      "metadata": {
        "id": "6mA6FAbRSLC5",
        "outputId": "20cef494-3ae2-44fe-8f67-fe91e833f49e",
        "colab": {
          "base_uri": "https://localhost:8080/",
          "height": 606
        }
      },
      "source": [
        "df = my_df_text_mining(disaster_tweets.copy(), 'text')  # minor postprocessing: remove numbers and #,@, .... Special characters\n",
        "pipeMNB = make_pipeline(TfidfVectorizer(ngram_range=(1, 2)), MultinomialNB()) #### naive bayes \n",
        "%time my_fit_cm(df, pipeMNB, \"text\", \"target\")"
      ],
      "execution_count": 47,
      "outputs": [
        {
          "output_type": "display_data",
          "data": {
            "image/png": "[encoded data removed]",
            "text/plain": [
              "<Figure size 432x288 with 2 Axes>"
            ]
          },
          "metadata": {
            "tags": [],
            "needs_background": "light"
          }
        },
        {
          "output_type": "display_data",
          "data": {
            "image/png": "[encoded data removed]",
            "text/plain": [
              "<Figure size 432x288 with 2 Axes>"
            ]
          },
          "metadata": {
            "tags": [],
            "needs_background": "light"
          }
        },
        {
          "output_type": "stream",
          "text": [
            "CPU times: user 1.17 s, sys: 13 ms, total: 1.18 s\n",
            "Wall time: 1.19 s\n"
          ],
          "name": "stdout"
        }
      ]
    },
    {
      "cell_type": "code",
      "metadata": {
        "id": "19DTeMZN3z2D",
        "outputId": "6bf9e348-27a2-4a68-bb2f-d34f2573e78b",
        "colab": {
          "base_uri": "https://localhost:8080/",
          "height": 295
        }
      },
      "source": [
        "### ready for DELETE\n",
        "\n",
        "#df = disaster_tweets.copy()\n",
        "df = my_df_text_mining(disaster_tweets.copy(), 'text')\n",
        "#### filtering numvers and special characters\n",
        "#### copy for trials\n",
        "\n",
        "X_train, X_test,\\\n",
        "y_train, y_test =\\\n",
        " train_test_split(df[\"text\"],\n",
        "                  df[\"target\"],\n",
        "                  test_size=0.2,\n",
        "                  random_state=314159,\n",
        "                  stratify=df[\"target\"])\n",
        "\n",
        "\n",
        "#### naive bayes \n",
        "pipeMNB = make_pipeline(TfidfVectorizer(ngram_range=(1, 2)), MultinomialNB())\n",
        "\n",
        "#display( cross_val_score(pipeMNB, X_train, y_train).mean() )\n",
        "\n",
        "pipeMNB.fit(X_train, y_train)\n",
        "\n",
        "plot_confusion_matrix(pipeMNB, X_test, y_test, values_format=\"0.3f\", normalize='true', cmap=\"RdYlGn\")\n",
        "plt.title(f\"best accuracy: { accuracy_score(y_test, pipeMNB.predict(X_test)):0.3f}\")\n",
        "plt.show()"
      ],
      "execution_count": 48,
      "outputs": [
        {
          "output_type": "display_data",
          "data": {
            "image/png": "[encoded data removed]",
            "text/plain": [
              "<Figure size 432x288 with 2 Axes>"
            ]
          },
          "metadata": {
            "tags": [],
            "needs_background": "light"
          }
        }
      ]
    },
    {
      "cell_type": "code",
      "metadata": {
        "id": "tsNvZle4OTGd"
      },
      "source": [
        "# marginal change: (1,1) improved, but (0,0) declined ... :( S"
      ],
      "execution_count": 49,
      "outputs": []
    },
    {
      "cell_type": "code",
      "metadata": {
        "id": "jlNxoCyM3zpS"
      },
      "source": [
        ""
      ],
      "execution_count": 49,
      "outputs": []
    },
    {
      "cell_type": "code",
      "metadata": {
        "id": "PTr3XZO1L5oJ"
      },
      "source": [
        ""
      ],
      "execution_count": 49,
      "outputs": []
    },
    {
      "cell_type": "markdown",
      "metadata": {
        "id": "3Z6Ky23cKHfj"
      },
      "source": [
        "# Evaluation extended Modeling (weitere Spalten)"
      ]
    },
    {
      "cell_type": "code",
      "metadata": {
        "id": "uXdMyML1I5dq"
      },
      "source": [
        "### AP: show result for one text line, or many example line"
      ],
      "execution_count": 50,
      "outputs": []
    },
    {
      "cell_type": "code",
      "metadata": {
        "id": "5pTNjL2RI5Im",
        "outputId": "dd3f1e54-fcc5-4545-eae2-d28f00e21be0",
        "colab": {
          "base_uri": "https://localhost:8080/",
          "height": 606
        }
      },
      "source": [
        "df = my_df_spacy_locgpe(disaster_tweets.copy(), 'text')\n",
        "\n",
        "pipeMNB = make_pipeline(TfidfVectorizer(ngram_range=(1, 2)), MultinomialNB()) #### naive bayes \n",
        "%time my_fit_cm(df, pipeMNB, 'loc_gpe', \"target\")\n",
        "# poor result: acc= 0.664"
      ],
      "execution_count": 61,
      "outputs": [
        {
          "output_type": "display_data",
          "data": {
            "image/png": "[encoded data removed]",
            "text/plain": [
              "<Figure size 432x288 with 2 Axes>"
            ]
          },
          "metadata": {
            "tags": [],
            "needs_background": "light"
          }
        },
        {
          "output_type": "display_data",
          "data": {
            "image/png": "[encoded data removed]",
            "text/plain": [
              "<Figure size 432x288 with 2 Axes>"
            ]
          },
          "metadata": {
            "tags": [],
            "needs_background": "light"
          }
        },
        {
          "output_type": "stream",
          "text": [
            "CPU times: user 421 ms, sys: 9.99 ms, total: 431 ms\n",
            "Wall time: 436 ms\n"
          ],
          "name": "stdout"
        }
      ]
    },
    {
      "cell_type": "code",
      "metadata": {
        "id": "shHAitSvdAMw",
        "outputId": "46d42250-769f-473f-91c5-0d7c19165dd8",
        "colab": {
          "base_uri": "https://localhost:8080/",
          "height": 606
        }
      },
      "source": [
        "# next try\n",
        "pipe = make_pipeline(TfidfVectorizer(ngram_range=(1, 2)), LogisticRegression()) \n",
        "%time my_fit_cm(df, pipe, 'loc_gpe', \"target\")"
      ],
      "execution_count": 62,
      "outputs": [
        {
          "output_type": "display_data",
          "data": {
            "image/png": "[encoded data removed]",
            "text/plain": [
              "<Figure size 432x288 with 2 Axes>"
            ]
          },
          "metadata": {
            "tags": [],
            "needs_background": "light"
          }
        },
        {
          "output_type": "display_data",
          "data": {
            "image/png": "[encoded data removed]",
            "text/plain": [
              "<Figure size 432x288 with 2 Axes>"
            ]
          },
          "metadata": {
            "tags": [],
            "needs_background": "light"
          }
        },
        {
          "output_type": "stream",
          "text": [
            "CPU times: user 492 ms, sys: 6.97 ms, total: 499 ms\n",
            "Wall time: 510 ms\n"
          ],
          "name": "stdout"
        }
      ]
    },
    {
      "cell_type": "code",
      "metadata": {
        "id": "t_Enervicijg",
        "outputId": "eb5fde03-85b4-4e2a-a603-7e94b87f8625",
        "colab": {
          "base_uri": "https://localhost:8080/",
          "height": 606
        }
      },
      "source": [
        "# next try\n",
        "pipe = make_pipeline(CountVectorizer(), LogisticRegression()) \n",
        "%time my_fit_cm(df, pipe, 'loc_gpe', \"target\")"
      ],
      "execution_count": 63,
      "outputs": [
        {
          "output_type": "display_data",
          "data": {
            "image/png": "[encoded data removed]",
            "text/plain": [
              "<Figure size 432x288 with 2 Axes>"
            ]
          },
          "metadata": {
            "tags": [],
            "needs_background": "light"
          }
        },
        {
          "output_type": "display_data",
          "data": {
            "image/png": "[encoded data removed]",
            "text/plain": [
              "<Figure size 432x288 with 2 Axes>"
            ]
          },
          "metadata": {
            "tags": [],
            "needs_background": "light"
          }
        },
        {
          "output_type": "stream",
          "text": [
            "CPU times: user 454 ms, sys: 8.95 ms, total: 463 ms\n",
            "Wall time: 466 ms\n"
          ],
          "name": "stdout"
        }
      ]
    },
    {
      "cell_type": "code",
      "metadata": {
        "id": "Qf1U0UVfeRP-"
      },
      "source": [
        "######## ERRORS ####### will keine stings :///// #######\n",
        "df_ = my_df_spacy_locgpe(disaster_tweets.copy(), 'text')\n",
        "df  = my_df_spacy_date_time(df_ , 'text')\n",
        "feature_list = ['loc_gpe','date_time']\n",
        "target = \"target\"\n",
        "\n",
        "# next try\n",
        "pipe = make_pipeline( LogisticRegression() ) \n",
        "%time my_fit_cm(df, pipe, feature_list, \"target\")"
      ],
      "execution_count": null,
      "outputs": []
    },
    {
      "cell_type": "code",
      "metadata": {
        "id": "EnD9x6c3ltyB"
      },
      "source": [
        ""
      ],
      "execution_count": null,
      "outputs": []
    },
    {
      "cell_type": "code",
      "metadata": {
        "id": "Omwdwskrlgf7",
        "outputId": "e154751e-f856-4bca-b32b-9df875dbef0a",
        "colab": {
          "base_uri": "https://localhost:8080/",
          "height": 402
        }
      },
      "source": [
        "# some counts\n",
        "df = disaster_tweets.copy()\n",
        "df['_#_'] = df['text'].apply(lambda x: str(x).count('#') )\n",
        "df['_@_'] = df['text'].apply(lambda x: str(x).count('@') )\n",
        "df['_/_'] = df['text'].apply(lambda x: str(x).count('/') )\n",
        "df"
      ],
      "execution_count": 85,
      "outputs": [
        {
          "output_type": "execute_result",
          "data": {
            "text/html": [
              "<div>\n",
              "<style scoped>\n",
              "    .dataframe tbody tr th:only-of-type {\n",
              "        vertical-align: middle;\n",
              "    }\n",
              "\n",
              "    .dataframe tbody tr th {\n",
              "        vertical-align: top;\n",
              "    }\n",
              "\n",
              "    .dataframe thead th {\n",
              "        text-align: right;\n",
              "    }\n",
              "</style>\n",
              "<table border=\"1\" class=\"dataframe\">\n",
              "  <thead>\n",
              "    <tr style=\"text-align: right;\">\n",
              "      <th></th>\n",
              "      <th>id</th>\n",
              "      <th>keyword</th>\n",
              "      <th>location</th>\n",
              "      <th>text</th>\n",
              "      <th>target</th>\n",
              "      <th>_#_</th>\n",
              "      <th>_@_</th>\n",
              "      <th>_/_</th>\n",
              "    </tr>\n",
              "  </thead>\n",
              "  <tbody>\n",
              "    <tr>\n",
              "      <th>0</th>\n",
              "      <td>1</td>\n",
              "      <td>NaN</td>\n",
              "      <td>NaN</td>\n",
              "      <td>Our Deeds are the Reason of this #earthquake M...</td>\n",
              "      <td>1</td>\n",
              "      <td>1</td>\n",
              "      <td>0</td>\n",
              "      <td>0</td>\n",
              "    </tr>\n",
              "    <tr>\n",
              "      <th>1</th>\n",
              "      <td>4</td>\n",
              "      <td>NaN</td>\n",
              "      <td>NaN</td>\n",
              "      <td>Forest fire near La Ronge Sask. Canada</td>\n",
              "      <td>1</td>\n",
              "      <td>0</td>\n",
              "      <td>0</td>\n",
              "      <td>0</td>\n",
              "    </tr>\n",
              "    <tr>\n",
              "      <th>2</th>\n",
              "      <td>5</td>\n",
              "      <td>NaN</td>\n",
              "      <td>NaN</td>\n",
              "      <td>All residents asked to 'shelter in place' are ...</td>\n",
              "      <td>1</td>\n",
              "      <td>0</td>\n",
              "      <td>0</td>\n",
              "      <td>0</td>\n",
              "    </tr>\n",
              "    <tr>\n",
              "      <th>3</th>\n",
              "      <td>6</td>\n",
              "      <td>NaN</td>\n",
              "      <td>NaN</td>\n",
              "      <td>13,000 people receive #wildfires evacuation or...</td>\n",
              "      <td>1</td>\n",
              "      <td>1</td>\n",
              "      <td>0</td>\n",
              "      <td>0</td>\n",
              "    </tr>\n",
              "    <tr>\n",
              "      <th>4</th>\n",
              "      <td>7</td>\n",
              "      <td>NaN</td>\n",
              "      <td>NaN</td>\n",
              "      <td>Just got sent this photo from Ruby #Alaska as ...</td>\n",
              "      <td>1</td>\n",
              "      <td>2</td>\n",
              "      <td>0</td>\n",
              "      <td>0</td>\n",
              "    </tr>\n",
              "    <tr>\n",
              "      <th>...</th>\n",
              "      <td>...</td>\n",
              "      <td>...</td>\n",
              "      <td>...</td>\n",
              "      <td>...</td>\n",
              "      <td>...</td>\n",
              "      <td>...</td>\n",
              "      <td>...</td>\n",
              "      <td>...</td>\n",
              "    </tr>\n",
              "    <tr>\n",
              "      <th>7608</th>\n",
              "      <td>10869</td>\n",
              "      <td>NaN</td>\n",
              "      <td>NaN</td>\n",
              "      <td>Two giant cranes holding a bridge collapse int...</td>\n",
              "      <td>1</td>\n",
              "      <td>0</td>\n",
              "      <td>0</td>\n",
              "      <td>3</td>\n",
              "    </tr>\n",
              "    <tr>\n",
              "      <th>7609</th>\n",
              "      <td>10870</td>\n",
              "      <td>NaN</td>\n",
              "      <td>NaN</td>\n",
              "      <td>@aria_ahrary @TheTawniest The out of control w...</td>\n",
              "      <td>1</td>\n",
              "      <td>0</td>\n",
              "      <td>2</td>\n",
              "      <td>0</td>\n",
              "    </tr>\n",
              "    <tr>\n",
              "      <th>7610</th>\n",
              "      <td>10871</td>\n",
              "      <td>NaN</td>\n",
              "      <td>NaN</td>\n",
              "      <td>M1.94 [01:04 UTC]?5km S of Volcano Hawaii. htt...</td>\n",
              "      <td>1</td>\n",
              "      <td>0</td>\n",
              "      <td>0</td>\n",
              "      <td>3</td>\n",
              "    </tr>\n",
              "    <tr>\n",
              "      <th>7611</th>\n",
              "      <td>10872</td>\n",
              "      <td>NaN</td>\n",
              "      <td>NaN</td>\n",
              "      <td>Police investigating after an e-bike collided ...</td>\n",
              "      <td>1</td>\n",
              "      <td>0</td>\n",
              "      <td>0</td>\n",
              "      <td>0</td>\n",
              "    </tr>\n",
              "    <tr>\n",
              "      <th>7612</th>\n",
              "      <td>10873</td>\n",
              "      <td>NaN</td>\n",
              "      <td>NaN</td>\n",
              "      <td>The Latest: More Homes Razed by Northern Calif...</td>\n",
              "      <td>1</td>\n",
              "      <td>0</td>\n",
              "      <td>0</td>\n",
              "      <td>3</td>\n",
              "    </tr>\n",
              "  </tbody>\n",
              "</table>\n",
              "<p>7613 rows × 8 columns</p>\n",
              "</div>"
            ],
            "text/plain": [
              "         id keyword location  ... _#_  _@_  _/_\n",
              "0         1     NaN      NaN  ...   1    0    0\n",
              "1         4     NaN      NaN  ...   0    0    0\n",
              "2         5     NaN      NaN  ...   0    0    0\n",
              "3         6     NaN      NaN  ...   1    0    0\n",
              "4         7     NaN      NaN  ...   2    0    0\n",
              "...     ...     ...      ...  ...  ..  ...  ...\n",
              "7608  10869     NaN      NaN  ...   0    0    3\n",
              "7609  10870     NaN      NaN  ...   0    2    0\n",
              "7610  10871     NaN      NaN  ...   0    0    3\n",
              "7611  10872     NaN      NaN  ...   0    0    0\n",
              "7612  10873     NaN      NaN  ...   0    0    3\n",
              "\n",
              "[7613 rows x 8 columns]"
            ]
          },
          "metadata": {
            "tags": []
          },
          "execution_count": 85
        }
      ]
    },
    {
      "cell_type": "code",
      "metadata": {
        "id": "8GXGD6phmynQ",
        "outputId": "09c430a7-4c8d-40c5-dd76-c9ae880ffa26",
        "colab": {
          "base_uri": "https://localhost:8080/",
          "height": 606
        }
      },
      "source": [
        "feature_list = ['_#_','_@_','_/_']\n",
        "# next try\n",
        "pipe = make_pipeline( LogisticRegression() ) \n",
        "%time my_fit_cm(df, pipe, feature_list, \"target\")"
      ],
      "execution_count": 72,
      "outputs": [
        {
          "output_type": "display_data",
          "data": {
            "image/png": "[encoded data removed]",
            "text/plain": [
              "<Figure size 432x288 with 2 Axes>"
            ]
          },
          "metadata": {
            "tags": [],
            "needs_background": "light"
          }
        },
        {
          "output_type": "display_data",
          "data": {
            "image/png": "[encoded data removed]",
            "text/plain": [
              "<Figure size 432x288 with 2 Axes>"
            ]
          },
          "metadata": {
            "tags": [],
            "needs_background": "light"
          }
        },
        {
          "output_type": "stream",
          "text": [
            "CPU times: user 502 ms, sys: 159 ms, total: 661 ms\n",
            "Wall time: 469 ms\n"
          ],
          "name": "stdout"
        }
      ]
    },
    {
      "cell_type": "markdown",
      "metadata": {
        "id": "cgvgPQvHKQF0"
      },
      "source": [
        "# Final Model"
      ]
    },
    {
      "cell_type": "code",
      "metadata": {
        "id": "bF9u3-06KTYW"
      },
      "source": [
        "# Performance"
      ],
      "execution_count": 52,
      "outputs": []
    }
  ]
}